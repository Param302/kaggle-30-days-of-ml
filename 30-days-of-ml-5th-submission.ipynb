{
 "cells": [
  {
   "cell_type": "markdown",
   "id": "3d36c128",
   "metadata": {
    "papermill": {
     "duration": 0.014344,
     "end_time": "2021-08-30T15:59:54.000095",
     "exception": false,
     "start_time": "2021-08-30T15:59:53.985751",
     "status": "completed"
    },
    "tags": []
   },
   "source": [
    "## Importing required modules"
   ]
  },
  {
   "cell_type": "code",
   "execution_count": 1,
   "id": "95163613",
   "metadata": {
    "execution": {
     "iopub.execute_input": "2021-08-30T15:59:54.032687Z",
     "iopub.status.busy": "2021-08-30T15:59:54.030633Z",
     "iopub.status.idle": "2021-08-30T15:59:55.514421Z",
     "shell.execute_reply": "2021-08-30T15:59:55.513206Z",
     "shell.execute_reply.started": "2021-08-30T15:48:56.621752Z"
    },
    "papermill": {
     "duration": 1.501957,
     "end_time": "2021-08-30T15:59:55.514607",
     "exception": false,
     "start_time": "2021-08-30T15:59:54.012650",
     "status": "completed"
    },
    "tags": []
   },
   "outputs": [],
   "source": [
    "# importing required modules\n",
    "import math\n",
    "import numpy as np\n",
    "import pandas as pd\n",
    "from xgboost import XGBRegressor\n",
    "from sklearn.pipeline import Pipeline\n",
    "from sklearn.impute import SimpleImputer\n",
    "from sklearn.compose import ColumnTransformer\n",
    "from sklearn.metrics import mean_squared_error\n",
    "from sklearn.preprocessing import OneHotEncoder\n",
    "from sklearn.model_selection import train_test_split, KFold"
   ]
  },
  {
   "cell_type": "markdown",
   "id": "c27c2605",
   "metadata": {
    "papermill": {
     "duration": 0.012809,
     "end_time": "2021-08-30T15:59:55.540666",
     "exception": false,
     "start_time": "2021-08-30T15:59:55.527857",
     "status": "completed"
    },
    "tags": []
   },
   "source": [
    "## Loading data"
   ]
  },
  {
   "cell_type": "code",
   "execution_count": 2,
   "id": "04272c5a",
   "metadata": {
    "execution": {
     "iopub.execute_input": "2021-08-30T15:59:55.572142Z",
     "iopub.status.busy": "2021-08-30T15:59:55.571458Z",
     "iopub.status.idle": "2021-08-30T15:59:59.086800Z",
     "shell.execute_reply": "2021-08-30T15:59:59.085797Z",
     "shell.execute_reply.started": "2021-08-30T15:55:02.218626Z"
    },
    "papermill": {
     "duration": 3.533025,
     "end_time": "2021-08-30T15:59:59.086961",
     "exception": false,
     "start_time": "2021-08-30T15:59:55.553936",
     "status": "completed"
    },
    "tags": []
   },
   "outputs": [],
   "source": [
    "train_data = pd.read_csv(\"../input/30-days-of-ml/train.csv\")\n",
    "test_data = pd.read_csv(\"../input/30-days-of-ml/test.csv\")"
   ]
  },
  {
   "cell_type": "markdown",
   "id": "95be00db",
   "metadata": {
    "papermill": {
     "duration": 0.013662,
     "end_time": "2021-08-30T15:59:59.113520",
     "exception": false,
     "start_time": "2021-08-30T15:59:59.099858",
     "status": "completed"
    },
    "tags": []
   },
   "source": [
    "#### Making K-fold column in training data"
   ]
  },
  {
   "cell_type": "code",
   "execution_count": 3,
   "id": "dd43aaae",
   "metadata": {
    "execution": {
     "iopub.execute_input": "2021-08-30T15:59:59.148776Z",
     "iopub.status.busy": "2021-08-30T15:59:59.147952Z",
     "iopub.status.idle": "2021-08-30T15:59:59.155692Z",
     "shell.execute_reply": "2021-08-30T15:59:59.155117Z",
     "shell.execute_reply.started": "2021-08-30T15:49:01.116905Z"
    },
    "papermill": {
     "duration": 0.029528,
     "end_time": "2021-08-30T15:59:59.155825",
     "exception": false,
     "start_time": "2021-08-30T15:59:59.126297",
     "status": "completed"
    },
    "tags": []
   },
   "outputs": [],
   "source": [
    "train_data[\"kfold\"] = -1"
   ]
  },
  {
   "cell_type": "markdown",
   "id": "2bcda55a",
   "metadata": {
    "papermill": {
     "duration": 0.012628,
     "end_time": "2021-08-30T15:59:59.180744",
     "exception": false,
     "start_time": "2021-08-30T15:59:59.168116",
     "status": "completed"
    },
    "tags": []
   },
   "source": [
    "## K-Fold model, where fold = 5"
   ]
  },
  {
   "cell_type": "code",
   "execution_count": 4,
   "id": "f0c8e098",
   "metadata": {
    "execution": {
     "iopub.execute_input": "2021-08-30T15:59:59.212651Z",
     "iopub.status.busy": "2021-08-30T15:59:59.211649Z",
     "iopub.status.idle": "2021-08-30T15:59:59.259265Z",
     "shell.execute_reply": "2021-08-30T15:59:59.258683Z",
     "shell.execute_reply.started": "2021-08-30T15:55:20.198592Z"
    },
    "papermill": {
     "duration": 0.065842,
     "end_time": "2021-08-30T15:59:59.259426",
     "exception": false,
     "start_time": "2021-08-30T15:59:59.193584",
     "status": "completed"
    },
    "tags": []
   },
   "outputs": [],
   "source": [
    "Kf_model = KFold(n_splits=5, random_state=1, shuffle=True)\n",
    "for fold, (train_index, valid_index) in enumerate(Kf_model.split(X=train_data)):\n",
    "    train_data.loc[valid_index, \"kfold\"] = fold"
   ]
  },
  {
   "cell_type": "code",
   "execution_count": 5,
   "id": "c0841529",
   "metadata": {
    "execution": {
     "iopub.execute_input": "2021-08-30T15:59:59.296620Z",
     "iopub.status.busy": "2021-08-30T15:59:59.295622Z",
     "iopub.status.idle": "2021-08-30T15:59:59.332468Z",
     "shell.execute_reply": "2021-08-30T15:59:59.333002Z",
     "shell.execute_reply.started": "2021-08-30T15:55:16.690706Z"
    },
    "papermill": {
     "duration": 0.061137,
     "end_time": "2021-08-30T15:59:59.333156",
     "exception": false,
     "start_time": "2021-08-30T15:59:59.272019",
     "status": "completed"
    },
    "tags": []
   },
   "outputs": [
    {
     "name": "stdout",
     "output_type": "stream",
     "text": [
      "(300000, 27)\n"
     ]
    },
    {
     "data": {
      "text/html": [
       "<div>\n",
       "<style scoped>\n",
       "    .dataframe tbody tr th:only-of-type {\n",
       "        vertical-align: middle;\n",
       "    }\n",
       "\n",
       "    .dataframe tbody tr th {\n",
       "        vertical-align: top;\n",
       "    }\n",
       "\n",
       "    .dataframe thead th {\n",
       "        text-align: right;\n",
       "    }\n",
       "</style>\n",
       "<table border=\"1\" class=\"dataframe\">\n",
       "  <thead>\n",
       "    <tr style=\"text-align: right;\">\n",
       "      <th></th>\n",
       "      <th>id</th>\n",
       "      <th>cat0</th>\n",
       "      <th>cat1</th>\n",
       "      <th>cat2</th>\n",
       "      <th>cat3</th>\n",
       "      <th>cat4</th>\n",
       "      <th>cat5</th>\n",
       "      <th>cat6</th>\n",
       "      <th>cat7</th>\n",
       "      <th>cat8</th>\n",
       "      <th>...</th>\n",
       "      <th>cont6</th>\n",
       "      <th>cont7</th>\n",
       "      <th>cont8</th>\n",
       "      <th>cont9</th>\n",
       "      <th>cont10</th>\n",
       "      <th>cont11</th>\n",
       "      <th>cont12</th>\n",
       "      <th>cont13</th>\n",
       "      <th>target</th>\n",
       "      <th>kfold</th>\n",
       "    </tr>\n",
       "  </thead>\n",
       "  <tbody>\n",
       "    <tr>\n",
       "      <th>0</th>\n",
       "      <td>1</td>\n",
       "      <td>B</td>\n",
       "      <td>B</td>\n",
       "      <td>B</td>\n",
       "      <td>C</td>\n",
       "      <td>B</td>\n",
       "      <td>B</td>\n",
       "      <td>A</td>\n",
       "      <td>E</td>\n",
       "      <td>C</td>\n",
       "      <td>...</td>\n",
       "      <td>0.160266</td>\n",
       "      <td>0.310921</td>\n",
       "      <td>0.389470</td>\n",
       "      <td>0.267559</td>\n",
       "      <td>0.237281</td>\n",
       "      <td>0.377873</td>\n",
       "      <td>0.322401</td>\n",
       "      <td>0.869850</td>\n",
       "      <td>8.113634</td>\n",
       "      <td>4</td>\n",
       "    </tr>\n",
       "    <tr>\n",
       "      <th>1</th>\n",
       "      <td>2</td>\n",
       "      <td>B</td>\n",
       "      <td>B</td>\n",
       "      <td>A</td>\n",
       "      <td>A</td>\n",
       "      <td>B</td>\n",
       "      <td>D</td>\n",
       "      <td>A</td>\n",
       "      <td>F</td>\n",
       "      <td>A</td>\n",
       "      <td>...</td>\n",
       "      <td>0.558922</td>\n",
       "      <td>0.516294</td>\n",
       "      <td>0.594928</td>\n",
       "      <td>0.341439</td>\n",
       "      <td>0.906013</td>\n",
       "      <td>0.921701</td>\n",
       "      <td>0.261975</td>\n",
       "      <td>0.465083</td>\n",
       "      <td>8.481233</td>\n",
       "      <td>0</td>\n",
       "    </tr>\n",
       "    <tr>\n",
       "      <th>2</th>\n",
       "      <td>3</td>\n",
       "      <td>A</td>\n",
       "      <td>A</td>\n",
       "      <td>A</td>\n",
       "      <td>C</td>\n",
       "      <td>B</td>\n",
       "      <td>D</td>\n",
       "      <td>A</td>\n",
       "      <td>D</td>\n",
       "      <td>A</td>\n",
       "      <td>...</td>\n",
       "      <td>0.375348</td>\n",
       "      <td>0.902567</td>\n",
       "      <td>0.555205</td>\n",
       "      <td>0.843531</td>\n",
       "      <td>0.748809</td>\n",
       "      <td>0.620126</td>\n",
       "      <td>0.541474</td>\n",
       "      <td>0.763846</td>\n",
       "      <td>8.364351</td>\n",
       "      <td>4</td>\n",
       "    </tr>\n",
       "    <tr>\n",
       "      <th>3</th>\n",
       "      <td>4</td>\n",
       "      <td>B</td>\n",
       "      <td>B</td>\n",
       "      <td>A</td>\n",
       "      <td>C</td>\n",
       "      <td>B</td>\n",
       "      <td>D</td>\n",
       "      <td>A</td>\n",
       "      <td>E</td>\n",
       "      <td>C</td>\n",
       "      <td>...</td>\n",
       "      <td>0.239061</td>\n",
       "      <td>0.732948</td>\n",
       "      <td>0.679618</td>\n",
       "      <td>0.574844</td>\n",
       "      <td>0.346010</td>\n",
       "      <td>0.714610</td>\n",
       "      <td>0.540150</td>\n",
       "      <td>0.280682</td>\n",
       "      <td>8.049253</td>\n",
       "      <td>1</td>\n",
       "    </tr>\n",
       "    <tr>\n",
       "      <th>4</th>\n",
       "      <td>6</td>\n",
       "      <td>A</td>\n",
       "      <td>A</td>\n",
       "      <td>A</td>\n",
       "      <td>C</td>\n",
       "      <td>B</td>\n",
       "      <td>D</td>\n",
       "      <td>A</td>\n",
       "      <td>E</td>\n",
       "      <td>A</td>\n",
       "      <td>...</td>\n",
       "      <td>0.420667</td>\n",
       "      <td>0.648182</td>\n",
       "      <td>0.684501</td>\n",
       "      <td>0.956692</td>\n",
       "      <td>1.000773</td>\n",
       "      <td>0.776742</td>\n",
       "      <td>0.625849</td>\n",
       "      <td>0.250823</td>\n",
       "      <td>7.972260</td>\n",
       "      <td>0</td>\n",
       "    </tr>\n",
       "  </tbody>\n",
       "</table>\n",
       "<p>5 rows × 27 columns</p>\n",
       "</div>"
      ],
      "text/plain": [
       "   id cat0 cat1 cat2 cat3 cat4 cat5 cat6 cat7 cat8  ...     cont6     cont7  \\\n",
       "0   1    B    B    B    C    B    B    A    E    C  ...  0.160266  0.310921   \n",
       "1   2    B    B    A    A    B    D    A    F    A  ...  0.558922  0.516294   \n",
       "2   3    A    A    A    C    B    D    A    D    A  ...  0.375348  0.902567   \n",
       "3   4    B    B    A    C    B    D    A    E    C  ...  0.239061  0.732948   \n",
       "4   6    A    A    A    C    B    D    A    E    A  ...  0.420667  0.648182   \n",
       "\n",
       "      cont8     cont9    cont10    cont11    cont12    cont13    target  kfold  \n",
       "0  0.389470  0.267559  0.237281  0.377873  0.322401  0.869850  8.113634      4  \n",
       "1  0.594928  0.341439  0.906013  0.921701  0.261975  0.465083  8.481233      0  \n",
       "2  0.555205  0.843531  0.748809  0.620126  0.541474  0.763846  8.364351      4  \n",
       "3  0.679618  0.574844  0.346010  0.714610  0.540150  0.280682  8.049253      1  \n",
       "4  0.684501  0.956692  1.000773  0.776742  0.625849  0.250823  7.972260      0  \n",
       "\n",
       "[5 rows x 27 columns]"
      ]
     },
     "execution_count": 5,
     "metadata": {},
     "output_type": "execute_result"
    }
   ],
   "source": [
    "print(train_data.shape)\n",
    "train_data.head()"
   ]
  },
  {
   "cell_type": "markdown",
   "id": "e70ecace",
   "metadata": {
    "papermill": {
     "duration": 0.012861,
     "end_time": "2021-08-30T15:59:59.360394",
     "exception": false,
     "start_time": "2021-08-30T15:59:59.347533",
     "status": "completed"
    },
    "tags": []
   },
   "source": [
    "### Categorical data column and Numerical data column"
   ]
  },
  {
   "cell_type": "code",
   "execution_count": 6,
   "id": "3dcef21b",
   "metadata": {
    "execution": {
     "iopub.execute_input": "2021-08-30T15:59:59.427644Z",
     "iopub.status.busy": "2021-08-30T15:59:59.425505Z",
     "iopub.status.idle": "2021-08-30T15:59:59.428453Z",
     "shell.execute_reply": "2021-08-30T15:59:59.428987Z",
     "shell.execute_reply.started": "2021-08-30T15:57:06.471977Z"
    },
    "papermill": {
     "duration": 0.053682,
     "end_time": "2021-08-30T15:59:59.429164",
     "exception": false,
     "start_time": "2021-08-30T15:59:59.375482",
     "status": "completed"
    },
    "tags": []
   },
   "outputs": [],
   "source": [
    "# Prediction target and features\n",
    "cat_cols = ['cat0', 'cat1', 'cat2', 'cat3', 'cat4', 'cat5', 'cat6', 'cat7', 'cat8', 'cat9']\n",
    "num_cols = ['cont0', 'cont1', 'cont2', 'cont3', 'cont4', 'cont5', 'cont6', 'cont7', 'cont8', 'cont9', 'cont10', 'cont11', 'cont12', 'cont13']\n",
    "test_data_2 = test_data[cat_cols + num_cols]"
   ]
  },
  {
   "cell_type": "markdown",
   "id": "c735580e",
   "metadata": {
    "papermill": {
     "duration": 0.013787,
     "end_time": "2021-08-30T15:59:59.457218",
     "exception": false,
     "start_time": "2021-08-30T15:59:59.443431",
     "status": "completed"
    },
    "tags": []
   },
   "source": [
    "## Getting final predictions & RMSE on each fold"
   ]
  },
  {
   "cell_type": "code",
   "execution_count": 7,
   "id": "824dbd67",
   "metadata": {
    "execution": {
     "iopub.execute_input": "2021-08-30T15:59:59.500875Z",
     "iopub.status.busy": "2021-08-30T15:59:59.500062Z",
     "iopub.status.idle": "2021-08-30T16:00:41.341207Z",
     "shell.execute_reply": "2021-08-30T16:00:41.340632Z",
     "shell.execute_reply.started": "2021-08-30T15:57:08.416911Z"
    },
    "papermill": {
     "duration": 41.870627,
     "end_time": "2021-08-30T16:00:41.341405",
     "exception": false,
     "start_time": "2021-08-30T15:59:59.470778",
     "status": "completed"
    },
    "tags": []
   },
   "outputs": [
    {
     "name": "stdout",
     "output_type": "stream",
     "text": [
      "Fold: 0, RMSE: 0.7195125328386832, Predictions: [7.9917154 8.342595  8.400791  ... 8.396838  8.145232  7.946934 ]\n",
      "Fold: 1, RMSE: 0.7274188326325031, Predictions: [8.0653305 8.291491  8.350918  ... 8.417305  8.038082  8.004667 ]\n",
      "Fold: 2, RMSE: 0.7225344716276871, Predictions: [8.034033 8.378964 8.350615 ... 8.399388 8.032452 8.098599]\n",
      "Fold: 3, RMSE: 0.7218584158950778, Predictions: [8.004924 8.319611 8.323311 ... 8.350578 8.101683 7.872486]\n",
      "Fold: 4, RMSE: 0.717712085061957, Predictions: [8.052923 8.386763 8.353857 ... 8.354397 8.325792 8.13462 ]\n"
     ]
    }
   ],
   "source": [
    "final_predictions = []\n",
    "rmse_scores = []\n",
    "\n",
    "# As total folds are 5, getting predictions and rmse at every fold\n",
    "for fold in range(5):\n",
    "    # Splitting the training and validating data according to fold and kfold\n",
    "    X_train = train_data[train_data.kfold != fold].reset_index(drop=True)\n",
    "    X_valid = train_data[train_data.kfold == fold].reset_index(drop=True)\n",
    "    \n",
    "    X_test = test_data_2.copy()\n",
    "    \n",
    "    # setting the target\n",
    "    y_train = X_train.target\n",
    "    y_valid = X_valid.target\n",
    "    \n",
    "    # setting the training data\n",
    "    X_train = X_train[cat_cols + num_cols]\n",
    "    X_valid = X_valid[cat_cols + num_cols]\n",
    "    \n",
    "    # One Hot Encoding on categorical data\n",
    "    OH_encoder = OneHotEncoder(handle_unknown=\"ignore\", sparse=False)\n",
    "    \n",
    "    # fitting and transforming the training and test data\n",
    "    OH_encoder.fit(X_train[cat_cols])\n",
    "    OH_X_train = OH_encoder.transform(X_train[cat_cols])\n",
    "    OH_X_valid = OH_encoder.transform(X_valid[cat_cols])\n",
    "    OH_X_test = OH_encoder.transform(X_test[cat_cols])\n",
    "    \n",
    "    # Naming the one hot encoded columns\n",
    "    OH_X_train = pd.DataFrame(OH_X_train, columns=[f\"ohe_{i}\" for i in range(OH_X_train.shape[1])])\n",
    "    OH_X_valid = pd.DataFrame(OH_X_valid, columns=[f\"ohe_{i}\" for i in range(OH_X_valid.shape[1])])\n",
    "    OH_X_test = pd.DataFrame(OH_X_test, columns=[f\"ohe_{i}\" for i in range(OH_X_test.shape[1])])\n",
    "    \n",
    "    # Adding one hot encoded columns to main data (training, validating, test)\n",
    "    X_train = pd.concat([X_train, OH_X_train], axis=1)\n",
    "    X_valid = pd.concat([X_valid, OH_X_valid], axis=1)\n",
    "    X_test = pd.concat([X_test, OH_X_test], axis=1)\n",
    "    \n",
    "    # Dropping the categorical columns, as their one hot encoded columns are added to main data\n",
    "    X_train = X_train.drop(cat_cols, axis=1)\n",
    "    X_valid = X_valid.drop(cat_cols, axis=1)\n",
    "    X_test = X_test.drop(cat_cols, axis=1)\n",
    "    \n",
    "    # Making XGBoost Regressor model\n",
    "    model = XGBRegressor(n_estimators=500, learning_rate=0.05, random_state=fold, tree_method='gpu_hist', gpu_id=0, predictor=\"gpu_predictor\")\n",
    "    model.fit(X_train, y_train, early_stopping_rounds=5, eval_set=[(X_valid, y_valid)], verbose=False)\n",
    "    \n",
    "    # pridicting the target on training and test data\n",
    "    train_preds = model.predict(X_valid)\n",
    "    test_preds = model.predict(X_test)\n",
    "    final_predictions.append(test_preds)\n",
    "    \n",
    "    # RMSE at each prediction\n",
    "    rmse = math.sqrt(mean_squared_error(y_valid, train_preds))\n",
    "    rmse_scores.append(rmse)\n",
    "    \n",
    "    print(f\"Fold: {fold}, RMSE: {rmse}, Predictions: {test_preds}\")\n"
   ]
  },
  {
   "cell_type": "markdown",
   "id": "4f84cb5a",
   "metadata": {
    "papermill": {
     "duration": 0.016261,
     "end_time": "2021-08-30T16:00:41.374407",
     "exception": false,
     "start_time": "2021-08-30T16:00:41.358146",
     "status": "completed"
    },
    "tags": []
   },
   "source": [
    "### Getting the final predicitons of target from `final_predictions` arrays of arrays"
   ]
  },
  {
   "cell_type": "code",
   "execution_count": 8,
   "id": "c23cb952",
   "metadata": {
    "execution": {
     "iopub.execute_input": "2021-08-30T16:00:41.412645Z",
     "iopub.status.busy": "2021-08-30T16:00:41.411419Z",
     "iopub.status.idle": "2021-08-30T16:00:41.423936Z",
     "shell.execute_reply": "2021-08-30T16:00:41.423360Z",
     "shell.execute_reply.started": "2021-08-30T15:57:46.443117Z"
    },
    "papermill": {
     "duration": 0.033809,
     "end_time": "2021-08-30T16:00:41.424132",
     "exception": false,
     "start_time": "2021-08-30T16:00:41.390323",
     "status": "completed"
    },
    "tags": []
   },
   "outputs": [
    {
     "data": {
      "text/plain": [
       "array([8.029785, 8.343884, 8.355899, ..., 8.383701, 8.128649, 8.011461],\n",
       "      dtype=float32)"
      ]
     },
     "execution_count": 8,
     "metadata": {},
     "output_type": "execute_result"
    }
   ],
   "source": [
    "final_predictions =  np.mean(np.column_stack(final_predictions), axis=1)\n",
    "final_predictions"
   ]
  },
  {
   "cell_type": "markdown",
   "id": "a8cb07c8",
   "metadata": {
    "papermill": {
     "duration": 0.016436,
     "end_time": "2021-08-30T16:00:41.458594",
     "exception": false,
     "start_time": "2021-08-30T16:00:41.442158",
     "status": "completed"
    },
    "tags": []
   },
   "source": [
    "## Submitting the final predictions"
   ]
  },
  {
   "cell_type": "code",
   "execution_count": 9,
   "id": "dd675d6d",
   "metadata": {
    "execution": {
     "iopub.execute_input": "2021-08-30T16:00:41.498396Z",
     "iopub.status.busy": "2021-08-30T16:00:41.497662Z",
     "iopub.status.idle": "2021-08-30T16:00:42.059663Z",
     "shell.execute_reply": "2021-08-30T16:00:42.059001Z",
     "shell.execute_reply.started": "2021-08-30T15:59:13.081380Z"
    },
    "papermill": {
     "duration": 0.584426,
     "end_time": "2021-08-30T16:00:42.059810",
     "exception": false,
     "start_time": "2021-08-30T16:00:41.475384",
     "status": "completed"
    },
    "tags": []
   },
   "outputs": [],
   "source": [
    "# Submitting predicted target to `submission.csv`\n",
    "output = pd.DataFrame({'Id': test_data.id,'target': final_predictions})\n",
    "output.to_csv('submission.csv', index=False)"
   ]
  }
 ],
 "metadata": {
  "kernelspec": {
   "display_name": "Python 3",
   "language": "python",
   "name": "python3"
  },
  "language_info": {
   "codemirror_mode": {
    "name": "ipython",
    "version": 3
   },
   "file_extension": ".py",
   "mimetype": "text/x-python",
   "name": "python",
   "nbconvert_exporter": "python",
   "pygments_lexer": "ipython3",
   "version": "3.7.10"
  },
  "papermill": {
   "default_parameters": {},
   "duration": 57.393598,
   "end_time": "2021-08-30T16:00:42.787188",
   "environment_variables": {},
   "exception": null,
   "input_path": "__notebook__.ipynb",
   "output_path": "__notebook__.ipynb",
   "parameters": {},
   "start_time": "2021-08-30T15:59:45.393590",
   "version": "2.3.3"
  }
 },
 "nbformat": 4,
 "nbformat_minor": 5
}
