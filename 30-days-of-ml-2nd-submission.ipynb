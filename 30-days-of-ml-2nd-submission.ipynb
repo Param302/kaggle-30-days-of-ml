{
 "cells": [
  {
   "cell_type": "markdown",
   "id": "b76ef150",
   "metadata": {
    "papermill": {
     "duration": 0.020304,
     "end_time": "2021-08-30T06:06:02.205919",
     "exception": false,
     "start_time": "2021-08-30T06:06:02.185615",
     "status": "completed"
    },
    "tags": []
   },
   "source": [
    "## Importing required modules"
   ]
  },
  {
   "cell_type": "code",
   "execution_count": 1,
   "id": "11638f19",
   "metadata": {
    "execution": {
     "iopub.execute_input": "2021-08-30T06:06:02.256820Z",
     "iopub.status.busy": "2021-08-30T06:06:02.255942Z",
     "iopub.status.idle": "2021-08-30T06:06:03.472019Z",
     "shell.execute_reply": "2021-08-30T06:06:03.471195Z",
     "shell.execute_reply.started": "2021-08-30T04:22:38.574495Z"
    },
    "papermill": {
     "duration": 1.247834,
     "end_time": "2021-08-30T06:06:03.472254",
     "exception": false,
     "start_time": "2021-08-30T06:06:02.224420",
     "status": "completed"
    },
    "tags": []
   },
   "outputs": [],
   "source": [
    "# importing required modules\n",
    "import math\n",
    "import numpy as np\n",
    "import pandas as pd\n",
    "from sklearn.pipeline import Pipeline\n",
    "from sklearn.impute import SimpleImputer\n",
    "from sklearn.compose import ColumnTransformer\n",
    "from sklearn.preprocessing import OneHotEncoder\n",
    "from sklearn.ensemble import RandomForestRegressor\n",
    "from sklearn.metrics import mean_absolute_error, mean_squared_error\n",
    "from sklearn.model_selection import train_test_split, cross_val_score"
   ]
  },
  {
   "cell_type": "markdown",
   "id": "d9f71d33",
   "metadata": {
    "papermill": {
     "duration": 0.017601,
     "end_time": "2021-08-30T06:06:03.507965",
     "exception": false,
     "start_time": "2021-08-30T06:06:03.490364",
     "status": "completed"
    },
    "tags": []
   },
   "source": [
    "## Loading data"
   ]
  },
  {
   "cell_type": "code",
   "execution_count": 2,
   "id": "4fef052f",
   "metadata": {
    "execution": {
     "iopub.execute_input": "2021-08-30T06:06:03.550997Z",
     "iopub.status.busy": "2021-08-30T06:06:03.549754Z",
     "iopub.status.idle": "2021-08-30T06:06:08.058046Z",
     "shell.execute_reply": "2021-08-30T06:06:08.057337Z",
     "shell.execute_reply.started": "2021-08-30T04:22:39.210899Z"
    },
    "papermill": {
     "duration": 4.532348,
     "end_time": "2021-08-30T06:06:08.058263",
     "exception": false,
     "start_time": "2021-08-30T06:06:03.525915",
     "status": "completed"
    },
    "tags": []
   },
   "outputs": [],
   "source": [
    "train_data = pd.read_csv(\"../input/30-days-of-ml/train.csv\")\n",
    "test_data = pd.read_csv(\"../input/30-days-of-ml/test.csv\")\n",
    "sample_subm_data = pd.read_csv(\"../input/30-days-of-ml/sample_submission.csv\")"
   ]
  },
  {
   "cell_type": "markdown",
   "id": "06dbe06a",
   "metadata": {
    "papermill": {
     "duration": 0.017469,
     "end_time": "2021-08-30T06:06:08.094104",
     "exception": false,
     "start_time": "2021-08-30T06:06:08.076635",
     "status": "completed"
    },
    "tags": []
   },
   "source": [
    "### Columns"
   ]
  },
  {
   "cell_type": "code",
   "execution_count": 3,
   "id": "91002a82",
   "metadata": {
    "execution": {
     "iopub.execute_input": "2021-08-30T06:06:08.133943Z",
     "iopub.status.busy": "2021-08-30T06:06:08.132975Z",
     "iopub.status.idle": "2021-08-30T06:06:08.143224Z",
     "shell.execute_reply": "2021-08-30T06:06:08.142539Z",
     "shell.execute_reply.started": "2021-08-30T04:22:41.614838Z"
    },
    "papermill": {
     "duration": 0.031311,
     "end_time": "2021-08-30T06:06:08.143388",
     "exception": false,
     "start_time": "2021-08-30T06:06:08.112077",
     "status": "completed"
    },
    "tags": []
   },
   "outputs": [
    {
     "data": {
      "text/plain": [
       "Index(['id', 'cat0', 'cat1', 'cat2', 'cat3', 'cat4', 'cat5', 'cat6', 'cat7',\n",
       "       'cat8', 'cat9', 'cont0', 'cont1', 'cont2', 'cont3', 'cont4', 'cont5',\n",
       "       'cont6', 'cont7', 'cont8', 'cont9', 'cont10', 'cont11', 'cont12',\n",
       "       'cont13', 'target'],\n",
       "      dtype='object')"
      ]
     },
     "execution_count": 3,
     "metadata": {},
     "output_type": "execute_result"
    }
   ],
   "source": [
    "train_data.columns"
   ]
  },
  {
   "cell_type": "markdown",
   "id": "ee044d42",
   "metadata": {
    "papermill": {
     "duration": 0.018143,
     "end_time": "2021-08-30T06:06:08.180533",
     "exception": false,
     "start_time": "2021-08-30T06:06:08.162390",
     "status": "completed"
    },
    "tags": []
   },
   "source": [
    "## Predicting target and features"
   ]
  },
  {
   "cell_type": "code",
   "execution_count": 4,
   "id": "c57c1484",
   "metadata": {
    "execution": {
     "iopub.execute_input": "2021-08-30T06:06:08.288461Z",
     "iopub.status.busy": "2021-08-30T06:06:08.234219Z",
     "iopub.status.idle": "2021-08-30T06:06:08.291829Z",
     "shell.execute_reply": "2021-08-30T06:06:08.291328Z",
     "shell.execute_reply.started": "2021-08-30T04:22:41.626388Z"
    },
    "papermill": {
     "duration": 0.092647,
     "end_time": "2021-08-30T06:06:08.291990",
     "exception": false,
     "start_time": "2021-08-30T06:06:08.199343",
     "status": "completed"
    },
    "tags": []
   },
   "outputs": [],
   "source": [
    "# Prediction target and features\n",
    "categorical_features = ['cat0', 'cat1', 'cat2', 'cat3', 'cat4', 'cat5', 'cat6', 'cat7', 'cat8', 'cat9']\n",
    "numerical_features = ['cont0', 'cont1', 'cont2', 'cont3', 'cont4', 'cont5', 'cont6', 'cont7', 'cont8', 'cont9', 'cont10', 'cont11', 'cont12', 'cont13']\n",
    "y = train_data.target\n",
    "X = train_data.drop(['id', 'target'], axis=1)"
   ]
  },
  {
   "cell_type": "code",
   "execution_count": 5,
   "id": "867c8456",
   "metadata": {
    "execution": {
     "iopub.execute_input": "2021-08-30T06:06:08.338445Z",
     "iopub.status.busy": "2021-08-30T06:06:08.337731Z",
     "iopub.status.idle": "2021-08-30T06:06:08.370401Z",
     "shell.execute_reply": "2021-08-30T06:06:08.370929Z",
     "shell.execute_reply.started": "2021-08-30T04:22:41.692139Z"
    },
    "papermill": {
     "duration": 0.059539,
     "end_time": "2021-08-30T06:06:08.371128",
     "exception": false,
     "start_time": "2021-08-30T06:06:08.311589",
     "status": "completed"
    },
    "tags": []
   },
   "outputs": [
    {
     "name": "stdout",
     "output_type": "stream",
     "text": [
      "(300000, 24)\n"
     ]
    },
    {
     "data": {
      "text/html": [
       "<div>\n",
       "<style scoped>\n",
       "    .dataframe tbody tr th:only-of-type {\n",
       "        vertical-align: middle;\n",
       "    }\n",
       "\n",
       "    .dataframe tbody tr th {\n",
       "        vertical-align: top;\n",
       "    }\n",
       "\n",
       "    .dataframe thead th {\n",
       "        text-align: right;\n",
       "    }\n",
       "</style>\n",
       "<table border=\"1\" class=\"dataframe\">\n",
       "  <thead>\n",
       "    <tr style=\"text-align: right;\">\n",
       "      <th></th>\n",
       "      <th>cat0</th>\n",
       "      <th>cat1</th>\n",
       "      <th>cat2</th>\n",
       "      <th>cat3</th>\n",
       "      <th>cat4</th>\n",
       "      <th>cat5</th>\n",
       "      <th>cat6</th>\n",
       "      <th>cat7</th>\n",
       "      <th>cat8</th>\n",
       "      <th>cat9</th>\n",
       "      <th>...</th>\n",
       "      <th>cont4</th>\n",
       "      <th>cont5</th>\n",
       "      <th>cont6</th>\n",
       "      <th>cont7</th>\n",
       "      <th>cont8</th>\n",
       "      <th>cont9</th>\n",
       "      <th>cont10</th>\n",
       "      <th>cont11</th>\n",
       "      <th>cont12</th>\n",
       "      <th>cont13</th>\n",
       "    </tr>\n",
       "  </thead>\n",
       "  <tbody>\n",
       "    <tr>\n",
       "      <th>0</th>\n",
       "      <td>B</td>\n",
       "      <td>B</td>\n",
       "      <td>B</td>\n",
       "      <td>C</td>\n",
       "      <td>B</td>\n",
       "      <td>B</td>\n",
       "      <td>A</td>\n",
       "      <td>E</td>\n",
       "      <td>C</td>\n",
       "      <td>N</td>\n",
       "      <td>...</td>\n",
       "      <td>0.610706</td>\n",
       "      <td>0.400361</td>\n",
       "      <td>0.160266</td>\n",
       "      <td>0.310921</td>\n",
       "      <td>0.389470</td>\n",
       "      <td>0.267559</td>\n",
       "      <td>0.237281</td>\n",
       "      <td>0.377873</td>\n",
       "      <td>0.322401</td>\n",
       "      <td>0.869850</td>\n",
       "    </tr>\n",
       "    <tr>\n",
       "      <th>1</th>\n",
       "      <td>B</td>\n",
       "      <td>B</td>\n",
       "      <td>A</td>\n",
       "      <td>A</td>\n",
       "      <td>B</td>\n",
       "      <td>D</td>\n",
       "      <td>A</td>\n",
       "      <td>F</td>\n",
       "      <td>A</td>\n",
       "      <td>O</td>\n",
       "      <td>...</td>\n",
       "      <td>0.276853</td>\n",
       "      <td>0.533087</td>\n",
       "      <td>0.558922</td>\n",
       "      <td>0.516294</td>\n",
       "      <td>0.594928</td>\n",
       "      <td>0.341439</td>\n",
       "      <td>0.906013</td>\n",
       "      <td>0.921701</td>\n",
       "      <td>0.261975</td>\n",
       "      <td>0.465083</td>\n",
       "    </tr>\n",
       "    <tr>\n",
       "      <th>2</th>\n",
       "      <td>A</td>\n",
       "      <td>A</td>\n",
       "      <td>A</td>\n",
       "      <td>C</td>\n",
       "      <td>B</td>\n",
       "      <td>D</td>\n",
       "      <td>A</td>\n",
       "      <td>D</td>\n",
       "      <td>A</td>\n",
       "      <td>F</td>\n",
       "      <td>...</td>\n",
       "      <td>0.285074</td>\n",
       "      <td>0.650609</td>\n",
       "      <td>0.375348</td>\n",
       "      <td>0.902567</td>\n",
       "      <td>0.555205</td>\n",
       "      <td>0.843531</td>\n",
       "      <td>0.748809</td>\n",
       "      <td>0.620126</td>\n",
       "      <td>0.541474</td>\n",
       "      <td>0.763846</td>\n",
       "    </tr>\n",
       "    <tr>\n",
       "      <th>3</th>\n",
       "      <td>B</td>\n",
       "      <td>B</td>\n",
       "      <td>A</td>\n",
       "      <td>C</td>\n",
       "      <td>B</td>\n",
       "      <td>D</td>\n",
       "      <td>A</td>\n",
       "      <td>E</td>\n",
       "      <td>C</td>\n",
       "      <td>K</td>\n",
       "      <td>...</td>\n",
       "      <td>0.284667</td>\n",
       "      <td>0.668980</td>\n",
       "      <td>0.239061</td>\n",
       "      <td>0.732948</td>\n",
       "      <td>0.679618</td>\n",
       "      <td>0.574844</td>\n",
       "      <td>0.346010</td>\n",
       "      <td>0.714610</td>\n",
       "      <td>0.540150</td>\n",
       "      <td>0.280682</td>\n",
       "    </tr>\n",
       "    <tr>\n",
       "      <th>4</th>\n",
       "      <td>A</td>\n",
       "      <td>A</td>\n",
       "      <td>A</td>\n",
       "      <td>C</td>\n",
       "      <td>B</td>\n",
       "      <td>D</td>\n",
       "      <td>A</td>\n",
       "      <td>E</td>\n",
       "      <td>A</td>\n",
       "      <td>N</td>\n",
       "      <td>...</td>\n",
       "      <td>0.287595</td>\n",
       "      <td>0.686964</td>\n",
       "      <td>0.420667</td>\n",
       "      <td>0.648182</td>\n",
       "      <td>0.684501</td>\n",
       "      <td>0.956692</td>\n",
       "      <td>1.000773</td>\n",
       "      <td>0.776742</td>\n",
       "      <td>0.625849</td>\n",
       "      <td>0.250823</td>\n",
       "    </tr>\n",
       "  </tbody>\n",
       "</table>\n",
       "<p>5 rows × 24 columns</p>\n",
       "</div>"
      ],
      "text/plain": [
       "  cat0 cat1 cat2 cat3 cat4 cat5 cat6 cat7 cat8 cat9  ...     cont4     cont5  \\\n",
       "0    B    B    B    C    B    B    A    E    C    N  ...  0.610706  0.400361   \n",
       "1    B    B    A    A    B    D    A    F    A    O  ...  0.276853  0.533087   \n",
       "2    A    A    A    C    B    D    A    D    A    F  ...  0.285074  0.650609   \n",
       "3    B    B    A    C    B    D    A    E    C    K  ...  0.284667  0.668980   \n",
       "4    A    A    A    C    B    D    A    E    A    N  ...  0.287595  0.686964   \n",
       "\n",
       "      cont6     cont7     cont8     cont9    cont10    cont11    cont12  \\\n",
       "0  0.160266  0.310921  0.389470  0.267559  0.237281  0.377873  0.322401   \n",
       "1  0.558922  0.516294  0.594928  0.341439  0.906013  0.921701  0.261975   \n",
       "2  0.375348  0.902567  0.555205  0.843531  0.748809  0.620126  0.541474   \n",
       "3  0.239061  0.732948  0.679618  0.574844  0.346010  0.714610  0.540150   \n",
       "4  0.420667  0.648182  0.684501  0.956692  1.000773  0.776742  0.625849   \n",
       "\n",
       "     cont13  \n",
       "0  0.869850  \n",
       "1  0.465083  \n",
       "2  0.763846  \n",
       "3  0.280682  \n",
       "4  0.250823  \n",
       "\n",
       "[5 rows x 24 columns]"
      ]
     },
     "execution_count": 5,
     "metadata": {},
     "output_type": "execute_result"
    }
   ],
   "source": [
    "print(X.shape)\n",
    "X.head()"
   ]
  },
  {
   "cell_type": "markdown",
   "id": "8ab88e93",
   "metadata": {
    "papermill": {
     "duration": 0.019231,
     "end_time": "2021-08-30T06:06:08.409722",
     "exception": false,
     "start_time": "2021-08-30T06:06:08.390491",
     "status": "completed"
    },
    "tags": []
   },
   "source": [
    "## Splitting the whole data for preprocessing"
   ]
  },
  {
   "cell_type": "code",
   "execution_count": 6,
   "id": "5cfe46cb",
   "metadata": {
    "execution": {
     "iopub.execute_input": "2021-08-30T06:06:08.452898Z",
     "iopub.status.busy": "2021-08-30T06:06:08.451815Z",
     "iopub.status.idle": "2021-08-30T06:06:08.620718Z",
     "shell.execute_reply": "2021-08-30T06:06:08.619930Z",
     "shell.execute_reply.started": "2021-08-30T04:22:41.747070Z"
    },
    "papermill": {
     "duration": 0.19162,
     "end_time": "2021-08-30T06:06:08.620886",
     "exception": false,
     "start_time": "2021-08-30T06:06:08.429266",
     "status": "completed"
    },
    "tags": []
   },
   "outputs": [],
   "source": [
    "train_X, valid_X, train_y, valid_y = train_test_split(X, y, train_size=0.95, test_size=0.05, random_state=0)"
   ]
  },
  {
   "cell_type": "markdown",
   "id": "297ad422",
   "metadata": {
    "papermill": {
     "duration": 0.018826,
     "end_time": "2021-08-30T06:06:08.659063",
     "exception": false,
     "start_time": "2021-08-30T06:06:08.640237",
     "status": "completed"
    },
    "tags": []
   },
   "source": [
    "## Pipeline of Random Forest Regression model"
   ]
  },
  {
   "cell_type": "code",
   "execution_count": 7,
   "id": "e3cb2095",
   "metadata": {
    "execution": {
     "iopub.execute_input": "2021-08-30T06:06:08.701441Z",
     "iopub.status.busy": "2021-08-30T06:06:08.700507Z",
     "iopub.status.idle": "2021-08-30T06:06:08.707805Z",
     "shell.execute_reply": "2021-08-30T06:06:08.708368Z",
     "shell.execute_reply.started": "2021-08-30T04:47:04.368861Z"
    },
    "papermill": {
     "duration": 0.030265,
     "end_time": "2021-08-30T06:06:08.708550",
     "exception": false,
     "start_time": "2021-08-30T06:06:08.678285",
     "status": "completed"
    },
    "tags": []
   },
   "outputs": [],
   "source": [
    "# Preprocessing for categorical columns\n",
    "numerical_transformer = Pipeline(steps=[(\"num_imputer\", SimpleImputer(strategy=\"constant\"))])\n",
    "\n",
    "# Preprocessing for categorical columns\n",
    "categorical_transformer = Pipeline(steps=[(\"oh_encoder\", OneHotEncoder(handle_unknown=\"ignore\", sparse=False))])\n",
    "\n",
    "preprocessor = ColumnTransformer(transformers=[(\"num\", numerical_transformer, numerical_features), (\"cat\", categorical_transformer, categorical_features)])"
   ]
  },
  {
   "cell_type": "code",
   "execution_count": 8,
   "id": "9991cb67",
   "metadata": {
    "execution": {
     "iopub.execute_input": "2021-08-30T06:06:08.750648Z",
     "iopub.status.busy": "2021-08-30T06:06:08.749663Z",
     "iopub.status.idle": "2021-08-30T06:40:50.213673Z",
     "shell.execute_reply": "2021-08-30T06:40:50.214295Z",
     "shell.execute_reply.started": "2021-08-30T04:47:04.569733Z"
    },
    "papermill": {
     "duration": 2081.487152,
     "end_time": "2021-08-30T06:40:50.214691",
     "exception": false,
     "start_time": "2021-08-30T06:06:08.727539",
     "status": "completed"
    },
    "tags": []
   },
   "outputs": [
    {
     "data": {
      "text/plain": [
       "Pipeline(steps=[('preprocessor',\n",
       "                 ColumnTransformer(transformers=[('num',\n",
       "                                                  Pipeline(steps=[('num_imputer',\n",
       "                                                                   SimpleImputer(strategy='constant'))]),\n",
       "                                                  ['cont0', 'cont1', 'cont2',\n",
       "                                                   'cont3', 'cont4', 'cont5',\n",
       "                                                   'cont6', 'cont7', 'cont8',\n",
       "                                                   'cont9', 'cont10', 'cont11',\n",
       "                                                   'cont12', 'cont13']),\n",
       "                                                 ('cat',\n",
       "                                                  Pipeline(steps=[('oh_encoder',\n",
       "                                                                   OneHotEncoder(handle_unknown='ignore',\n",
       "                                                                                 sparse=False))]),\n",
       "                                                  ['cat0', 'cat1', 'cat2',\n",
       "                                                   'cat3', 'cat4', 'cat5',\n",
       "                                                   'cat6', 'cat7', 'cat8',\n",
       "                                                   'cat9'])])),\n",
       "                ('training_model_1',\n",
       "                 RandomForestRegressor(n_estimators=200, random_state=0))])"
      ]
     },
     "execution_count": 8,
     "metadata": {},
     "output_type": "execute_result"
    }
   ],
   "source": [
    "# making model for predicting target on training dataset\n",
    "training_model_1 = RandomForestRegressor(n_estimators=200, random_state=0)\n",
    "\n",
    "# Bundle preprocessing and modeling code in a pipeline\n",
    "my_pipeline = Pipeline(steps=[(\"preprocessor\", preprocessor), (\"training_model_1\", training_model_1)])\n",
    "\n",
    "# fitting model\n",
    "my_pipeline.fit(train_X, train_y)\n"
   ]
  },
  {
   "cell_type": "markdown",
   "id": "1f58b20a",
   "metadata": {
    "papermill": {
     "duration": 0.019248,
     "end_time": "2021-08-30T06:40:50.253315",
     "exception": false,
     "start_time": "2021-08-30T06:40:50.234067",
     "status": "completed"
    },
    "tags": []
   },
   "source": [
    "### Predicting the target of training data & finding MAE, RMSE"
   ]
  },
  {
   "cell_type": "code",
   "execution_count": 9,
   "id": "30f8f414",
   "metadata": {
    "execution": {
     "iopub.execute_input": "2021-08-30T06:40:50.313440Z",
     "iopub.status.busy": "2021-08-30T06:40:50.312289Z",
     "iopub.status.idle": "2021-08-30T06:40:53.920466Z",
     "shell.execute_reply": "2021-08-30T06:40:53.919793Z",
     "shell.execute_reply.started": "2021-08-30T05:20:05.998153Z"
    },
    "papermill": {
     "duration": 3.647887,
     "end_time": "2021-08-30T06:40:53.920636",
     "exception": false,
     "start_time": "2021-08-30T06:40:50.272749",
     "status": "completed"
    },
    "tags": []
   },
   "outputs": [],
   "source": [
    "# Preprocessing of validation data, get predictions\n",
    "predictions_1 = my_pipeline.predict(valid_X)\n",
    "\n",
    "# Evaluating the MAE\n",
    "mae_1 = mean_absolute_error(valid_y, predictions_1)\n",
    "\n",
    "# Evaluating the RMSE\n",
    "rmse_1 = math.sqrt(mean_squared_error(valid_y, predictions_1))"
   ]
  },
  {
   "cell_type": "code",
   "execution_count": 10,
   "id": "ae95ac13",
   "metadata": {
    "execution": {
     "iopub.execute_input": "2021-08-30T06:40:53.967211Z",
     "iopub.status.busy": "2021-08-30T06:40:53.966389Z",
     "iopub.status.idle": "2021-08-30T06:40:53.970545Z",
     "shell.execute_reply": "2021-08-30T06:40:53.969892Z",
     "shell.execute_reply.started": "2021-08-30T05:20:08.795538Z"
    },
    "papermill": {
     "duration": 0.030313,
     "end_time": "2021-08-30T06:40:53.970714",
     "exception": false,
     "start_time": "2021-08-30T06:40:53.940401",
     "status": "completed"
    },
    "tags": []
   },
   "outputs": [
    {
     "name": "stdout",
     "output_type": "stream",
     "text": [
      "Following scores using above Pipeline\n",
      "Predictions: [8.14181008 8.04930962 8.34919442 ... 8.26953067 8.2554711  8.28503139]\n",
      "MAE: 0.5802834364932775\n",
      "RMSE: 0.7351896036194409\n"
     ]
    }
   ],
   "source": [
    "print(\"Following scores using above Pipeline\")\n",
    "print(f\"Predictions: {predictions_1}\")\n",
    "print(f\"MAE: {mae_1}\")\n",
    "print(f\"RMSE: {rmse_1}\")"
   ]
  },
  {
   "cell_type": "markdown",
   "id": "67f2daa1",
   "metadata": {
    "papermill": {
     "duration": 0.019998,
     "end_time": "2021-08-30T06:40:54.010811",
     "exception": false,
     "start_time": "2021-08-30T06:40:53.990813",
     "status": "completed"
    },
    "tags": []
   },
   "source": [
    "## Test data"
   ]
  },
  {
   "cell_type": "code",
   "execution_count": 11,
   "id": "fb83b2a6",
   "metadata": {
    "execution": {
     "iopub.execute_input": "2021-08-30T06:40:54.081273Z",
     "iopub.status.busy": "2021-08-30T06:40:54.080390Z",
     "iopub.status.idle": "2021-08-30T06:40:54.087579Z",
     "shell.execute_reply": "2021-08-30T06:40:54.086869Z",
     "shell.execute_reply.started": "2021-08-30T05:20:08.937437Z"
    },
    "papermill": {
     "duration": 0.056797,
     "end_time": "2021-08-30T06:40:54.087759",
     "exception": false,
     "start_time": "2021-08-30T06:40:54.030962",
     "status": "completed"
    },
    "tags": []
   },
   "outputs": [
    {
     "name": "stdout",
     "output_type": "stream",
     "text": [
      "(200000, 25)\n"
     ]
    },
    {
     "data": {
      "text/html": [
       "<div>\n",
       "<style scoped>\n",
       "    .dataframe tbody tr th:only-of-type {\n",
       "        vertical-align: middle;\n",
       "    }\n",
       "\n",
       "    .dataframe tbody tr th {\n",
       "        vertical-align: top;\n",
       "    }\n",
       "\n",
       "    .dataframe thead th {\n",
       "        text-align: right;\n",
       "    }\n",
       "</style>\n",
       "<table border=\"1\" class=\"dataframe\">\n",
       "  <thead>\n",
       "    <tr style=\"text-align: right;\">\n",
       "      <th></th>\n",
       "      <th>id</th>\n",
       "      <th>cat0</th>\n",
       "      <th>cat1</th>\n",
       "      <th>cat2</th>\n",
       "      <th>cat3</th>\n",
       "      <th>cat4</th>\n",
       "      <th>cat5</th>\n",
       "      <th>cat6</th>\n",
       "      <th>cat7</th>\n",
       "      <th>cat8</th>\n",
       "      <th>...</th>\n",
       "      <th>cont4</th>\n",
       "      <th>cont5</th>\n",
       "      <th>cont6</th>\n",
       "      <th>cont7</th>\n",
       "      <th>cont8</th>\n",
       "      <th>cont9</th>\n",
       "      <th>cont10</th>\n",
       "      <th>cont11</th>\n",
       "      <th>cont12</th>\n",
       "      <th>cont13</th>\n",
       "    </tr>\n",
       "  </thead>\n",
       "  <tbody>\n",
       "    <tr>\n",
       "      <th>0</th>\n",
       "      <td>0</td>\n",
       "      <td>B</td>\n",
       "      <td>B</td>\n",
       "      <td>B</td>\n",
       "      <td>C</td>\n",
       "      <td>B</td>\n",
       "      <td>B</td>\n",
       "      <td>A</td>\n",
       "      <td>E</td>\n",
       "      <td>E</td>\n",
       "      <td>...</td>\n",
       "      <td>0.476739</td>\n",
       "      <td>0.376350</td>\n",
       "      <td>0.337884</td>\n",
       "      <td>0.321832</td>\n",
       "      <td>0.445212</td>\n",
       "      <td>0.290258</td>\n",
       "      <td>0.244476</td>\n",
       "      <td>0.087914</td>\n",
       "      <td>0.301831</td>\n",
       "      <td>0.845702</td>\n",
       "    </tr>\n",
       "    <tr>\n",
       "      <th>1</th>\n",
       "      <td>5</td>\n",
       "      <td>A</td>\n",
       "      <td>B</td>\n",
       "      <td>A</td>\n",
       "      <td>C</td>\n",
       "      <td>B</td>\n",
       "      <td>C</td>\n",
       "      <td>A</td>\n",
       "      <td>E</td>\n",
       "      <td>C</td>\n",
       "      <td>...</td>\n",
       "      <td>0.285509</td>\n",
       "      <td>0.860046</td>\n",
       "      <td>0.798712</td>\n",
       "      <td>0.835961</td>\n",
       "      <td>0.391657</td>\n",
       "      <td>0.288276</td>\n",
       "      <td>0.549568</td>\n",
       "      <td>0.905097</td>\n",
       "      <td>0.850684</td>\n",
       "      <td>0.693940</td>\n",
       "    </tr>\n",
       "    <tr>\n",
       "      <th>2</th>\n",
       "      <td>15</td>\n",
       "      <td>B</td>\n",
       "      <td>A</td>\n",
       "      <td>A</td>\n",
       "      <td>A</td>\n",
       "      <td>B</td>\n",
       "      <td>B</td>\n",
       "      <td>A</td>\n",
       "      <td>E</td>\n",
       "      <td>D</td>\n",
       "      <td>...</td>\n",
       "      <td>0.697272</td>\n",
       "      <td>0.683600</td>\n",
       "      <td>0.404089</td>\n",
       "      <td>0.879379</td>\n",
       "      <td>0.275549</td>\n",
       "      <td>0.427871</td>\n",
       "      <td>0.491667</td>\n",
       "      <td>0.384315</td>\n",
       "      <td>0.376689</td>\n",
       "      <td>0.508099</td>\n",
       "    </tr>\n",
       "    <tr>\n",
       "      <th>3</th>\n",
       "      <td>16</td>\n",
       "      <td>B</td>\n",
       "      <td>B</td>\n",
       "      <td>A</td>\n",
       "      <td>C</td>\n",
       "      <td>B</td>\n",
       "      <td>D</td>\n",
       "      <td>A</td>\n",
       "      <td>E</td>\n",
       "      <td>A</td>\n",
       "      <td>...</td>\n",
       "      <td>0.719306</td>\n",
       "      <td>0.777890</td>\n",
       "      <td>0.730954</td>\n",
       "      <td>0.644315</td>\n",
       "      <td>1.024017</td>\n",
       "      <td>0.391090</td>\n",
       "      <td>0.988340</td>\n",
       "      <td>0.411828</td>\n",
       "      <td>0.393585</td>\n",
       "      <td>0.461372</td>\n",
       "    </tr>\n",
       "    <tr>\n",
       "      <th>4</th>\n",
       "      <td>17</td>\n",
       "      <td>B</td>\n",
       "      <td>B</td>\n",
       "      <td>A</td>\n",
       "      <td>C</td>\n",
       "      <td>B</td>\n",
       "      <td>C</td>\n",
       "      <td>A</td>\n",
       "      <td>E</td>\n",
       "      <td>C</td>\n",
       "      <td>...</td>\n",
       "      <td>0.313032</td>\n",
       "      <td>0.431007</td>\n",
       "      <td>0.390992</td>\n",
       "      <td>0.408874</td>\n",
       "      <td>0.447887</td>\n",
       "      <td>0.390253</td>\n",
       "      <td>0.648932</td>\n",
       "      <td>0.385935</td>\n",
       "      <td>0.370401</td>\n",
       "      <td>0.900412</td>\n",
       "    </tr>\n",
       "  </tbody>\n",
       "</table>\n",
       "<p>5 rows × 25 columns</p>\n",
       "</div>"
      ],
      "text/plain": [
       "   id cat0 cat1 cat2 cat3 cat4 cat5 cat6 cat7 cat8  ...     cont4     cont5  \\\n",
       "0   0    B    B    B    C    B    B    A    E    E  ...  0.476739  0.376350   \n",
       "1   5    A    B    A    C    B    C    A    E    C  ...  0.285509  0.860046   \n",
       "2  15    B    A    A    A    B    B    A    E    D  ...  0.697272  0.683600   \n",
       "3  16    B    B    A    C    B    D    A    E    A  ...  0.719306  0.777890   \n",
       "4  17    B    B    A    C    B    C    A    E    C  ...  0.313032  0.431007   \n",
       "\n",
       "      cont6     cont7     cont8     cont9    cont10    cont11    cont12  \\\n",
       "0  0.337884  0.321832  0.445212  0.290258  0.244476  0.087914  0.301831   \n",
       "1  0.798712  0.835961  0.391657  0.288276  0.549568  0.905097  0.850684   \n",
       "2  0.404089  0.879379  0.275549  0.427871  0.491667  0.384315  0.376689   \n",
       "3  0.730954  0.644315  1.024017  0.391090  0.988340  0.411828  0.393585   \n",
       "4  0.390992  0.408874  0.447887  0.390253  0.648932  0.385935  0.370401   \n",
       "\n",
       "     cont13  \n",
       "0  0.845702  \n",
       "1  0.693940  \n",
       "2  0.508099  \n",
       "3  0.461372  \n",
       "4  0.900412  \n",
       "\n",
       "[5 rows x 25 columns]"
      ]
     },
     "execution_count": 11,
     "metadata": {},
     "output_type": "execute_result"
    }
   ],
   "source": [
    "print(test_data.shape)\n",
    "test_data.head()"
   ]
  },
  {
   "cell_type": "code",
   "execution_count": 12,
   "id": "05ea9521",
   "metadata": {
    "execution": {
     "iopub.execute_input": "2021-08-30T06:40:54.137630Z",
     "iopub.status.busy": "2021-08-30T06:40:54.136871Z",
     "iopub.status.idle": "2021-08-30T06:40:54.226451Z",
     "shell.execute_reply": "2021-08-30T06:40:54.225883Z",
     "shell.execute_reply.started": "2021-08-30T05:20:08.968828Z"
    },
    "papermill": {
     "duration": 0.117252,
     "end_time": "2021-08-30T06:40:54.226625",
     "exception": false,
     "start_time": "2021-08-30T06:40:54.109373",
     "status": "completed"
    },
    "tags": []
   },
   "outputs": [
    {
     "data": {
      "text/html": [
       "<div>\n",
       "<style scoped>\n",
       "    .dataframe tbody tr th:only-of-type {\n",
       "        vertical-align: middle;\n",
       "    }\n",
       "\n",
       "    .dataframe tbody tr th {\n",
       "        vertical-align: top;\n",
       "    }\n",
       "\n",
       "    .dataframe thead th {\n",
       "        text-align: right;\n",
       "    }\n",
       "</style>\n",
       "<table border=\"1\" class=\"dataframe\">\n",
       "  <thead>\n",
       "    <tr style=\"text-align: right;\">\n",
       "      <th></th>\n",
       "      <th>cat0</th>\n",
       "      <th>cat1</th>\n",
       "      <th>cat2</th>\n",
       "      <th>cat3</th>\n",
       "      <th>cat4</th>\n",
       "      <th>cat5</th>\n",
       "      <th>cat6</th>\n",
       "      <th>cat7</th>\n",
       "      <th>cat8</th>\n",
       "      <th>cat9</th>\n",
       "      <th>...</th>\n",
       "      <th>cont4</th>\n",
       "      <th>cont5</th>\n",
       "      <th>cont6</th>\n",
       "      <th>cont7</th>\n",
       "      <th>cont8</th>\n",
       "      <th>cont9</th>\n",
       "      <th>cont10</th>\n",
       "      <th>cont11</th>\n",
       "      <th>cont12</th>\n",
       "      <th>cont13</th>\n",
       "    </tr>\n",
       "  </thead>\n",
       "  <tbody>\n",
       "    <tr>\n",
       "      <th>0</th>\n",
       "      <td>B</td>\n",
       "      <td>B</td>\n",
       "      <td>B</td>\n",
       "      <td>C</td>\n",
       "      <td>B</td>\n",
       "      <td>B</td>\n",
       "      <td>A</td>\n",
       "      <td>E</td>\n",
       "      <td>E</td>\n",
       "      <td>I</td>\n",
       "      <td>...</td>\n",
       "      <td>0.476739</td>\n",
       "      <td>0.376350</td>\n",
       "      <td>0.337884</td>\n",
       "      <td>0.321832</td>\n",
       "      <td>0.445212</td>\n",
       "      <td>0.290258</td>\n",
       "      <td>0.244476</td>\n",
       "      <td>0.087914</td>\n",
       "      <td>0.301831</td>\n",
       "      <td>0.845702</td>\n",
       "    </tr>\n",
       "    <tr>\n",
       "      <th>1</th>\n",
       "      <td>A</td>\n",
       "      <td>B</td>\n",
       "      <td>A</td>\n",
       "      <td>C</td>\n",
       "      <td>B</td>\n",
       "      <td>C</td>\n",
       "      <td>A</td>\n",
       "      <td>E</td>\n",
       "      <td>C</td>\n",
       "      <td>H</td>\n",
       "      <td>...</td>\n",
       "      <td>0.285509</td>\n",
       "      <td>0.860046</td>\n",
       "      <td>0.798712</td>\n",
       "      <td>0.835961</td>\n",
       "      <td>0.391657</td>\n",
       "      <td>0.288276</td>\n",
       "      <td>0.549568</td>\n",
       "      <td>0.905097</td>\n",
       "      <td>0.850684</td>\n",
       "      <td>0.693940</td>\n",
       "    </tr>\n",
       "    <tr>\n",
       "      <th>2</th>\n",
       "      <td>B</td>\n",
       "      <td>A</td>\n",
       "      <td>A</td>\n",
       "      <td>A</td>\n",
       "      <td>B</td>\n",
       "      <td>B</td>\n",
       "      <td>A</td>\n",
       "      <td>E</td>\n",
       "      <td>D</td>\n",
       "      <td>K</td>\n",
       "      <td>...</td>\n",
       "      <td>0.697272</td>\n",
       "      <td>0.683600</td>\n",
       "      <td>0.404089</td>\n",
       "      <td>0.879379</td>\n",
       "      <td>0.275549</td>\n",
       "      <td>0.427871</td>\n",
       "      <td>0.491667</td>\n",
       "      <td>0.384315</td>\n",
       "      <td>0.376689</td>\n",
       "      <td>0.508099</td>\n",
       "    </tr>\n",
       "    <tr>\n",
       "      <th>3</th>\n",
       "      <td>B</td>\n",
       "      <td>B</td>\n",
       "      <td>A</td>\n",
       "      <td>C</td>\n",
       "      <td>B</td>\n",
       "      <td>D</td>\n",
       "      <td>A</td>\n",
       "      <td>E</td>\n",
       "      <td>A</td>\n",
       "      <td>N</td>\n",
       "      <td>...</td>\n",
       "      <td>0.719306</td>\n",
       "      <td>0.777890</td>\n",
       "      <td>0.730954</td>\n",
       "      <td>0.644315</td>\n",
       "      <td>1.024017</td>\n",
       "      <td>0.391090</td>\n",
       "      <td>0.988340</td>\n",
       "      <td>0.411828</td>\n",
       "      <td>0.393585</td>\n",
       "      <td>0.461372</td>\n",
       "    </tr>\n",
       "    <tr>\n",
       "      <th>4</th>\n",
       "      <td>B</td>\n",
       "      <td>B</td>\n",
       "      <td>A</td>\n",
       "      <td>C</td>\n",
       "      <td>B</td>\n",
       "      <td>C</td>\n",
       "      <td>A</td>\n",
       "      <td>E</td>\n",
       "      <td>C</td>\n",
       "      <td>F</td>\n",
       "      <td>...</td>\n",
       "      <td>0.313032</td>\n",
       "      <td>0.431007</td>\n",
       "      <td>0.390992</td>\n",
       "      <td>0.408874</td>\n",
       "      <td>0.447887</td>\n",
       "      <td>0.390253</td>\n",
       "      <td>0.648932</td>\n",
       "      <td>0.385935</td>\n",
       "      <td>0.370401</td>\n",
       "      <td>0.900412</td>\n",
       "    </tr>\n",
       "  </tbody>\n",
       "</table>\n",
       "<p>5 rows × 24 columns</p>\n",
       "</div>"
      ],
      "text/plain": [
       "  cat0 cat1 cat2 cat3 cat4 cat5 cat6 cat7 cat8 cat9  ...     cont4     cont5  \\\n",
       "0    B    B    B    C    B    B    A    E    E    I  ...  0.476739  0.376350   \n",
       "1    A    B    A    C    B    C    A    E    C    H  ...  0.285509  0.860046   \n",
       "2    B    A    A    A    B    B    A    E    D    K  ...  0.697272  0.683600   \n",
       "3    B    B    A    C    B    D    A    E    A    N  ...  0.719306  0.777890   \n",
       "4    B    B    A    C    B    C    A    E    C    F  ...  0.313032  0.431007   \n",
       "\n",
       "      cont6     cont7     cont8     cont9    cont10    cont11    cont12  \\\n",
       "0  0.337884  0.321832  0.445212  0.290258  0.244476  0.087914  0.301831   \n",
       "1  0.798712  0.835961  0.391657  0.288276  0.549568  0.905097  0.850684   \n",
       "2  0.404089  0.879379  0.275549  0.427871  0.491667  0.384315  0.376689   \n",
       "3  0.730954  0.644315  1.024017  0.391090  0.988340  0.411828  0.393585   \n",
       "4  0.390992  0.408874  0.447887  0.390253  0.648932  0.385935  0.370401   \n",
       "\n",
       "     cont13  \n",
       "0  0.845702  \n",
       "1  0.693940  \n",
       "2  0.508099  \n",
       "3  0.461372  \n",
       "4  0.900412  \n",
       "\n",
       "[5 rows x 24 columns]"
      ]
     },
     "execution_count": 12,
     "metadata": {},
     "output_type": "execute_result"
    }
   ],
   "source": [
    "final_X = test_data.drop([\"id\"], axis=1)\n",
    "final_X.head()"
   ]
  },
  {
   "cell_type": "markdown",
   "id": "2b3f5474",
   "metadata": {
    "papermill": {
     "duration": 0.021182,
     "end_time": "2021-08-30T06:40:54.269415",
     "exception": false,
     "start_time": "2021-08-30T06:40:54.248233",
     "status": "completed"
    },
    "tags": []
   },
   "source": [
    "### Predicting the target on final data"
   ]
  },
  {
   "cell_type": "code",
   "execution_count": 13,
   "id": "71e5803f",
   "metadata": {
    "execution": {
     "iopub.execute_input": "2021-08-30T06:40:54.334611Z",
     "iopub.status.busy": "2021-08-30T06:40:54.333875Z",
     "iopub.status.idle": "2021-08-30T06:41:33.044574Z",
     "shell.execute_reply": "2021-08-30T06:41:33.043968Z",
     "shell.execute_reply.started": "2021-08-30T05:22:19.921032Z"
    },
    "papermill": {
     "duration": 38.753546,
     "end_time": "2021-08-30T06:41:33.044746",
     "exception": false,
     "start_time": "2021-08-30T06:40:54.291200",
     "status": "completed"
    },
    "tags": []
   },
   "outputs": [],
   "source": [
    "# Prediction on above pipeline\n",
    "final_predictions = my_pipeline.predict(final_X)"
   ]
  },
  {
   "cell_type": "code",
   "execution_count": 14,
   "id": "27494e18",
   "metadata": {
    "execution": {
     "iopub.execute_input": "2021-08-30T06:41:33.095682Z",
     "iopub.status.busy": "2021-08-30T06:41:33.094771Z",
     "iopub.status.idle": "2021-08-30T06:41:33.098757Z",
     "shell.execute_reply": "2021-08-30T06:41:33.098081Z",
     "shell.execute_reply.started": "2021-08-30T05:22:49.928644Z"
    },
    "papermill": {
     "duration": 0.032256,
     "end_time": "2021-08-30T06:41:33.098906",
     "exception": false,
     "start_time": "2021-08-30T06:41:33.066650",
     "status": "completed"
    },
    "tags": []
   },
   "outputs": [
    {
     "data": {
      "text/plain": [
       "array([7.94429968, 8.30837759, 8.38403064, ..., 8.38763922, 8.06077985,\n",
       "       8.15546867])"
      ]
     },
     "execution_count": 14,
     "metadata": {},
     "output_type": "execute_result"
    }
   ],
   "source": [
    "final_predictions"
   ]
  },
  {
   "cell_type": "markdown",
   "id": "79d06e95",
   "metadata": {
    "papermill": {
     "duration": 0.021423,
     "end_time": "2021-08-30T06:41:33.142105",
     "exception": false,
     "start_time": "2021-08-30T06:41:33.120682",
     "status": "completed"
    },
    "tags": []
   },
   "source": [
    "## Submitting the final predictions"
   ]
  },
  {
   "cell_type": "code",
   "execution_count": 15,
   "id": "7197f01d",
   "metadata": {
    "execution": {
     "iopub.execute_input": "2021-08-30T06:41:33.193606Z",
     "iopub.status.busy": "2021-08-30T06:41:33.192918Z",
     "iopub.status.idle": "2021-08-30T06:41:33.950917Z",
     "shell.execute_reply": "2021-08-30T06:41:33.950209Z",
     "shell.execute_reply.started": "2021-08-29T21:02:15.725821Z"
    },
    "papermill": {
     "duration": 0.787117,
     "end_time": "2021-08-30T06:41:33.951073",
     "exception": false,
     "start_time": "2021-08-30T06:41:33.163956",
     "status": "completed"
    },
    "tags": []
   },
   "outputs": [],
   "source": [
    "# Submitting predicted target to `submission.csv`\n",
    "output = pd.DataFrame({'Id': test_data.id,'target': final_predictions})\n",
    "output.to_csv('submission.csv', index=False)"
   ]
  }
 ],
 "metadata": {
  "kernelspec": {
   "display_name": "Python 3",
   "language": "python",
   "name": "python3"
  },
  "language_info": {
   "codemirror_mode": {
    "name": "ipython",
    "version": 3
   },
   "file_extension": ".py",
   "mimetype": "text/x-python",
   "name": "python",
   "nbconvert_exporter": "python",
   "pygments_lexer": "ipython3",
   "version": "3.7.10"
  },
  "papermill": {
   "default_parameters": {},
   "duration": 2142.779404,
   "end_time": "2021-08-30T06:41:36.187016",
   "environment_variables": {},
   "exception": null,
   "input_path": "__notebook__.ipynb",
   "output_path": "__notebook__.ipynb",
   "parameters": {},
   "start_time": "2021-08-30T06:05:53.407612",
   "version": "2.3.3"
  }
 },
 "nbformat": 4,
 "nbformat_minor": 5
}
