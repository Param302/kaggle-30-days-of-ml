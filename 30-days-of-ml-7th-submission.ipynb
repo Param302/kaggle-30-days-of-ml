{
 "cells": [
  {
   "cell_type": "markdown",
   "id": "babf95c0",
   "metadata": {
    "papermill": {
     "duration": 0.013872,
     "end_time": "2021-08-31T10:10:38.687957",
     "exception": false,
     "start_time": "2021-08-31T10:10:38.674085",
     "status": "completed"
    },
    "tags": []
   },
   "source": [
    "# Importing required modules "
   ]
  },
  {
   "cell_type": "code",
   "execution_count": 1,
   "id": "13fb9598",
   "metadata": {
    "_cell_guid": "b1076dfc-b9ad-4769-8c92-a6c4dae69d19",
    "_uuid": "8f2839f25d086af736a60e9eeb907d3b93b6e0e5",
    "execution": {
     "iopub.execute_input": "2021-08-31T10:10:38.725727Z",
     "iopub.status.busy": "2021-08-31T10:10:38.725145Z",
     "iopub.status.idle": "2021-08-31T10:10:39.645705Z",
     "shell.execute_reply": "2021-08-31T10:10:39.644725Z",
     "shell.execute_reply.started": "2021-08-31T10:09:54.048272Z"
    },
    "papermill": {
     "duration": 0.944625,
     "end_time": "2021-08-31T10:10:39.645867",
     "exception": false,
     "start_time": "2021-08-31T10:10:38.701242",
     "status": "completed"
    },
    "tags": []
   },
   "outputs": [],
   "source": [
    "import pandas as pd\n",
    "import numpy as np\n",
    "from xgboost import XGBRegressor\n",
    "from sklearn.model_selection import KFold\n",
    "from sklearn.metrics import mean_squared_error\n",
    "from sklearn.preprocessing import OneHotEncoder"
   ]
  },
  {
   "cell_type": "markdown",
   "id": "250eab38",
   "metadata": {
    "papermill": {
     "duration": 0.021174,
     "end_time": "2021-08-31T10:10:39.684493",
     "exception": false,
     "start_time": "2021-08-31T10:10:39.663319",
     "status": "completed"
    },
    "tags": []
   },
   "source": [
    "### Loading data"
   ]
  },
  {
   "cell_type": "code",
   "execution_count": 2,
   "id": "76016c05",
   "metadata": {
    "execution": {
     "iopub.execute_input": "2021-08-31T10:10:39.730156Z",
     "iopub.status.busy": "2021-08-31T10:10:39.729243Z",
     "iopub.status.idle": "2021-08-31T10:10:43.137152Z",
     "shell.execute_reply": "2021-08-31T10:10:43.136207Z",
     "shell.execute_reply.started": "2021-08-31T10:09:55.161444Z"
    },
    "papermill": {
     "duration": 3.431546,
     "end_time": "2021-08-31T10:10:43.137314",
     "exception": false,
     "start_time": "2021-08-31T10:10:39.705768",
     "status": "completed"
    },
    "tags": []
   },
   "outputs": [],
   "source": [
    "train_data = pd.read_csv(\"../input/30-days-of-ml/train.csv\")\n",
    "test_data = pd.read_csv(\"../input/30-days-of-ml/test.csv\")\n",
    "sample_submission = pd.read_csv(\"../input/30-days-of-ml/sample_submission.csv\")"
   ]
  },
  {
   "cell_type": "markdown",
   "id": "55f9e008",
   "metadata": {
    "papermill": {
     "duration": 0.014035,
     "end_time": "2021-08-31T10:10:43.164546",
     "exception": false,
     "start_time": "2021-08-31T10:10:43.150511",
     "status": "completed"
    },
    "tags": []
   },
   "source": [
    "### K-Fold model\n",
    "* having 5 splits"
   ]
  },
  {
   "cell_type": "code",
   "execution_count": 3,
   "id": "cdaf83cd",
   "metadata": {
    "execution": {
     "iopub.execute_input": "2021-08-31T10:10:43.204027Z",
     "iopub.status.busy": "2021-08-31T10:10:43.203149Z",
     "iopub.status.idle": "2021-08-31T10:10:43.252609Z",
     "shell.execute_reply": "2021-08-31T10:10:43.252077Z",
     "shell.execute_reply.started": "2021-08-31T10:09:57.090851Z"
    },
    "papermill": {
     "duration": 0.0732,
     "end_time": "2021-08-31T10:10:43.252851",
     "exception": false,
     "start_time": "2021-08-31T10:10:43.179651",
     "status": "completed"
    },
    "tags": []
   },
   "outputs": [],
   "source": [
    "train_data[\"kfold\"] = -1\n",
    "Kf_model = KFold(n_splits=5, random_state=1, shuffle=True)\n",
    "# fold (0, 1, 2, 3, 4); train_index (0, 2, 3...); valid_index(1, 4, 6)\n",
    "for fold, (train_index, valid_index) in enumerate(Kf_model.split(X=train_data)):\n",
    "    train_data.loc[valid_index, \"kfold\"] = fold"
   ]
  },
  {
   "cell_type": "markdown",
   "id": "f69fd5ec",
   "metadata": {
    "papermill": {
     "duration": 0.01377,
     "end_time": "2021-08-31T10:10:43.280691",
     "exception": false,
     "start_time": "2021-08-31T10:10:43.266921",
     "status": "completed"
    },
    "tags": []
   },
   "source": [
    "#### Training data after making K-fold column using K-fold model"
   ]
  },
  {
   "cell_type": "code",
   "execution_count": 4,
   "id": "b3cbef10",
   "metadata": {
    "execution": {
     "iopub.execute_input": "2021-08-31T10:10:43.318239Z",
     "iopub.status.busy": "2021-08-31T10:10:43.317595Z",
     "iopub.status.idle": "2021-08-31T10:10:43.345912Z",
     "shell.execute_reply": "2021-08-31T10:10:43.346366Z",
     "shell.execute_reply.started": "2021-08-31T09:58:17.722703Z"
    },
    "papermill": {
     "duration": 0.052369,
     "end_time": "2021-08-31T10:10:43.346530",
     "exception": false,
     "start_time": "2021-08-31T10:10:43.294161",
     "status": "completed"
    },
    "tags": []
   },
   "outputs": [
    {
     "name": "stdout",
     "output_type": "stream",
     "text": [
      "(300000, 27)\n"
     ]
    },
    {
     "data": {
      "text/html": [
       "<div>\n",
       "<style scoped>\n",
       "    .dataframe tbody tr th:only-of-type {\n",
       "        vertical-align: middle;\n",
       "    }\n",
       "\n",
       "    .dataframe tbody tr th {\n",
       "        vertical-align: top;\n",
       "    }\n",
       "\n",
       "    .dataframe thead th {\n",
       "        text-align: right;\n",
       "    }\n",
       "</style>\n",
       "<table border=\"1\" class=\"dataframe\">\n",
       "  <thead>\n",
       "    <tr style=\"text-align: right;\">\n",
       "      <th></th>\n",
       "      <th>id</th>\n",
       "      <th>cat0</th>\n",
       "      <th>cat1</th>\n",
       "      <th>cat2</th>\n",
       "      <th>cat3</th>\n",
       "      <th>cat4</th>\n",
       "      <th>cat5</th>\n",
       "      <th>cat6</th>\n",
       "      <th>cat7</th>\n",
       "      <th>cat8</th>\n",
       "      <th>...</th>\n",
       "      <th>cont6</th>\n",
       "      <th>cont7</th>\n",
       "      <th>cont8</th>\n",
       "      <th>cont9</th>\n",
       "      <th>cont10</th>\n",
       "      <th>cont11</th>\n",
       "      <th>cont12</th>\n",
       "      <th>cont13</th>\n",
       "      <th>target</th>\n",
       "      <th>kfold</th>\n",
       "    </tr>\n",
       "  </thead>\n",
       "  <tbody>\n",
       "    <tr>\n",
       "      <th>0</th>\n",
       "      <td>1</td>\n",
       "      <td>B</td>\n",
       "      <td>B</td>\n",
       "      <td>B</td>\n",
       "      <td>C</td>\n",
       "      <td>B</td>\n",
       "      <td>B</td>\n",
       "      <td>A</td>\n",
       "      <td>E</td>\n",
       "      <td>C</td>\n",
       "      <td>...</td>\n",
       "      <td>0.160266</td>\n",
       "      <td>0.310921</td>\n",
       "      <td>0.389470</td>\n",
       "      <td>0.267559</td>\n",
       "      <td>0.237281</td>\n",
       "      <td>0.377873</td>\n",
       "      <td>0.322401</td>\n",
       "      <td>0.869850</td>\n",
       "      <td>8.113634</td>\n",
       "      <td>4</td>\n",
       "    </tr>\n",
       "    <tr>\n",
       "      <th>1</th>\n",
       "      <td>2</td>\n",
       "      <td>B</td>\n",
       "      <td>B</td>\n",
       "      <td>A</td>\n",
       "      <td>A</td>\n",
       "      <td>B</td>\n",
       "      <td>D</td>\n",
       "      <td>A</td>\n",
       "      <td>F</td>\n",
       "      <td>A</td>\n",
       "      <td>...</td>\n",
       "      <td>0.558922</td>\n",
       "      <td>0.516294</td>\n",
       "      <td>0.594928</td>\n",
       "      <td>0.341439</td>\n",
       "      <td>0.906013</td>\n",
       "      <td>0.921701</td>\n",
       "      <td>0.261975</td>\n",
       "      <td>0.465083</td>\n",
       "      <td>8.481233</td>\n",
       "      <td>0</td>\n",
       "    </tr>\n",
       "    <tr>\n",
       "      <th>2</th>\n",
       "      <td>3</td>\n",
       "      <td>A</td>\n",
       "      <td>A</td>\n",
       "      <td>A</td>\n",
       "      <td>C</td>\n",
       "      <td>B</td>\n",
       "      <td>D</td>\n",
       "      <td>A</td>\n",
       "      <td>D</td>\n",
       "      <td>A</td>\n",
       "      <td>...</td>\n",
       "      <td>0.375348</td>\n",
       "      <td>0.902567</td>\n",
       "      <td>0.555205</td>\n",
       "      <td>0.843531</td>\n",
       "      <td>0.748809</td>\n",
       "      <td>0.620126</td>\n",
       "      <td>0.541474</td>\n",
       "      <td>0.763846</td>\n",
       "      <td>8.364351</td>\n",
       "      <td>4</td>\n",
       "    </tr>\n",
       "    <tr>\n",
       "      <th>3</th>\n",
       "      <td>4</td>\n",
       "      <td>B</td>\n",
       "      <td>B</td>\n",
       "      <td>A</td>\n",
       "      <td>C</td>\n",
       "      <td>B</td>\n",
       "      <td>D</td>\n",
       "      <td>A</td>\n",
       "      <td>E</td>\n",
       "      <td>C</td>\n",
       "      <td>...</td>\n",
       "      <td>0.239061</td>\n",
       "      <td>0.732948</td>\n",
       "      <td>0.679618</td>\n",
       "      <td>0.574844</td>\n",
       "      <td>0.346010</td>\n",
       "      <td>0.714610</td>\n",
       "      <td>0.540150</td>\n",
       "      <td>0.280682</td>\n",
       "      <td>8.049253</td>\n",
       "      <td>1</td>\n",
       "    </tr>\n",
       "    <tr>\n",
       "      <th>4</th>\n",
       "      <td>6</td>\n",
       "      <td>A</td>\n",
       "      <td>A</td>\n",
       "      <td>A</td>\n",
       "      <td>C</td>\n",
       "      <td>B</td>\n",
       "      <td>D</td>\n",
       "      <td>A</td>\n",
       "      <td>E</td>\n",
       "      <td>A</td>\n",
       "      <td>...</td>\n",
       "      <td>0.420667</td>\n",
       "      <td>0.648182</td>\n",
       "      <td>0.684501</td>\n",
       "      <td>0.956692</td>\n",
       "      <td>1.000773</td>\n",
       "      <td>0.776742</td>\n",
       "      <td>0.625849</td>\n",
       "      <td>0.250823</td>\n",
       "      <td>7.972260</td>\n",
       "      <td>0</td>\n",
       "    </tr>\n",
       "  </tbody>\n",
       "</table>\n",
       "<p>5 rows × 27 columns</p>\n",
       "</div>"
      ],
      "text/plain": [
       "   id cat0 cat1 cat2 cat3 cat4 cat5 cat6 cat7 cat8  ...     cont6     cont7  \\\n",
       "0   1    B    B    B    C    B    B    A    E    C  ...  0.160266  0.310921   \n",
       "1   2    B    B    A    A    B    D    A    F    A  ...  0.558922  0.516294   \n",
       "2   3    A    A    A    C    B    D    A    D    A  ...  0.375348  0.902567   \n",
       "3   4    B    B    A    C    B    D    A    E    C  ...  0.239061  0.732948   \n",
       "4   6    A    A    A    C    B    D    A    E    A  ...  0.420667  0.648182   \n",
       "\n",
       "      cont8     cont9    cont10    cont11    cont12    cont13    target  kfold  \n",
       "0  0.389470  0.267559  0.237281  0.377873  0.322401  0.869850  8.113634      4  \n",
       "1  0.594928  0.341439  0.906013  0.921701  0.261975  0.465083  8.481233      0  \n",
       "2  0.555205  0.843531  0.748809  0.620126  0.541474  0.763846  8.364351      4  \n",
       "3  0.679618  0.574844  0.346010  0.714610  0.540150  0.280682  8.049253      1  \n",
       "4  0.684501  0.956692  1.000773  0.776742  0.625849  0.250823  7.972260      0  \n",
       "\n",
       "[5 rows x 27 columns]"
      ]
     },
     "execution_count": 4,
     "metadata": {},
     "output_type": "execute_result"
    }
   ],
   "source": [
    "print(train_data.shape)\n",
    "train_data.head()"
   ]
  },
  {
   "cell_type": "markdown",
   "id": "74678da5",
   "metadata": {
    "papermill": {
     "duration": 0.015332,
     "end_time": "2021-08-31T10:10:43.377724",
     "exception": false,
     "start_time": "2021-08-31T10:10:43.362392",
     "status": "completed"
    },
    "tags": []
   },
   "source": [
    "#### Setting up columns\n",
    "1. num_cols stores all columns of training data which have numerical columns\n",
    "2. cat_cols stores all columns of training data which have categorical columns\n",
    "3. useful_cols stores both num_cols and cat_cols\n",
    "* useful_cols are required for target encoding, hence test_data also uses the useful_cols only"
   ]
  },
  {
   "cell_type": "code",
   "execution_count": 5,
   "id": "d00de771",
   "metadata": {
    "execution": {
     "iopub.execute_input": "2021-08-31T10:10:43.441847Z",
     "iopub.status.busy": "2021-08-31T10:10:43.440027Z",
     "iopub.status.idle": "2021-08-31T10:10:43.442476Z",
     "shell.execute_reply": "2021-08-31T10:10:43.442879Z",
     "shell.execute_reply.started": "2021-08-31T09:58:17.753525Z"
    },
    "papermill": {
     "duration": 0.050902,
     "end_time": "2021-08-31T10:10:43.443023",
     "exception": false,
     "start_time": "2021-08-31T10:10:43.392121",
     "status": "completed"
    },
    "tags": []
   },
   "outputs": [],
   "source": [
    "num_cols = [col for col in train_data.columns if \"cont\" in col]\n",
    "cat_cols = [col for col in train_data.columns if \"cat\" in col]\n",
    "useful_cols = cat_cols + num_cols\n",
    "test_data = test_data[useful_cols]"
   ]
  },
  {
   "cell_type": "markdown",
   "id": "08cb786d",
   "metadata": {
    "papermill": {
     "duration": 0.014392,
     "end_time": "2021-08-31T10:10:43.471764",
     "exception": false,
     "start_time": "2021-08-31T10:10:43.457372",
     "status": "completed"
    },
    "tags": []
   },
   "source": [
    "### Target Encoding"
   ]
  },
  {
   "cell_type": "code",
   "execution_count": 6,
   "id": "678bd735",
   "metadata": {
    "execution": {
     "iopub.execute_input": "2021-08-31T10:10:43.507548Z",
     "iopub.status.busy": "2021-08-31T10:10:43.506995Z",
     "iopub.status.idle": "2021-08-31T10:10:50.181743Z",
     "shell.execute_reply": "2021-08-31T10:10:50.181094Z",
     "shell.execute_reply.started": "2021-08-31T09:58:17.781566Z"
    },
    "papermill": {
     "duration": 6.696202,
     "end_time": "2021-08-31T10:10:50.181892",
     "exception": false,
     "start_time": "2021-08-31T10:10:43.485690",
     "status": "completed"
    },
    "tags": []
   },
   "outputs": [],
   "source": [
    "# Iterate over categorical columns\n",
    "for col in cat_cols:\n",
    "    \"\"\"\n",
    "    Based on each categorical column, one target fold is created\n",
    "    total 5 folds for one column\n",
    "    \"\"\"\n",
    "    temp_train = []\n",
    "    temp_test_target = None\n",
    "    for fold in range(5):\n",
    "        # making training data and validating data for each fold\n",
    "        X_train = train_data[train_data.kfold != fold].reset_index(drop=True)\n",
    "        X_valid = train_data[train_data.kfold == fold].reset_index(drop=True)\n",
    "        \n",
    "        # getting the mean of training data target\n",
    "        mean_target = dict(X_train.groupby(col)[\"target\"].agg(\"mean\"))\n",
    "        \n",
    "        # adding the mean_target to X_valid (valid dataset of each fold)\n",
    "        X_valid.loc[:, f\"target_enc_{col}\"] = X_valid[col].map(mean_target)\n",
    "        temp_train.append(X_valid)\n",
    "        if (temp_test_target is None):\n",
    "            temp_test_target = test_data[col].map(mean_target)\n",
    "        else:\n",
    "            temp_test_target += test_data[col].map(mean_target)\n",
    "        \n",
    "    # getting the average of temporary test target on each column\n",
    "    temp_test_target /= 5\n",
    "    # adding the temporary test target to test data on each column (total=10)\n",
    "    test_data.loc[:, f\"target_enc_{col}\"] = temp_test_target\n",
    "    \n",
    "    # setting training data as temp_train\n",
    "    train_data = pd.concat(temp_train)"
   ]
  },
  {
   "cell_type": "markdown",
   "id": "aadb7ba4",
   "metadata": {
    "papermill": {
     "duration": 0.013549,
     "end_time": "2021-08-31T10:10:50.209310",
     "exception": false,
     "start_time": "2021-08-31T10:10:50.195761",
     "status": "completed"
    },
    "tags": []
   },
   "source": [
    "#### Training data after Target Encoding"
   ]
  },
  {
   "cell_type": "code",
   "execution_count": 7,
   "id": "e16958a4",
   "metadata": {
    "execution": {
     "iopub.execute_input": "2021-08-31T10:10:50.259465Z",
     "iopub.status.busy": "2021-08-31T10:10:50.258569Z",
     "iopub.status.idle": "2021-08-31T10:10:50.262527Z",
     "shell.execute_reply": "2021-08-31T10:10:50.262894Z",
     "shell.execute_reply.started": "2021-08-31T09:58:24.381627Z"
    },
    "papermill": {
     "duration": 0.040107,
     "end_time": "2021-08-31T10:10:50.263021",
     "exception": false,
     "start_time": "2021-08-31T10:10:50.222914",
     "status": "completed"
    },
    "tags": []
   },
   "outputs": [
    {
     "data": {
      "text/html": [
       "<div>\n",
       "<style scoped>\n",
       "    .dataframe tbody tr th:only-of-type {\n",
       "        vertical-align: middle;\n",
       "    }\n",
       "\n",
       "    .dataframe tbody tr th {\n",
       "        vertical-align: top;\n",
       "    }\n",
       "\n",
       "    .dataframe thead th {\n",
       "        text-align: right;\n",
       "    }\n",
       "</style>\n",
       "<table border=\"1\" class=\"dataframe\">\n",
       "  <thead>\n",
       "    <tr style=\"text-align: right;\">\n",
       "      <th></th>\n",
       "      <th>id</th>\n",
       "      <th>cat0</th>\n",
       "      <th>cat1</th>\n",
       "      <th>cat2</th>\n",
       "      <th>cat3</th>\n",
       "      <th>cat4</th>\n",
       "      <th>cat5</th>\n",
       "      <th>cat6</th>\n",
       "      <th>cat7</th>\n",
       "      <th>cat8</th>\n",
       "      <th>...</th>\n",
       "      <th>target_enc_cat0</th>\n",
       "      <th>target_enc_cat1</th>\n",
       "      <th>target_enc_cat2</th>\n",
       "      <th>target_enc_cat3</th>\n",
       "      <th>target_enc_cat4</th>\n",
       "      <th>target_enc_cat5</th>\n",
       "      <th>target_enc_cat6</th>\n",
       "      <th>target_enc_cat7</th>\n",
       "      <th>target_enc_cat8</th>\n",
       "      <th>target_enc_cat9</th>\n",
       "    </tr>\n",
       "  </thead>\n",
       "  <tbody>\n",
       "    <tr>\n",
       "      <th>0</th>\n",
       "      <td>2</td>\n",
       "      <td>B</td>\n",
       "      <td>B</td>\n",
       "      <td>A</td>\n",
       "      <td>A</td>\n",
       "      <td>B</td>\n",
       "      <td>D</td>\n",
       "      <td>A</td>\n",
       "      <td>F</td>\n",
       "      <td>A</td>\n",
       "      <td>...</td>\n",
       "      <td>8.246824</td>\n",
       "      <td>8.204869</td>\n",
       "      <td>8.246016</td>\n",
       "      <td>8.277317</td>\n",
       "      <td>8.241689</td>\n",
       "      <td>8.251699</td>\n",
       "      <td>8.241846</td>\n",
       "      <td>8.300596</td>\n",
       "      <td>8.233186</td>\n",
       "      <td>8.241516</td>\n",
       "    </tr>\n",
       "    <tr>\n",
       "      <th>1</th>\n",
       "      <td>6</td>\n",
       "      <td>A</td>\n",
       "      <td>A</td>\n",
       "      <td>A</td>\n",
       "      <td>C</td>\n",
       "      <td>B</td>\n",
       "      <td>D</td>\n",
       "      <td>A</td>\n",
       "      <td>E</td>\n",
       "      <td>A</td>\n",
       "      <td>...</td>\n",
       "      <td>8.240298</td>\n",
       "      <td>8.278027</td>\n",
       "      <td>8.246016</td>\n",
       "      <td>8.237701</td>\n",
       "      <td>8.241689</td>\n",
       "      <td>8.251699</td>\n",
       "      <td>8.241846</td>\n",
       "      <td>8.241403</td>\n",
       "      <td>8.233186</td>\n",
       "      <td>8.253157</td>\n",
       "    </tr>\n",
       "    <tr>\n",
       "      <th>2</th>\n",
       "      <td>8</td>\n",
       "      <td>B</td>\n",
       "      <td>A</td>\n",
       "      <td>A</td>\n",
       "      <td>A</td>\n",
       "      <td>B</td>\n",
       "      <td>D</td>\n",
       "      <td>A</td>\n",
       "      <td>E</td>\n",
       "      <td>C</td>\n",
       "      <td>...</td>\n",
       "      <td>8.246824</td>\n",
       "      <td>8.278027</td>\n",
       "      <td>8.246016</td>\n",
       "      <td>8.277317</td>\n",
       "      <td>8.241689</td>\n",
       "      <td>8.251699</td>\n",
       "      <td>8.241846</td>\n",
       "      <td>8.241403</td>\n",
       "      <td>8.281416</td>\n",
       "      <td>8.260024</td>\n",
       "    </tr>\n",
       "    <tr>\n",
       "      <th>3</th>\n",
       "      <td>10</td>\n",
       "      <td>A</td>\n",
       "      <td>B</td>\n",
       "      <td>A</td>\n",
       "      <td>C</td>\n",
       "      <td>B</td>\n",
       "      <td>D</td>\n",
       "      <td>A</td>\n",
       "      <td>E</td>\n",
       "      <td>G</td>\n",
       "      <td>...</td>\n",
       "      <td>8.240298</td>\n",
       "      <td>8.204869</td>\n",
       "      <td>8.246016</td>\n",
       "      <td>8.237701</td>\n",
       "      <td>8.241689</td>\n",
       "      <td>8.251699</td>\n",
       "      <td>8.241846</td>\n",
       "      <td>8.241403</td>\n",
       "      <td>8.252384</td>\n",
       "      <td>8.224612</td>\n",
       "    </tr>\n",
       "    <tr>\n",
       "      <th>4</th>\n",
       "      <td>18</td>\n",
       "      <td>B</td>\n",
       "      <td>A</td>\n",
       "      <td>A</td>\n",
       "      <td>C</td>\n",
       "      <td>B</td>\n",
       "      <td>D</td>\n",
       "      <td>A</td>\n",
       "      <td>E</td>\n",
       "      <td>A</td>\n",
       "      <td>...</td>\n",
       "      <td>8.246824</td>\n",
       "      <td>8.278027</td>\n",
       "      <td>8.246016</td>\n",
       "      <td>8.237701</td>\n",
       "      <td>8.241689</td>\n",
       "      <td>8.251699</td>\n",
       "      <td>8.241846</td>\n",
       "      <td>8.241403</td>\n",
       "      <td>8.233186</td>\n",
       "      <td>8.233269</td>\n",
       "    </tr>\n",
       "  </tbody>\n",
       "</table>\n",
       "<p>5 rows × 37 columns</p>\n",
       "</div>"
      ],
      "text/plain": [
       "   id cat0 cat1 cat2 cat3 cat4 cat5 cat6 cat7 cat8  ... target_enc_cat0  \\\n",
       "0   2    B    B    A    A    B    D    A    F    A  ...        8.246824   \n",
       "1   6    A    A    A    C    B    D    A    E    A  ...        8.240298   \n",
       "2   8    B    A    A    A    B    D    A    E    C  ...        8.246824   \n",
       "3  10    A    B    A    C    B    D    A    E    G  ...        8.240298   \n",
       "4  18    B    A    A    C    B    D    A    E    A  ...        8.246824   \n",
       "\n",
       "   target_enc_cat1  target_enc_cat2  target_enc_cat3  target_enc_cat4  \\\n",
       "0         8.204869         8.246016         8.277317         8.241689   \n",
       "1         8.278027         8.246016         8.237701         8.241689   \n",
       "2         8.278027         8.246016         8.277317         8.241689   \n",
       "3         8.204869         8.246016         8.237701         8.241689   \n",
       "4         8.278027         8.246016         8.237701         8.241689   \n",
       "\n",
       "   target_enc_cat5  target_enc_cat6  target_enc_cat7  target_enc_cat8  \\\n",
       "0         8.251699         8.241846         8.300596         8.233186   \n",
       "1         8.251699         8.241846         8.241403         8.233186   \n",
       "2         8.251699         8.241846         8.241403         8.281416   \n",
       "3         8.251699         8.241846         8.241403         8.252384   \n",
       "4         8.251699         8.241846         8.241403         8.233186   \n",
       "\n",
       "   target_enc_cat9  \n",
       "0         8.241516  \n",
       "1         8.253157  \n",
       "2         8.260024  \n",
       "3         8.224612  \n",
       "4         8.233269  \n",
       "\n",
       "[5 rows x 37 columns]"
      ]
     },
     "execution_count": 7,
     "metadata": {},
     "output_type": "execute_result"
    }
   ],
   "source": [
    "train_data.head()"
   ]
  },
  {
   "cell_type": "markdown",
   "id": "cae72711",
   "metadata": {
    "papermill": {
     "duration": 0.013877,
     "end_time": "2021-08-31T10:10:50.292054",
     "exception": false,
     "start_time": "2021-08-31T10:10:50.278177",
     "status": "completed"
    },
    "tags": []
   },
   "source": [
    "#### Test data after Target Encoding"
   ]
  },
  {
   "cell_type": "code",
   "execution_count": 8,
   "id": "bffdb45f",
   "metadata": {
    "execution": {
     "iopub.execute_input": "2021-08-31T10:10:50.343442Z",
     "iopub.status.busy": "2021-08-31T10:10:50.342638Z",
     "iopub.status.idle": "2021-08-31T10:10:50.345951Z",
     "shell.execute_reply": "2021-08-31T10:10:50.346410Z",
     "shell.execute_reply.started": "2021-08-31T09:58:24.409826Z"
    },
    "papermill": {
     "duration": 0.040486,
     "end_time": "2021-08-31T10:10:50.346533",
     "exception": false,
     "start_time": "2021-08-31T10:10:50.306047",
     "status": "completed"
    },
    "tags": []
   },
   "outputs": [
    {
     "data": {
      "text/html": [
       "<div>\n",
       "<style scoped>\n",
       "    .dataframe tbody tr th:only-of-type {\n",
       "        vertical-align: middle;\n",
       "    }\n",
       "\n",
       "    .dataframe tbody tr th {\n",
       "        vertical-align: top;\n",
       "    }\n",
       "\n",
       "    .dataframe thead th {\n",
       "        text-align: right;\n",
       "    }\n",
       "</style>\n",
       "<table border=\"1\" class=\"dataframe\">\n",
       "  <thead>\n",
       "    <tr style=\"text-align: right;\">\n",
       "      <th></th>\n",
       "      <th>cat0</th>\n",
       "      <th>cat1</th>\n",
       "      <th>cat2</th>\n",
       "      <th>cat3</th>\n",
       "      <th>cat4</th>\n",
       "      <th>cat5</th>\n",
       "      <th>cat6</th>\n",
       "      <th>cat7</th>\n",
       "      <th>cat8</th>\n",
       "      <th>cat9</th>\n",
       "      <th>...</th>\n",
       "      <th>target_enc_cat0</th>\n",
       "      <th>target_enc_cat1</th>\n",
       "      <th>target_enc_cat2</th>\n",
       "      <th>target_enc_cat3</th>\n",
       "      <th>target_enc_cat4</th>\n",
       "      <th>target_enc_cat5</th>\n",
       "      <th>target_enc_cat6</th>\n",
       "      <th>target_enc_cat7</th>\n",
       "      <th>target_enc_cat8</th>\n",
       "      <th>target_enc_cat9</th>\n",
       "    </tr>\n",
       "  </thead>\n",
       "  <tbody>\n",
       "    <tr>\n",
       "      <th>0</th>\n",
       "      <td>B</td>\n",
       "      <td>B</td>\n",
       "      <td>B</td>\n",
       "      <td>C</td>\n",
       "      <td>B</td>\n",
       "      <td>B</td>\n",
       "      <td>A</td>\n",
       "      <td>E</td>\n",
       "      <td>E</td>\n",
       "      <td>I</td>\n",
       "      <td>...</td>\n",
       "      <td>8.246840</td>\n",
       "      <td>8.204026</td>\n",
       "      <td>8.224860</td>\n",
       "      <td>8.237026</td>\n",
       "      <td>8.240946</td>\n",
       "      <td>8.230315</td>\n",
       "      <td>8.241024</td>\n",
       "      <td>8.24063</td>\n",
       "      <td>8.193336</td>\n",
       "      <td>8.223862</td>\n",
       "    </tr>\n",
       "    <tr>\n",
       "      <th>1</th>\n",
       "      <td>A</td>\n",
       "      <td>B</td>\n",
       "      <td>A</td>\n",
       "      <td>C</td>\n",
       "      <td>B</td>\n",
       "      <td>C</td>\n",
       "      <td>A</td>\n",
       "      <td>E</td>\n",
       "      <td>C</td>\n",
       "      <td>H</td>\n",
       "      <td>...</td>\n",
       "      <td>8.239288</td>\n",
       "      <td>8.204026</td>\n",
       "      <td>8.245088</td>\n",
       "      <td>8.237026</td>\n",
       "      <td>8.240946</td>\n",
       "      <td>8.268637</td>\n",
       "      <td>8.241024</td>\n",
       "      <td>8.24063</td>\n",
       "      <td>8.282179</td>\n",
       "      <td>8.240703</td>\n",
       "    </tr>\n",
       "    <tr>\n",
       "      <th>2</th>\n",
       "      <td>B</td>\n",
       "      <td>A</td>\n",
       "      <td>A</td>\n",
       "      <td>A</td>\n",
       "      <td>B</td>\n",
       "      <td>B</td>\n",
       "      <td>A</td>\n",
       "      <td>E</td>\n",
       "      <td>D</td>\n",
       "      <td>K</td>\n",
       "      <td>...</td>\n",
       "      <td>8.246840</td>\n",
       "      <td>8.277565</td>\n",
       "      <td>8.245088</td>\n",
       "      <td>8.276706</td>\n",
       "      <td>8.240946</td>\n",
       "      <td>8.230315</td>\n",
       "      <td>8.241024</td>\n",
       "      <td>8.24063</td>\n",
       "      <td>8.242740</td>\n",
       "      <td>8.269897</td>\n",
       "    </tr>\n",
       "    <tr>\n",
       "      <th>3</th>\n",
       "      <td>B</td>\n",
       "      <td>B</td>\n",
       "      <td>A</td>\n",
       "      <td>C</td>\n",
       "      <td>B</td>\n",
       "      <td>D</td>\n",
       "      <td>A</td>\n",
       "      <td>E</td>\n",
       "      <td>A</td>\n",
       "      <td>N</td>\n",
       "      <td>...</td>\n",
       "      <td>8.246840</td>\n",
       "      <td>8.204026</td>\n",
       "      <td>8.245088</td>\n",
       "      <td>8.237026</td>\n",
       "      <td>8.240946</td>\n",
       "      <td>8.251199</td>\n",
       "      <td>8.241024</td>\n",
       "      <td>8.24063</td>\n",
       "      <td>8.230476</td>\n",
       "      <td>8.249954</td>\n",
       "    </tr>\n",
       "    <tr>\n",
       "      <th>4</th>\n",
       "      <td>B</td>\n",
       "      <td>B</td>\n",
       "      <td>A</td>\n",
       "      <td>C</td>\n",
       "      <td>B</td>\n",
       "      <td>C</td>\n",
       "      <td>A</td>\n",
       "      <td>E</td>\n",
       "      <td>C</td>\n",
       "      <td>F</td>\n",
       "      <td>...</td>\n",
       "      <td>8.246840</td>\n",
       "      <td>8.204026</td>\n",
       "      <td>8.245088</td>\n",
       "      <td>8.237026</td>\n",
       "      <td>8.240946</td>\n",
       "      <td>8.268637</td>\n",
       "      <td>8.241024</td>\n",
       "      <td>8.24063</td>\n",
       "      <td>8.282179</td>\n",
       "      <td>8.259046</td>\n",
       "    </tr>\n",
       "  </tbody>\n",
       "</table>\n",
       "<p>5 rows × 34 columns</p>\n",
       "</div>"
      ],
      "text/plain": [
       "  cat0 cat1 cat2 cat3 cat4 cat5 cat6 cat7 cat8 cat9  ...  target_enc_cat0  \\\n",
       "0    B    B    B    C    B    B    A    E    E    I  ...         8.246840   \n",
       "1    A    B    A    C    B    C    A    E    C    H  ...         8.239288   \n",
       "2    B    A    A    A    B    B    A    E    D    K  ...         8.246840   \n",
       "3    B    B    A    C    B    D    A    E    A    N  ...         8.246840   \n",
       "4    B    B    A    C    B    C    A    E    C    F  ...         8.246840   \n",
       "\n",
       "   target_enc_cat1  target_enc_cat2  target_enc_cat3  target_enc_cat4  \\\n",
       "0         8.204026         8.224860         8.237026         8.240946   \n",
       "1         8.204026         8.245088         8.237026         8.240946   \n",
       "2         8.277565         8.245088         8.276706         8.240946   \n",
       "3         8.204026         8.245088         8.237026         8.240946   \n",
       "4         8.204026         8.245088         8.237026         8.240946   \n",
       "\n",
       "   target_enc_cat5  target_enc_cat6  target_enc_cat7  target_enc_cat8  \\\n",
       "0         8.230315         8.241024          8.24063         8.193336   \n",
       "1         8.268637         8.241024          8.24063         8.282179   \n",
       "2         8.230315         8.241024          8.24063         8.242740   \n",
       "3         8.251199         8.241024          8.24063         8.230476   \n",
       "4         8.268637         8.241024          8.24063         8.282179   \n",
       "\n",
       "   target_enc_cat9  \n",
       "0         8.223862  \n",
       "1         8.240703  \n",
       "2         8.269897  \n",
       "3         8.249954  \n",
       "4         8.259046  \n",
       "\n",
       "[5 rows x 34 columns]"
      ]
     },
     "execution_count": 8,
     "metadata": {},
     "output_type": "execute_result"
    }
   ],
   "source": [
    "test_data.head()"
   ]
  },
  {
   "cell_type": "markdown",
   "id": "6466fbbe",
   "metadata": {
    "papermill": {
     "duration": 0.014309,
     "end_time": "2021-08-31T10:10:50.375770",
     "exception": false,
     "start_time": "2021-08-31T10:10:50.361461",
     "status": "completed"
    },
    "tags": []
   },
   "source": [
    "#### Remaking the columns for final predictions"
   ]
  },
  {
   "cell_type": "code",
   "execution_count": 9,
   "id": "4d625849",
   "metadata": {
    "execution": {
     "iopub.execute_input": "2021-08-31T10:10:50.410574Z",
     "iopub.status.busy": "2021-08-31T10:10:50.409472Z",
     "iopub.status.idle": "2021-08-31T10:10:50.452657Z",
     "shell.execute_reply": "2021-08-31T10:10:50.452172Z",
     "shell.execute_reply.started": "2021-08-31T09:58:24.438914Z"
    },
    "papermill": {
     "duration": 0.062277,
     "end_time": "2021-08-31T10:10:50.452785",
     "exception": false,
     "start_time": "2021-08-31T10:10:50.390508",
     "status": "completed"
    },
    "tags": []
   },
   "outputs": [],
   "source": [
    "num_cols = [col for col in train_data.columns if \"cont\" in col]\n",
    "cat_cols = [col for col in train_data.columns if col.startswith(\"cat\")]\n",
    "useful_cols = cat_cols + num_cols\n",
    "test_data = test_data[useful_cols]"
   ]
  },
  {
   "cell_type": "markdown",
   "id": "9cb5ef58",
   "metadata": {
    "papermill": {
     "duration": 0.014672,
     "end_time": "2021-08-31T10:10:50.482277",
     "exception": false,
     "start_time": "2021-08-31T10:10:50.467605",
     "status": "completed"
    },
    "tags": []
   },
   "source": [
    "### Getting final predictions using XGB Regressor model on each fold\n",
    "* **final_predictions** and **MSE** on each fold"
   ]
  },
  {
   "cell_type": "code",
   "execution_count": 10,
   "id": "67747688",
   "metadata": {
    "execution": {
     "iopub.execute_input": "2021-08-31T10:10:50.524905Z",
     "iopub.status.busy": "2021-08-31T10:10:50.523990Z",
     "iopub.status.idle": "2021-08-31T10:11:29.395812Z",
     "shell.execute_reply": "2021-08-31T10:11:29.395118Z",
     "shell.execute_reply.started": "2021-08-31T09:58:24.484842Z"
    },
    "papermill": {
     "duration": 38.899119,
     "end_time": "2021-08-31T10:11:29.395992",
     "exception": false,
     "start_time": "2021-08-31T10:10:50.496873",
     "status": "completed"
    },
    "tags": []
   },
   "outputs": [
    {
     "name": "stdout",
     "output_type": "stream",
     "text": [
      "Fold: 0, RMSE: 0.7199421488116169, \n",
      "Predictions on test data: [7.97914  8.318346 8.361334 ... 8.405242 8.159172 8.015999]\n",
      "Fold: 1, RMSE: 0.7273550071119027, \n",
      "Predictions on test data: [8.035237 8.317371 8.344818 ... 8.355633 8.034177 8.005104]\n",
      "Fold: 2, RMSE: 0.7227010220830685, \n",
      "Predictions on test data: [8.076327 8.395693 8.354329 ... 8.379021 8.047301 8.038431]\n",
      "Fold: 3, RMSE: 0.7217158903027857, \n",
      "Predictions on test data: [8.003313  8.340549  8.379889  ... 8.353674  8.108551  7.8833833]\n",
      "Fold: 4, RMSE: 0.7173706486251307, \n",
      "Predictions on test data: [8.044944  8.385874  8.393736  ... 8.3408165 8.172313  8.070282 ]\n"
     ]
    }
   ],
   "source": [
    "final_predictions = []\n",
    "mse_scores = []\n",
    "\n",
    "# As total folds are 5, getting predictions and rmse at every fold\n",
    "for fold in range(5):\n",
    "    # Splitting the training and validating data according to fold and kfold\n",
    "    X_train = train_data[train_data.kfold != fold].reset_index(drop=True)\n",
    "    X_valid = train_data[train_data.kfold == fold].reset_index(drop=True)\n",
    "    \n",
    "    X_test = test_data.copy()\n",
    "    \n",
    "    # setting the target\n",
    "    y_train = X_train.target\n",
    "    y_valid = X_valid.target\n",
    "    \n",
    "    # setting the training data and validating data\n",
    "    X_train = X_train[useful_cols]\n",
    "    X_valid = X_valid[useful_cols]\n",
    "    \n",
    "    # One Hot Encoding on categorical data\n",
    "    OH_encoder = OneHotEncoder(handle_unknown=\"ignore\", sparse=False)\n",
    "    \n",
    "    # fitting and transforming the training and test data\n",
    "    OH_encoder.fit(X_train[cat_cols])\n",
    "    OH_X_train = OH_encoder.transform(X_train[cat_cols])\n",
    "    OH_X_valid = OH_encoder.transform(X_valid[cat_cols])\n",
    "    OH_X_test = OH_encoder.transform(X_test[cat_cols])\n",
    "    \n",
    "    # Naming the one hot encoded columns\n",
    "    OH_X_train = pd.DataFrame(OH_X_train, columns=[f\"ohe_{i}\" for i in range(OH_X_train.shape[1])])\n",
    "    OH_X_valid = pd.DataFrame(OH_X_valid, columns=[f\"ohe_{i}\" for i in range(OH_X_valid.shape[1])])\n",
    "    OH_X_test = pd.DataFrame(OH_X_test, columns=[f\"ohe_{i}\" for i in range(OH_X_test.shape[1])])\n",
    "    \n",
    "    # Adding one hot encoded columns to main data (training, validating, test)\n",
    "    X_train = pd.concat([X_train, OH_X_train], axis=1)\n",
    "    X_valid = pd.concat([X_valid, OH_X_valid], axis=1)\n",
    "    X_test = pd.concat([X_test, OH_X_test], axis=1)\n",
    "    \n",
    "    # Dropping the categorical columns, as their one hot encoded columns are added to main data\n",
    "    X_train = X_train.drop(cat_cols, axis=1)\n",
    "    X_valid = X_valid.drop(cat_cols, axis=1)\n",
    "    X_test = X_test.drop(cat_cols, axis=1)\n",
    "    \n",
    "    # Making XGBoost Regressor model\n",
    "    model = XGBRegressor(n_estimators=1000, learning_rate=0.05, random_state=fold*10, tree_method='gpu_hist', gpu_id=0, predictor=\"gpu_predictor\")\n",
    "    model.fit(X_train, y_train, early_stopping_rounds=5, eval_set=[(X_valid, y_valid)], verbose=False)\n",
    "    \n",
    "    # pridicting the target on training and test data\n",
    "    train_preds = model.predict(X_valid)\n",
    "    test_preds = model.predict(X_test)\n",
    "    final_predictions.append(test_preds)\n",
    "    \n",
    "    # MSE at each prediction\n",
    "    mse = mean_squared_error(y_valid, train_preds, squared=False)\n",
    "    mse_scores.append(mse)\n",
    "    \n",
    "    print(f\"Fold: {fold}, RMSE: {mse}, \\nPredictions on test data: {test_preds}\")"
   ]
  },
  {
   "cell_type": "code",
   "execution_count": 11,
   "id": "8b75982f",
   "metadata": {
    "execution": {
     "iopub.execute_input": "2021-08-31T10:11:29.433166Z",
     "iopub.status.busy": "2021-08-31T10:11:29.432356Z",
     "iopub.status.idle": "2021-08-31T10:11:29.442166Z",
     "shell.execute_reply": "2021-08-31T10:11:29.441762Z",
     "shell.execute_reply.started": "2021-08-31T10:09:34.998056Z"
    },
    "papermill": {
     "duration": 0.029583,
     "end_time": "2021-08-31T10:11:29.442288",
     "exception": false,
     "start_time": "2021-08-31T10:11:29.412705",
     "status": "completed"
    },
    "tags": []
   },
   "outputs": [
    {
     "data": {
      "text/plain": [
       "array([8.027792, 8.351567, 8.366821, ..., 8.366877, 8.104303, 8.00264 ],\n",
       "      dtype=float32)"
      ]
     },
     "execution_count": 11,
     "metadata": {},
     "output_type": "execute_result"
    }
   ],
   "source": [
    "final_preds = np.mean(np.column_stack(final_predictions), axis=1)\n",
    "final_preds"
   ]
  },
  {
   "cell_type": "markdown",
   "id": "cecc0e71",
   "metadata": {
    "papermill": {
     "duration": 0.02029,
     "end_time": "2021-08-31T10:11:29.478669",
     "exception": false,
     "start_time": "2021-08-31T10:11:29.458379",
     "status": "completed"
    },
    "tags": []
   },
   "source": [
    "### Final predictions on test data"
   ]
  },
  {
   "cell_type": "code",
   "execution_count": 12,
   "id": "1cc3cfc1",
   "metadata": {
    "execution": {
     "iopub.execute_input": "2021-08-31T10:11:29.544970Z",
     "iopub.status.busy": "2021-08-31T10:11:29.544412Z",
     "iopub.status.idle": "2021-08-31T10:11:30.035837Z",
     "shell.execute_reply": "2021-08-31T10:11:30.035331Z",
     "shell.execute_reply.started": "2021-08-31T10:09:42.375271Z"
    },
    "papermill": {
     "duration": 0.521158,
     "end_time": "2021-08-31T10:11:30.035968",
     "exception": false,
     "start_time": "2021-08-31T10:11:29.514810",
     "status": "completed"
    },
    "tags": []
   },
   "outputs": [],
   "source": [
    "# Submitting predicted target to `submission.csv`\n",
    "output = pd.DataFrame({'Id': sample_submission.id,'target': final_preds})\n",
    "output.to_csv('submission.csv', index=False)"
   ]
  }
 ],
 "metadata": {
  "kernelspec": {
   "display_name": "Python 3",
   "language": "python",
   "name": "python3"
  },
  "language_info": {
   "codemirror_mode": {
    "name": "ipython",
    "version": 3
   },
   "file_extension": ".py",
   "mimetype": "text/x-python",
   "name": "python",
   "nbconvert_exporter": "python",
   "pygments_lexer": "ipython3",
   "version": "3.7.10"
  },
  "papermill": {
   "default_parameters": {},
   "duration": 59.644018,
   "end_time": "2021-08-31T10:11:31.675868",
   "environment_variables": {},
   "exception": null,
   "input_path": "__notebook__.ipynb",
   "output_path": "__notebook__.ipynb",
   "parameters": {},
   "start_time": "2021-08-31T10:10:32.031850",
   "version": "2.3.3"
  }
 },
 "nbformat": 4,
 "nbformat_minor": 5
}
