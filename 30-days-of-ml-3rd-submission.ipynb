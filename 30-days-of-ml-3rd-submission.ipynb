{
 "cells": [
  {
   "cell_type": "markdown",
   "id": "e0c4e831",
   "metadata": {
    "papermill": {
     "duration": 0.013905,
     "end_time": "2021-08-30T10:59:20.146579",
     "exception": false,
     "start_time": "2021-08-30T10:59:20.132674",
     "status": "completed"
    },
    "tags": []
   },
   "source": [
    "## Importing required modules"
   ]
  },
  {
   "cell_type": "code",
   "execution_count": 1,
   "id": "f4446005",
   "metadata": {
    "execution": {
     "iopub.execute_input": "2021-08-30T10:59:20.177825Z",
     "iopub.status.busy": "2021-08-30T10:59:20.176291Z",
     "iopub.status.idle": "2021-08-30T10:59:21.122203Z",
     "shell.execute_reply": "2021-08-30T10:59:21.121190Z",
     "shell.execute_reply.started": "2021-08-30T10:47:41.982276Z"
    },
    "papermill": {
     "duration": 0.96249,
     "end_time": "2021-08-30T10:59:21.122360",
     "exception": false,
     "start_time": "2021-08-30T10:59:20.159870",
     "status": "completed"
    },
    "tags": []
   },
   "outputs": [],
   "source": [
    "# importing required modules\n",
    "import math\n",
    "import numpy as np\n",
    "import pandas as pd\n",
    "from xgboost import XGBRegressor\n",
    "from sklearn.pipeline import Pipeline\n",
    "from sklearn.impute import SimpleImputer\n",
    "from sklearn.compose import ColumnTransformer\n",
    "from sklearn.preprocessing import OneHotEncoder, OrdinalEncoder\n",
    "from sklearn.metrics import mean_absolute_error, mean_squared_error\n",
    "from sklearn.model_selection import train_test_split"
   ]
  },
  {
   "cell_type": "markdown",
   "id": "f12330f8",
   "metadata": {
    "papermill": {
     "duration": 0.012878,
     "end_time": "2021-08-30T10:59:21.148771",
     "exception": false,
     "start_time": "2021-08-30T10:59:21.135893",
     "status": "completed"
    },
    "tags": []
   },
   "source": [
    "## Loading data"
   ]
  },
  {
   "cell_type": "code",
   "execution_count": 2,
   "id": "1bdecc63",
   "metadata": {
    "execution": {
     "iopub.execute_input": "2021-08-30T10:59:21.178603Z",
     "iopub.status.busy": "2021-08-30T10:59:21.177814Z",
     "iopub.status.idle": "2021-08-30T10:59:24.377254Z",
     "shell.execute_reply": "2021-08-30T10:59:24.376322Z",
     "shell.execute_reply.started": "2021-08-30T10:47:49.810218Z"
    },
    "papermill": {
     "duration": 3.21578,
     "end_time": "2021-08-30T10:59:24.377414",
     "exception": false,
     "start_time": "2021-08-30T10:59:21.161634",
     "status": "completed"
    },
    "tags": []
   },
   "outputs": [],
   "source": [
    "train_data = pd.read_csv(\"../input/30-days-of-ml/train.csv\")\n",
    "test_data = pd.read_csv(\"../input/30-days-of-ml/test.csv\")\n",
    "#sample_subm_data = pd.read_csv(\"../input/30-days-of-ml/sample_submission.csv\")"
   ]
  },
  {
   "cell_type": "markdown",
   "id": "12f06f4e",
   "metadata": {
    "papermill": {
     "duration": 0.013063,
     "end_time": "2021-08-30T10:59:24.403882",
     "exception": false,
     "start_time": "2021-08-30T10:59:24.390819",
     "status": "completed"
    },
    "tags": []
   },
   "source": [
    "## Training data Columns"
   ]
  },
  {
   "cell_type": "markdown",
   "id": "7b8e44bb",
   "metadata": {
    "papermill": {
     "duration": 0.012947,
     "end_time": "2021-08-30T10:59:24.430019",
     "exception": false,
     "start_time": "2021-08-30T10:59:24.417072",
     "status": "completed"
    },
    "tags": []
   },
   "source": [
    "## Setting features and target"
   ]
  },
  {
   "cell_type": "code",
   "execution_count": 3,
   "id": "5465b49f",
   "metadata": {
    "execution": {
     "iopub.execute_input": "2021-08-30T10:59:24.468698Z",
     "iopub.status.busy": "2021-08-30T10:59:24.468003Z",
     "iopub.status.idle": "2021-08-30T10:59:24.505902Z",
     "shell.execute_reply": "2021-08-30T10:59:24.505382Z",
     "shell.execute_reply.started": "2021-08-30T10:47:51.673429Z"
    },
    "papermill": {
     "duration": 0.063009,
     "end_time": "2021-08-30T10:59:24.506030",
     "exception": false,
     "start_time": "2021-08-30T10:59:24.443021",
     "status": "completed"
    },
    "tags": []
   },
   "outputs": [],
   "source": [
    "# Prediction target and features\n",
    "cat_features = ['cat0', 'cat1', 'cat2', 'cat3', 'cat4', 'cat5', 'cat6', 'cat7', 'cat8', 'cat9']\n",
    "numerical_features = ['cont0', 'cont1', 'cont2', 'cont3', 'cont4', 'cont5', 'cont6', 'cont7', 'cont8', 'cont9', 'cont10', 'cont11', 'cont12', 'cont13']\n",
    "y = train_data.target\n",
    "X = train_data.drop(['id', 'target'], axis=1)"
   ]
  },
  {
   "cell_type": "markdown",
   "id": "c5e12ce0",
   "metadata": {
    "papermill": {
     "duration": 0.012843,
     "end_time": "2021-08-30T10:59:24.532125",
     "exception": false,
     "start_time": "2021-08-30T10:59:24.519282",
     "status": "completed"
    },
    "tags": []
   },
   "source": [
    "## Splitting the whole data for preprocessing"
   ]
  },
  {
   "cell_type": "code",
   "execution_count": 4,
   "id": "25a042f8",
   "metadata": {
    "execution": {
     "iopub.execute_input": "2021-08-30T10:59:24.563188Z",
     "iopub.status.busy": "2021-08-30T10:59:24.562513Z",
     "iopub.status.idle": "2021-08-30T10:59:24.663679Z",
     "shell.execute_reply": "2021-08-30T10:59:24.663204Z",
     "shell.execute_reply.started": "2021-08-30T10:47:51.838158Z"
    },
    "papermill": {
     "duration": 0.118794,
     "end_time": "2021-08-30T10:59:24.663811",
     "exception": false,
     "start_time": "2021-08-30T10:59:24.545017",
     "status": "completed"
    },
    "tags": []
   },
   "outputs": [],
   "source": [
    "train_X, valid_X, train_y, valid_y = train_test_split(X, y, train_size=0.95, test_size=0.05, random_state=0)"
   ]
  },
  {
   "cell_type": "markdown",
   "id": "69cb96d7",
   "metadata": {
    "papermill": {
     "duration": 0.013181,
     "end_time": "2021-08-30T10:59:24.690477",
     "exception": false,
     "start_time": "2021-08-30T10:59:24.677296",
     "status": "completed"
    },
    "tags": []
   },
   "source": [
    "## Applying One Hot Encoding on categorical data"
   ]
  },
  {
   "cell_type": "code",
   "execution_count": 5,
   "id": "005ab83c",
   "metadata": {
    "execution": {
     "iopub.execute_input": "2021-08-30T10:59:24.755307Z",
     "iopub.status.busy": "2021-08-30T10:59:24.754536Z",
     "iopub.status.idle": "2021-08-30T10:59:26.215516Z",
     "shell.execute_reply": "2021-08-30T10:59:26.215033Z",
     "shell.execute_reply.started": "2021-08-30T10:47:52.158451Z"
    },
    "papermill": {
     "duration": 1.51216,
     "end_time": "2021-08-30T10:59:26.215646",
     "exception": false,
     "start_time": "2021-08-30T10:59:24.703486",
     "status": "completed"
    },
    "tags": []
   },
   "outputs": [],
   "source": [
    "# Apply one-hot encoder to each column with categorical data\n",
    "oh_encoder = OneHotEncoder(handle_unknown=\"ignore\", sparse=False)\n",
    "oh_encoder.fit(train_X[cat_features])\n",
    "oh_train_cols = pd.DataFrame(oh_encoder.transform(train_X[cat_features]))\n",
    "oh_valid_cols = pd.DataFrame(oh_encoder.transform(valid_X[cat_features]))\n",
    "\n",
    "# Putting index columns back\n",
    "oh_train_cols.index = train_X.index\n",
    "oh_valid_cols.index = valid_X.index\n",
    "\n",
    "# Removing categorical columns\n",
    "num_X_train = train_X.drop(cat_features, axis=1)\n",
    "num_X_valid = valid_X.drop(cat_features, axis=1)\n",
    "\n",
    "# Adding one hot encoded columns with numerical columns\n",
    "X_train = pd.concat([num_X_train, oh_train_cols], axis=1)\n",
    "X_valid = pd.concat([num_X_valid, oh_valid_cols], axis=1)"
   ]
  },
  {
   "cell_type": "markdown",
   "id": "8dd2f00f",
   "metadata": {
    "papermill": {
     "duration": 0.012816,
     "end_time": "2021-08-30T10:59:26.241509",
     "exception": false,
     "start_time": "2021-08-30T10:59:26.228693",
     "status": "completed"
    },
    "tags": []
   },
   "source": [
    "## XGB Regressor model"
   ]
  },
  {
   "cell_type": "code",
   "execution_count": 6,
   "id": "7a85dc4a",
   "metadata": {
    "execution": {
     "iopub.execute_input": "2021-08-30T10:59:26.275350Z",
     "iopub.status.busy": "2021-08-30T10:59:26.274199Z",
     "iopub.status.idle": "2021-08-30T11:07:21.047189Z",
     "shell.execute_reply": "2021-08-30T11:07:21.047663Z",
     "shell.execute_reply.started": "2021-08-30T10:47:55.419242Z"
    },
    "papermill": {
     "duration": 474.793455,
     "end_time": "2021-08-30T11:07:21.047830",
     "exception": false,
     "start_time": "2021-08-30T10:59:26.254375",
     "status": "completed"
    },
    "tags": []
   },
   "outputs": [
    {
     "data": {
      "text/plain": [
       "XGBRegressor(base_score=0.5, booster='gbtree', colsample_bylevel=1,\n",
       "             colsample_bynode=1, colsample_bytree=1, gamma=0, gpu_id=-1,\n",
       "             importance_type='gain', interaction_constraints='',\n",
       "             learning_rate=0.05, max_delta_step=0, max_depth=6,\n",
       "             min_child_weight=1, missing=nan, monotone_constraints='()',\n",
       "             n_estimators=10000, n_jobs=4, num_parallel_tree=1, random_state=0,\n",
       "             reg_alpha=0, reg_lambda=1, scale_pos_weight=1, subsample=1,\n",
       "             tree_method='exact', validate_parameters=1, verbosity=None)"
      ]
     },
     "execution_count": 6,
     "metadata": {},
     "output_type": "execute_result"
    }
   ],
   "source": [
    "# making model for predicting target on training dataset\n",
    "model_1 = XGBRegressor(n_estimators=10000, learning_rate=0.05, n_jobs=4)\n",
    "model_1.fit(X_train, train_y, early_stopping_rounds=5, eval_set=[(X_valid, valid_y)], verbose=False)"
   ]
  },
  {
   "cell_type": "code",
   "execution_count": 7,
   "id": "70052c05",
   "metadata": {
    "execution": {
     "iopub.execute_input": "2021-08-30T11:07:21.101798Z",
     "iopub.status.busy": "2021-08-30T11:07:21.080827Z",
     "iopub.status.idle": "2021-08-30T11:07:22.398796Z",
     "shell.execute_reply": "2021-08-30T11:07:22.399613Z",
     "shell.execute_reply.started": "2021-08-30T10:55:36.344879Z"
    },
    "papermill": {
     "duration": 1.338657,
     "end_time": "2021-08-30T11:07:22.399826",
     "exception": false,
     "start_time": "2021-08-30T11:07:21.061169",
     "status": "completed"
    },
    "tags": []
   },
   "outputs": [
    {
     "name": "stdout",
     "output_type": "stream",
     "text": [
      "XGB Model scores on training data:\n",
      "Predictions: [8.217206 7.840215 8.138892 ... 8.170606 8.277083 8.323044]\n",
      "MAE: 0.5732343367413175\n",
      "RMSE: 0.725559368169386\n"
     ]
    }
   ],
   "source": [
    "training_predictions_1 = model_1.predict(X_valid)\n",
    "training_mae_1 = mean_absolute_error(training_predictions_1, valid_y)\n",
    "training_rmse_1 = math.sqrt(mean_squared_error(training_predictions_1, valid_y))\n",
    "\n",
    "print(\"XGB Model scores on training data:\")\n",
    "print(f\"Predictions: {training_predictions_1}\")\n",
    "print(f\"MAE: {training_mae_1}\")\n",
    "print(f\"RMSE: {training_rmse_1}\")"
   ]
  },
  {
   "cell_type": "markdown",
   "id": "97050fd7",
   "metadata": {
    "papermill": {
     "duration": 0.013775,
     "end_time": "2021-08-30T11:07:22.429148",
     "exception": false,
     "start_time": "2021-08-30T11:07:22.415373",
     "status": "completed"
    },
    "tags": []
   },
   "source": [
    "# Test data"
   ]
  },
  {
   "cell_type": "code",
   "execution_count": 8,
   "id": "83b464b0",
   "metadata": {
    "execution": {
     "iopub.execute_input": "2021-08-30T11:07:22.464318Z",
     "iopub.status.busy": "2021-08-30T11:07:22.463513Z",
     "iopub.status.idle": "2021-08-30T11:07:22.488444Z",
     "shell.execute_reply": "2021-08-30T11:07:22.488865Z",
     "shell.execute_reply.started": "2021-08-30T10:55:36.451060Z"
    },
    "papermill": {
     "duration": 0.046077,
     "end_time": "2021-08-30T11:07:22.489008",
     "exception": false,
     "start_time": "2021-08-30T11:07:22.442931",
     "status": "completed"
    },
    "tags": []
   },
   "outputs": [
    {
     "name": "stdout",
     "output_type": "stream",
     "text": [
      "(200000, 25)\n"
     ]
    },
    {
     "data": {
      "text/html": [
       "<div>\n",
       "<style scoped>\n",
       "    .dataframe tbody tr th:only-of-type {\n",
       "        vertical-align: middle;\n",
       "    }\n",
       "\n",
       "    .dataframe tbody tr th {\n",
       "        vertical-align: top;\n",
       "    }\n",
       "\n",
       "    .dataframe thead th {\n",
       "        text-align: right;\n",
       "    }\n",
       "</style>\n",
       "<table border=\"1\" class=\"dataframe\">\n",
       "  <thead>\n",
       "    <tr style=\"text-align: right;\">\n",
       "      <th></th>\n",
       "      <th>id</th>\n",
       "      <th>cat0</th>\n",
       "      <th>cat1</th>\n",
       "      <th>cat2</th>\n",
       "      <th>cat3</th>\n",
       "      <th>cat4</th>\n",
       "      <th>cat5</th>\n",
       "      <th>cat6</th>\n",
       "      <th>cat7</th>\n",
       "      <th>cat8</th>\n",
       "      <th>...</th>\n",
       "      <th>cont4</th>\n",
       "      <th>cont5</th>\n",
       "      <th>cont6</th>\n",
       "      <th>cont7</th>\n",
       "      <th>cont8</th>\n",
       "      <th>cont9</th>\n",
       "      <th>cont10</th>\n",
       "      <th>cont11</th>\n",
       "      <th>cont12</th>\n",
       "      <th>cont13</th>\n",
       "    </tr>\n",
       "  </thead>\n",
       "  <tbody>\n",
       "    <tr>\n",
       "      <th>0</th>\n",
       "      <td>0</td>\n",
       "      <td>B</td>\n",
       "      <td>B</td>\n",
       "      <td>B</td>\n",
       "      <td>C</td>\n",
       "      <td>B</td>\n",
       "      <td>B</td>\n",
       "      <td>A</td>\n",
       "      <td>E</td>\n",
       "      <td>E</td>\n",
       "      <td>...</td>\n",
       "      <td>0.476739</td>\n",
       "      <td>0.376350</td>\n",
       "      <td>0.337884</td>\n",
       "      <td>0.321832</td>\n",
       "      <td>0.445212</td>\n",
       "      <td>0.290258</td>\n",
       "      <td>0.244476</td>\n",
       "      <td>0.087914</td>\n",
       "      <td>0.301831</td>\n",
       "      <td>0.845702</td>\n",
       "    </tr>\n",
       "    <tr>\n",
       "      <th>1</th>\n",
       "      <td>5</td>\n",
       "      <td>A</td>\n",
       "      <td>B</td>\n",
       "      <td>A</td>\n",
       "      <td>C</td>\n",
       "      <td>B</td>\n",
       "      <td>C</td>\n",
       "      <td>A</td>\n",
       "      <td>E</td>\n",
       "      <td>C</td>\n",
       "      <td>...</td>\n",
       "      <td>0.285509</td>\n",
       "      <td>0.860046</td>\n",
       "      <td>0.798712</td>\n",
       "      <td>0.835961</td>\n",
       "      <td>0.391657</td>\n",
       "      <td>0.288276</td>\n",
       "      <td>0.549568</td>\n",
       "      <td>0.905097</td>\n",
       "      <td>0.850684</td>\n",
       "      <td>0.693940</td>\n",
       "    </tr>\n",
       "    <tr>\n",
       "      <th>2</th>\n",
       "      <td>15</td>\n",
       "      <td>B</td>\n",
       "      <td>A</td>\n",
       "      <td>A</td>\n",
       "      <td>A</td>\n",
       "      <td>B</td>\n",
       "      <td>B</td>\n",
       "      <td>A</td>\n",
       "      <td>E</td>\n",
       "      <td>D</td>\n",
       "      <td>...</td>\n",
       "      <td>0.697272</td>\n",
       "      <td>0.683600</td>\n",
       "      <td>0.404089</td>\n",
       "      <td>0.879379</td>\n",
       "      <td>0.275549</td>\n",
       "      <td>0.427871</td>\n",
       "      <td>0.491667</td>\n",
       "      <td>0.384315</td>\n",
       "      <td>0.376689</td>\n",
       "      <td>0.508099</td>\n",
       "    </tr>\n",
       "    <tr>\n",
       "      <th>3</th>\n",
       "      <td>16</td>\n",
       "      <td>B</td>\n",
       "      <td>B</td>\n",
       "      <td>A</td>\n",
       "      <td>C</td>\n",
       "      <td>B</td>\n",
       "      <td>D</td>\n",
       "      <td>A</td>\n",
       "      <td>E</td>\n",
       "      <td>A</td>\n",
       "      <td>...</td>\n",
       "      <td>0.719306</td>\n",
       "      <td>0.777890</td>\n",
       "      <td>0.730954</td>\n",
       "      <td>0.644315</td>\n",
       "      <td>1.024017</td>\n",
       "      <td>0.391090</td>\n",
       "      <td>0.988340</td>\n",
       "      <td>0.411828</td>\n",
       "      <td>0.393585</td>\n",
       "      <td>0.461372</td>\n",
       "    </tr>\n",
       "    <tr>\n",
       "      <th>4</th>\n",
       "      <td>17</td>\n",
       "      <td>B</td>\n",
       "      <td>B</td>\n",
       "      <td>A</td>\n",
       "      <td>C</td>\n",
       "      <td>B</td>\n",
       "      <td>C</td>\n",
       "      <td>A</td>\n",
       "      <td>E</td>\n",
       "      <td>C</td>\n",
       "      <td>...</td>\n",
       "      <td>0.313032</td>\n",
       "      <td>0.431007</td>\n",
       "      <td>0.390992</td>\n",
       "      <td>0.408874</td>\n",
       "      <td>0.447887</td>\n",
       "      <td>0.390253</td>\n",
       "      <td>0.648932</td>\n",
       "      <td>0.385935</td>\n",
       "      <td>0.370401</td>\n",
       "      <td>0.900412</td>\n",
       "    </tr>\n",
       "  </tbody>\n",
       "</table>\n",
       "<p>5 rows × 25 columns</p>\n",
       "</div>"
      ],
      "text/plain": [
       "   id cat0 cat1 cat2 cat3 cat4 cat5 cat6 cat7 cat8  ...     cont4     cont5  \\\n",
       "0   0    B    B    B    C    B    B    A    E    E  ...  0.476739  0.376350   \n",
       "1   5    A    B    A    C    B    C    A    E    C  ...  0.285509  0.860046   \n",
       "2  15    B    A    A    A    B    B    A    E    D  ...  0.697272  0.683600   \n",
       "3  16    B    B    A    C    B    D    A    E    A  ...  0.719306  0.777890   \n",
       "4  17    B    B    A    C    B    C    A    E    C  ...  0.313032  0.431007   \n",
       "\n",
       "      cont6     cont7     cont8     cont9    cont10    cont11    cont12  \\\n",
       "0  0.337884  0.321832  0.445212  0.290258  0.244476  0.087914  0.301831   \n",
       "1  0.798712  0.835961  0.391657  0.288276  0.549568  0.905097  0.850684   \n",
       "2  0.404089  0.879379  0.275549  0.427871  0.491667  0.384315  0.376689   \n",
       "3  0.730954  0.644315  1.024017  0.391090  0.988340  0.411828  0.393585   \n",
       "4  0.390992  0.408874  0.447887  0.390253  0.648932  0.385935  0.370401   \n",
       "\n",
       "     cont13  \n",
       "0  0.845702  \n",
       "1  0.693940  \n",
       "2  0.508099  \n",
       "3  0.461372  \n",
       "4  0.900412  \n",
       "\n",
       "[5 rows x 25 columns]"
      ]
     },
     "execution_count": 8,
     "metadata": {},
     "output_type": "execute_result"
    }
   ],
   "source": [
    "print(test_data.shape)\n",
    "test_data.head()"
   ]
  },
  {
   "cell_type": "code",
   "execution_count": 9,
   "id": "bbaaa6b9",
   "metadata": {
    "execution": {
     "iopub.execute_input": "2021-08-30T11:07:22.524081Z",
     "iopub.status.busy": "2021-08-30T11:07:22.523219Z",
     "iopub.status.idle": "2021-08-30T11:07:22.564946Z",
     "shell.execute_reply": "2021-08-30T11:07:22.565350Z",
     "shell.execute_reply.started": "2021-08-30T10:55:36.477674Z"
    },
    "papermill": {
     "duration": 0.061936,
     "end_time": "2021-08-30T11:07:22.565506",
     "exception": false,
     "start_time": "2021-08-30T11:07:22.503570",
     "status": "completed"
    },
    "tags": []
   },
   "outputs": [
    {
     "data": {
      "text/html": [
       "<div>\n",
       "<style scoped>\n",
       "    .dataframe tbody tr th:only-of-type {\n",
       "        vertical-align: middle;\n",
       "    }\n",
       "\n",
       "    .dataframe tbody tr th {\n",
       "        vertical-align: top;\n",
       "    }\n",
       "\n",
       "    .dataframe thead th {\n",
       "        text-align: right;\n",
       "    }\n",
       "</style>\n",
       "<table border=\"1\" class=\"dataframe\">\n",
       "  <thead>\n",
       "    <tr style=\"text-align: right;\">\n",
       "      <th></th>\n",
       "      <th>cat0</th>\n",
       "      <th>cat1</th>\n",
       "      <th>cat2</th>\n",
       "      <th>cat3</th>\n",
       "      <th>cat4</th>\n",
       "      <th>cat5</th>\n",
       "      <th>cat6</th>\n",
       "      <th>cat7</th>\n",
       "      <th>cat8</th>\n",
       "      <th>cat9</th>\n",
       "      <th>...</th>\n",
       "      <th>cont4</th>\n",
       "      <th>cont5</th>\n",
       "      <th>cont6</th>\n",
       "      <th>cont7</th>\n",
       "      <th>cont8</th>\n",
       "      <th>cont9</th>\n",
       "      <th>cont10</th>\n",
       "      <th>cont11</th>\n",
       "      <th>cont12</th>\n",
       "      <th>cont13</th>\n",
       "    </tr>\n",
       "  </thead>\n",
       "  <tbody>\n",
       "    <tr>\n",
       "      <th>0</th>\n",
       "      <td>B</td>\n",
       "      <td>B</td>\n",
       "      <td>B</td>\n",
       "      <td>C</td>\n",
       "      <td>B</td>\n",
       "      <td>B</td>\n",
       "      <td>A</td>\n",
       "      <td>E</td>\n",
       "      <td>E</td>\n",
       "      <td>I</td>\n",
       "      <td>...</td>\n",
       "      <td>0.476739</td>\n",
       "      <td>0.376350</td>\n",
       "      <td>0.337884</td>\n",
       "      <td>0.321832</td>\n",
       "      <td>0.445212</td>\n",
       "      <td>0.290258</td>\n",
       "      <td>0.244476</td>\n",
       "      <td>0.087914</td>\n",
       "      <td>0.301831</td>\n",
       "      <td>0.845702</td>\n",
       "    </tr>\n",
       "    <tr>\n",
       "      <th>1</th>\n",
       "      <td>A</td>\n",
       "      <td>B</td>\n",
       "      <td>A</td>\n",
       "      <td>C</td>\n",
       "      <td>B</td>\n",
       "      <td>C</td>\n",
       "      <td>A</td>\n",
       "      <td>E</td>\n",
       "      <td>C</td>\n",
       "      <td>H</td>\n",
       "      <td>...</td>\n",
       "      <td>0.285509</td>\n",
       "      <td>0.860046</td>\n",
       "      <td>0.798712</td>\n",
       "      <td>0.835961</td>\n",
       "      <td>0.391657</td>\n",
       "      <td>0.288276</td>\n",
       "      <td>0.549568</td>\n",
       "      <td>0.905097</td>\n",
       "      <td>0.850684</td>\n",
       "      <td>0.693940</td>\n",
       "    </tr>\n",
       "    <tr>\n",
       "      <th>2</th>\n",
       "      <td>B</td>\n",
       "      <td>A</td>\n",
       "      <td>A</td>\n",
       "      <td>A</td>\n",
       "      <td>B</td>\n",
       "      <td>B</td>\n",
       "      <td>A</td>\n",
       "      <td>E</td>\n",
       "      <td>D</td>\n",
       "      <td>K</td>\n",
       "      <td>...</td>\n",
       "      <td>0.697272</td>\n",
       "      <td>0.683600</td>\n",
       "      <td>0.404089</td>\n",
       "      <td>0.879379</td>\n",
       "      <td>0.275549</td>\n",
       "      <td>0.427871</td>\n",
       "      <td>0.491667</td>\n",
       "      <td>0.384315</td>\n",
       "      <td>0.376689</td>\n",
       "      <td>0.508099</td>\n",
       "    </tr>\n",
       "    <tr>\n",
       "      <th>3</th>\n",
       "      <td>B</td>\n",
       "      <td>B</td>\n",
       "      <td>A</td>\n",
       "      <td>C</td>\n",
       "      <td>B</td>\n",
       "      <td>D</td>\n",
       "      <td>A</td>\n",
       "      <td>E</td>\n",
       "      <td>A</td>\n",
       "      <td>N</td>\n",
       "      <td>...</td>\n",
       "      <td>0.719306</td>\n",
       "      <td>0.777890</td>\n",
       "      <td>0.730954</td>\n",
       "      <td>0.644315</td>\n",
       "      <td>1.024017</td>\n",
       "      <td>0.391090</td>\n",
       "      <td>0.988340</td>\n",
       "      <td>0.411828</td>\n",
       "      <td>0.393585</td>\n",
       "      <td>0.461372</td>\n",
       "    </tr>\n",
       "    <tr>\n",
       "      <th>4</th>\n",
       "      <td>B</td>\n",
       "      <td>B</td>\n",
       "      <td>A</td>\n",
       "      <td>C</td>\n",
       "      <td>B</td>\n",
       "      <td>C</td>\n",
       "      <td>A</td>\n",
       "      <td>E</td>\n",
       "      <td>C</td>\n",
       "      <td>F</td>\n",
       "      <td>...</td>\n",
       "      <td>0.313032</td>\n",
       "      <td>0.431007</td>\n",
       "      <td>0.390992</td>\n",
       "      <td>0.408874</td>\n",
       "      <td>0.447887</td>\n",
       "      <td>0.390253</td>\n",
       "      <td>0.648932</td>\n",
       "      <td>0.385935</td>\n",
       "      <td>0.370401</td>\n",
       "      <td>0.900412</td>\n",
       "    </tr>\n",
       "  </tbody>\n",
       "</table>\n",
       "<p>5 rows × 24 columns</p>\n",
       "</div>"
      ],
      "text/plain": [
       "  cat0 cat1 cat2 cat3 cat4 cat5 cat6 cat7 cat8 cat9  ...     cont4     cont5  \\\n",
       "0    B    B    B    C    B    B    A    E    E    I  ...  0.476739  0.376350   \n",
       "1    A    B    A    C    B    C    A    E    C    H  ...  0.285509  0.860046   \n",
       "2    B    A    A    A    B    B    A    E    D    K  ...  0.697272  0.683600   \n",
       "3    B    B    A    C    B    D    A    E    A    N  ...  0.719306  0.777890   \n",
       "4    B    B    A    C    B    C    A    E    C    F  ...  0.313032  0.431007   \n",
       "\n",
       "      cont6     cont7     cont8     cont9    cont10    cont11    cont12  \\\n",
       "0  0.337884  0.321832  0.445212  0.290258  0.244476  0.087914  0.301831   \n",
       "1  0.798712  0.835961  0.391657  0.288276  0.549568  0.905097  0.850684   \n",
       "2  0.404089  0.879379  0.275549  0.427871  0.491667  0.384315  0.376689   \n",
       "3  0.730954  0.644315  1.024017  0.391090  0.988340  0.411828  0.393585   \n",
       "4  0.390992  0.408874  0.447887  0.390253  0.648932  0.385935  0.370401   \n",
       "\n",
       "     cont13  \n",
       "0  0.845702  \n",
       "1  0.693940  \n",
       "2  0.508099  \n",
       "3  0.461372  \n",
       "4  0.900412  \n",
       "\n",
       "[5 rows x 24 columns]"
      ]
     },
     "execution_count": 9,
     "metadata": {},
     "output_type": "execute_result"
    }
   ],
   "source": [
    "final_X = test_data.drop([\"id\"], axis=1)\n",
    "final_X.head()"
   ]
  },
  {
   "cell_type": "markdown",
   "id": "3f897281",
   "metadata": {
    "papermill": {
     "duration": 0.014997,
     "end_time": "2021-08-30T11:07:22.595290",
     "exception": false,
     "start_time": "2021-08-30T11:07:22.580293",
     "status": "completed"
    },
    "tags": []
   },
   "source": [
    "### Applying One Hot Encoding to categorical columns for test data"
   ]
  },
  {
   "cell_type": "code",
   "execution_count": 10,
   "id": "3beb7c05",
   "metadata": {
    "execution": {
     "iopub.execute_input": "2021-08-30T11:07:22.640219Z",
     "iopub.status.busy": "2021-08-30T11:07:22.639343Z",
     "iopub.status.idle": "2021-08-30T11:07:23.509724Z",
     "shell.execute_reply": "2021-08-30T11:07:23.510132Z",
     "shell.execute_reply.started": "2021-08-30T10:56:17.194723Z"
    },
    "papermill": {
     "duration": 0.900153,
     "end_time": "2021-08-30T11:07:23.510292",
     "exception": false,
     "start_time": "2021-08-30T11:07:22.610139",
     "status": "completed"
    },
    "tags": []
   },
   "outputs": [],
   "source": [
    "# Apply one-hot encoder to each column with categorical data on final data(test data)\n",
    "oh_final_cols = pd.DataFrame(oh_encoder.transform(final_X[cat_features]))\n",
    "\n",
    "# Putting index columns back\n",
    "oh_final_cols.index = final_X.index\n",
    "\n",
    "# Removing categorical columns\n",
    "num_X_final = final_X.drop(cat_features, axis=1)\n",
    "\n",
    "# Adding one hot encoded columns with numerical columns\n",
    "X_final = pd.concat([num_X_final, oh_final_cols], axis=1)"
   ]
  },
  {
   "cell_type": "markdown",
   "id": "96a12e3f",
   "metadata": {
    "papermill": {
     "duration": 0.014554,
     "end_time": "2021-08-30T11:07:23.539863",
     "exception": false,
     "start_time": "2021-08-30T11:07:23.525309",
     "status": "completed"
    },
    "tags": []
   },
   "source": [
    "### Predicting the target on final data"
   ]
  },
  {
   "cell_type": "code",
   "execution_count": 11,
   "id": "893e40ee",
   "metadata": {
    "execution": {
     "iopub.execute_input": "2021-08-30T11:07:23.574077Z",
     "iopub.status.busy": "2021-08-30T11:07:23.573161Z",
     "iopub.status.idle": "2021-08-30T11:07:24.895991Z",
     "shell.execute_reply": "2021-08-30T11:07:24.895517Z",
     "shell.execute_reply.started": "2021-08-30T10:56:18.677627Z"
    },
    "papermill": {
     "duration": 1.341423,
     "end_time": "2021-08-30T11:07:24.896122",
     "exception": false,
     "start_time": "2021-08-30T11:07:23.554699",
     "status": "completed"
    },
    "tags": []
   },
   "outputs": [
    {
     "data": {
      "text/plain": [
       "array([8.01815 , 8.342946, 8.375421, ..., 8.418993, 8.070883, 8.05259 ],\n",
       "      dtype=float32)"
      ]
     },
     "execution_count": 11,
     "metadata": {},
     "output_type": "execute_result"
    }
   ],
   "source": [
    "final_predictions = model_1.predict(X_final)\n",
    "final_predictions"
   ]
  },
  {
   "cell_type": "markdown",
   "id": "82b553ef",
   "metadata": {
    "papermill": {
     "duration": 0.015315,
     "end_time": "2021-08-30T11:07:24.927542",
     "exception": false,
     "start_time": "2021-08-30T11:07:24.912227",
     "status": "completed"
    },
    "tags": []
   },
   "source": [
    "## Submitting the final predictions"
   ]
  },
  {
   "cell_type": "code",
   "execution_count": 12,
   "id": "158c2d7d",
   "metadata": {
    "execution": {
     "iopub.execute_input": "2021-08-30T11:07:24.963312Z",
     "iopub.status.busy": "2021-08-30T11:07:24.962657Z",
     "iopub.status.idle": "2021-08-30T11:07:25.460067Z",
     "shell.execute_reply": "2021-08-30T11:07:25.459578Z",
     "shell.execute_reply.started": "2021-08-30T10:57:45.407363Z"
    },
    "papermill": {
     "duration": 0.517397,
     "end_time": "2021-08-30T11:07:25.460197",
     "exception": false,
     "start_time": "2021-08-30T11:07:24.942800",
     "status": "completed"
    },
    "tags": []
   },
   "outputs": [],
   "source": [
    "# Submitting predicted target to `submission.csv`\n",
    "output = pd.DataFrame({'Id': test_data.id,'target': final_predictions})\n",
    "output.to_csv('submission.csv', index=False)"
   ]
  }
 ],
 "metadata": {
  "kernelspec": {
   "display_name": "Python 3",
   "language": "python",
   "name": "python3"
  },
  "language_info": {
   "codemirror_mode": {
    "name": "ipython",
    "version": 3
   },
   "file_extension": ".py",
   "mimetype": "text/x-python",
   "name": "python",
   "nbconvert_exporter": "python",
   "pygments_lexer": "ipython3",
   "version": "3.7.10"
  },
  "papermill": {
   "default_parameters": {},
   "duration": 493.74793,
   "end_time": "2021-08-30T11:07:27.238756",
   "environment_variables": {},
   "exception": null,
   "input_path": "__notebook__.ipynb",
   "output_path": "__notebook__.ipynb",
   "parameters": {},
   "start_time": "2021-08-30T10:59:13.490826",
   "version": "2.3.3"
  }
 },
 "nbformat": 4,
 "nbformat_minor": 5
}
