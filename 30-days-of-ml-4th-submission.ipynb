{
 "cells": [
  {
   "cell_type": "markdown",
   "id": "2daedb80",
   "metadata": {
    "papermill": {
     "duration": 0.027161,
     "end_time": "2021-08-30T14:52:11.842531",
     "exception": false,
     "start_time": "2021-08-30T14:52:11.815370",
     "status": "completed"
    },
    "tags": []
   },
   "source": [
    "# Importing required modules"
   ]
  },
  {
   "cell_type": "code",
   "execution_count": 1,
   "id": "05eeb88d",
   "metadata": {
    "execution": {
     "iopub.execute_input": "2021-08-30T14:52:11.897652Z",
     "iopub.status.busy": "2021-08-30T14:52:11.896035Z",
     "iopub.status.idle": "2021-08-30T14:52:13.167602Z",
     "shell.execute_reply": "2021-08-30T14:52:13.166540Z",
     "shell.execute_reply.started": "2021-08-30T14:49:59.756752Z"
    },
    "papermill": {
     "duration": 1.302998,
     "end_time": "2021-08-30T14:52:13.167781",
     "exception": false,
     "start_time": "2021-08-30T14:52:11.864783",
     "status": "completed"
    },
    "tags": []
   },
   "outputs": [],
   "source": [
    "import math\n",
    "import numpy as np\n",
    "import pandas as pd\n",
    "from xgboost import XGBRegressor\n",
    "from sklearn.preprocessing import OneHotEncoder\n",
    "from sklearn.metrics import mean_squared_error"
   ]
  },
  {
   "cell_type": "markdown",
   "id": "01a43d4d",
   "metadata": {
    "papermill": {
     "duration": 0.012708,
     "end_time": "2021-08-30T14:52:13.193553",
     "exception": false,
     "start_time": "2021-08-30T14:52:13.180845",
     "status": "completed"
    },
    "tags": []
   },
   "source": [
    "## Loading data"
   ]
  },
  {
   "cell_type": "code",
   "execution_count": 2,
   "id": "53a1d4db",
   "metadata": {
    "execution": {
     "iopub.execute_input": "2021-08-30T14:52:13.224189Z",
     "iopub.status.busy": "2021-08-30T14:52:13.223500Z",
     "iopub.status.idle": "2021-08-30T14:52:17.361951Z",
     "shell.execute_reply": "2021-08-30T14:52:17.361465Z",
     "shell.execute_reply.started": "2021-08-30T14:50:01.628884Z"
    },
    "papermill": {
     "duration": 4.155709,
     "end_time": "2021-08-30T14:52:17.362158",
     "exception": false,
     "start_time": "2021-08-30T14:52:13.206449",
     "status": "completed"
    },
    "tags": []
   },
   "outputs": [],
   "source": [
    "train_data = pd.read_csv(\"../input/30daysofml-train-folds/train_folds.csv\")\n",
    "test_data = pd.read_csv(\"../input/30-days-of-ml/test.csv\")"
   ]
  },
  {
   "cell_type": "markdown",
   "id": "29938dff",
   "metadata": {
    "papermill": {
     "duration": 0.013688,
     "end_time": "2021-08-30T14:52:17.389326",
     "exception": false,
     "start_time": "2021-08-30T14:52:17.375638",
     "status": "completed"
    },
    "tags": []
   },
   "source": [
    "#### Making data columns"
   ]
  },
  {
   "cell_type": "code",
   "execution_count": 3,
   "id": "cd3c928a",
   "metadata": {
    "execution": {
     "iopub.execute_input": "2021-08-30T14:52:17.422573Z",
     "iopub.status.busy": "2021-08-30T14:52:17.421502Z",
     "iopub.status.idle": "2021-08-30T14:52:17.424558Z",
     "shell.execute_reply": "2021-08-30T14:52:17.424085Z",
     "shell.execute_reply.started": "2021-08-30T14:50:03.271809Z"
    },
    "papermill": {
     "duration": 0.021948,
     "end_time": "2021-08-30T14:52:17.424688",
     "exception": false,
     "start_time": "2021-08-30T14:52:17.402740",
     "status": "completed"
    },
    "tags": []
   },
   "outputs": [],
   "source": [
    "cat_cols = [col for col in train_data.columns if col.startswith(\"cat\")]\n",
    "num_cols = [col for col in train_data.columns if col.startswith(\"cont\")]"
   ]
  },
  {
   "cell_type": "markdown",
   "id": "1a0b2032",
   "metadata": {
    "papermill": {
     "duration": 0.012837,
     "end_time": "2021-08-30T14:52:17.450710",
     "exception": false,
     "start_time": "2021-08-30T14:52:17.437873",
     "status": "completed"
    },
    "tags": []
   },
   "source": [
    "### Predicting target using XGB Regressor and kfold (total folds = 5)\n",
    "* Applying *One Hot Encoding* to categorical columns"
   ]
  },
  {
   "cell_type": "code",
   "execution_count": 4,
   "id": "0dd38d24",
   "metadata": {
    "execution": {
     "iopub.execute_input": "2021-08-30T14:52:17.501266Z",
     "iopub.status.busy": "2021-08-30T14:52:17.500319Z",
     "iopub.status.idle": "2021-08-30T14:52:39.185332Z",
     "shell.execute_reply": "2021-08-30T14:52:39.184418Z",
     "shell.execute_reply.started": "2021-08-30T14:50:33.702102Z"
    },
    "papermill": {
     "duration": 21.721712,
     "end_time": "2021-08-30T14:52:39.185486",
     "exception": false,
     "start_time": "2021-08-30T14:52:17.463774",
     "status": "completed"
    },
    "tags": []
   },
   "outputs": [
    {
     "name": "stdout",
     "output_type": "stream",
     "text": [
      "Fold: 0, RMSE: 0.7454918963073176\n",
      "Fold: 1, RMSE: 0.7449422944733177\n",
      "Fold: 2, RMSE: 0.7462892116818625\n",
      "Fold: 3, RMSE: 0.7469621106629815\n",
      "Fold: 4, RMSE: 0.7473844446393453\n"
     ]
    }
   ],
   "source": [
    "final_preds = []\n",
    "mse_scores = []\n",
    "for fold in range(5):\n",
    "    X_train = train_data[train_data.kfold != fold].reset_index(drop=True)\n",
    "    X_valid = train_data[train_data.kfold == fold].reset_index(drop=True)\n",
    "    \n",
    "    X_test = test_data.copy()\n",
    "    X_test = X_test[cat_cols]\n",
    "    \n",
    "    y_train = X_train.target\n",
    "    y_valid = X_valid.target\n",
    "    \n",
    "    X_train = X_train[cat_cols]\n",
    "    X_valid = X_valid[cat_cols]    \n",
    "    \n",
    "    # Applying One Hot Encoding\n",
    "    OH_encoder = OneHotEncoder(handle_unknown=\"ignore\", sparse=False)\n",
    "    OH_encoder.fit(X_train[cat_cols])\n",
    "    OH_X_train = OH_encoder.transform(X_train[cat_cols])\n",
    "    OH_X_valid = OH_encoder.transform(X_valid[cat_cols])\n",
    "    OH_X_test = OH_encoder.transform(X_test[cat_cols])\n",
    "    \n",
    "    # making DataFrame of one hot encoded columns and naming them\n",
    "    OH_X_train = pd.DataFrame(OH_X_train, columns=[f\"ohe_{i}\" for i in range(OH_X_train.shape[1])])\n",
    "    OH_X_valid = pd.DataFrame(OH_X_valid, columns=[f\"ohe_{i}\" for i in range(OH_X_valid.shape[1])])\n",
    "    OH_X_test = pd.DataFrame(OH_X_test, columns=[f\"ohe_{i}\" for i in range(OH_X_test.shape[1])])\n",
    "    \n",
    "    # One Hot Encoding removes Index, adding the Index back\n",
    "    OH_X_train.index = X_train[cat_cols].index\n",
    "    OH_X_valid.index = X_valid[cat_cols].index\n",
    "    OH_X_test.index = X_test[cat_cols].index\n",
    "    \n",
    "    # Concatinating both normal and one hot encoded columns\n",
    "    X_train = pd.concat([X_train, OH_X_train], axis=1)\n",
    "    X_valid = pd.concat([X_valid, OH_X_valid], axis=1)\n",
    "    X_test = pd.concat([X_test, OH_X_test], axis=1)\n",
    "    \n",
    "    # Dropping the categorical columns (as they are one hot encoded)\n",
    "    X_train = X_train.drop(cat_cols, axis=1)\n",
    "    X_valid = X_valid.drop(cat_cols, axis=1)\n",
    "    X_test = X_test.drop(cat_cols, axis=1)\n",
    "    \n",
    "    # XGB Regressor model\n",
    "    model = XGBRegressor(random_state=fold, tree_method=\"gpu_hist\", gpu_id=0, predictor=\"gpu_predictor\")\n",
    "    model.fit(X_train, y_train)\n",
    "    train_preds = model.predict(X_valid)\n",
    "    test_preds = model.predict(X_test)\n",
    "    final_preds.append(test_preds)\n",
    "    rmse = math.sqrt(mean_squared_error(y_valid, train_preds))\n",
    "    mse_scores.append(rmse)\n",
    "    print(f\"Fold: {fold}, RMSE: {rmse}\")    "
   ]
  },
  {
   "cell_type": "markdown",
   "id": "f9f0a3d4",
   "metadata": {
    "papermill": {
     "duration": 0.014211,
     "end_time": "2021-08-30T14:52:39.214340",
     "exception": false,
     "start_time": "2021-08-30T14:52:39.200129",
     "status": "completed"
    },
    "tags": []
   },
   "source": [
    "#### MSE scores on each fold"
   ]
  },
  {
   "cell_type": "code",
   "execution_count": 5,
   "id": "7be86717",
   "metadata": {
    "execution": {
     "iopub.execute_input": "2021-08-30T14:52:39.249728Z",
     "iopub.status.busy": "2021-08-30T14:52:39.248759Z",
     "iopub.status.idle": "2021-08-30T14:52:39.252008Z",
     "shell.execute_reply": "2021-08-30T14:52:39.252598Z",
     "shell.execute_reply.started": "2021-08-30T14:50:53.669155Z"
    },
    "papermill": {
     "duration": 0.023671,
     "end_time": "2021-08-30T14:52:39.252790",
     "exception": false,
     "start_time": "2021-08-30T14:52:39.229119",
     "status": "completed"
    },
    "tags": []
   },
   "outputs": [
    {
     "name": "stdout",
     "output_type": "stream",
     "text": [
      "MSE: [0.7454918963073176, 0.7449422944733177, 0.7462892116818625, 0.7469621106629815, 0.7473844446393453]\n"
     ]
    }
   ],
   "source": [
    "print(f\"MSE: {mse_scores}\")"
   ]
  },
  {
   "cell_type": "markdown",
   "id": "f5cf0939",
   "metadata": {
    "papermill": {
     "duration": 0.014854,
     "end_time": "2021-08-30T14:52:39.283102",
     "exception": false,
     "start_time": "2021-08-30T14:52:39.268248",
     "status": "completed"
    },
    "tags": []
   },
   "source": [
    "#### Mean of mse_scores"
   ]
  },
  {
   "cell_type": "code",
   "execution_count": 6,
   "id": "fb0c2200",
   "metadata": {
    "execution": {
     "iopub.execute_input": "2021-08-30T14:52:39.316433Z",
     "iopub.status.busy": "2021-08-30T14:52:39.315533Z",
     "iopub.status.idle": "2021-08-30T14:52:39.321578Z",
     "shell.execute_reply": "2021-08-30T14:52:39.322228Z",
     "shell.execute_reply.started": "2021-08-30T14:50:54.593731Z"
    },
    "papermill": {
     "duration": 0.024438,
     "end_time": "2021-08-30T14:52:39.322427",
     "exception": false,
     "start_time": "2021-08-30T14:52:39.297989",
     "status": "completed"
    },
    "tags": []
   },
   "outputs": [
    {
     "name": "stdout",
     "output_type": "stream",
     "text": [
      "Mean: 0.7462139915529649\n"
     ]
    }
   ],
   "source": [
    "print(f\"Mean: {sum(mse_scores)/len(mse_scores)}\")"
   ]
  },
  {
   "cell_type": "markdown",
   "id": "5f243c01",
   "metadata": {
    "papermill": {
     "duration": 0.015061,
     "end_time": "2021-08-30T14:52:39.352614",
     "exception": false,
     "start_time": "2021-08-30T14:52:39.337553",
     "status": "completed"
    },
    "tags": []
   },
   "source": [
    "### Final Predictions on each fold"
   ]
  },
  {
   "cell_type": "code",
   "execution_count": 7,
   "id": "406d4605",
   "metadata": {
    "execution": {
     "iopub.execute_input": "2021-08-30T14:52:39.389381Z",
     "iopub.status.busy": "2021-08-30T14:52:39.388525Z",
     "iopub.status.idle": "2021-08-30T14:52:39.392163Z",
     "shell.execute_reply": "2021-08-30T14:52:39.392911Z",
     "shell.execute_reply.started": "2021-08-30T14:50:57.448210Z"
    },
    "papermill": {
     "duration": 0.025556,
     "end_time": "2021-08-30T14:52:39.393168",
     "exception": false,
     "start_time": "2021-08-30T14:52:39.367612",
     "status": "completed"
    },
    "tags": []
   },
   "outputs": [
    {
     "name": "stdout",
     "output_type": "stream",
     "text": [
      "Final predictions: [array([8.112866 , 8.2709255, 8.314985 , ..., 8.183537 , 8.256744 ,\n",
      "       8.237152 ], dtype=float32), array([8.104092 , 8.252947 , 8.2794075, ..., 8.1989155, 8.248346 ,\n",
      "       8.225908 ], dtype=float32), array([8.123636, 8.240576, 8.448338, ..., 8.197838, 8.247944, 8.228142],\n",
      "      dtype=float32), array([8.111397 , 8.2638855, 8.404632 , ..., 8.186489 , 8.245812 ,\n",
      "       8.227277 ], dtype=float32), array([8.0988455, 8.261955 , 8.3078785, ..., 8.1967745, 8.247262 ,\n",
      "       8.216866 ], dtype=float32)]\n"
     ]
    }
   ],
   "source": [
    "print(f\"Final predictions: {final_preds}\")"
   ]
  },
  {
   "cell_type": "markdown",
   "id": "05373149",
   "metadata": {
    "papermill": {
     "duration": 0.0186,
     "end_time": "2021-08-30T14:52:39.430712",
     "exception": false,
     "start_time": "2021-08-30T14:52:39.412112",
     "status": "completed"
    },
    "tags": []
   },
   "source": [
    "### Making stack of final predictions"
   ]
  },
  {
   "cell_type": "code",
   "execution_count": 8,
   "id": "dfd9a91a",
   "metadata": {
    "execution": {
     "iopub.execute_input": "2021-08-30T14:52:39.472165Z",
     "iopub.status.busy": "2021-08-30T14:52:39.471252Z",
     "iopub.status.idle": "2021-08-30T14:52:39.480480Z",
     "shell.execute_reply": "2021-08-30T14:52:39.481002Z",
     "shell.execute_reply.started": "2021-08-30T14:50:59.329413Z"
    },
    "papermill": {
     "duration": 0.03214,
     "end_time": "2021-08-30T14:52:39.481171",
     "exception": false,
     "start_time": "2021-08-30T14:52:39.449031",
     "status": "completed"
    },
    "tags": []
   },
   "outputs": [
    {
     "data": {
      "text/plain": [
       "array([[8.112866 , 8.104092 , 8.123636 , 8.111397 , 8.0988455],\n",
       "       [8.2709255, 8.252947 , 8.240576 , 8.2638855, 8.261955 ],\n",
       "       [8.314985 , 8.2794075, 8.448338 , 8.404632 , 8.3078785],\n",
       "       ...,\n",
       "       [8.183537 , 8.1989155, 8.197838 , 8.186489 , 8.1967745],\n",
       "       [8.256744 , 8.248346 , 8.247944 , 8.245812 , 8.247262 ],\n",
       "       [8.237152 , 8.225908 , 8.228142 , 8.227277 , 8.216866 ]],\n",
       "      dtype=float32)"
      ]
     },
     "execution_count": 8,
     "metadata": {},
     "output_type": "execute_result"
    }
   ],
   "source": [
    "stack = np.column_stack(final_preds)\n",
    "stack"
   ]
  },
  {
   "cell_type": "markdown",
   "id": "e35fa92e",
   "metadata": {
    "papermill": {
     "duration": 0.017098,
     "end_time": "2021-08-30T14:52:39.517285",
     "exception": false,
     "start_time": "2021-08-30T14:52:39.500187",
     "status": "completed"
    },
    "tags": []
   },
   "source": [
    "## Final prediction "
   ]
  },
  {
   "cell_type": "code",
   "execution_count": 9,
   "id": "cb2043e7",
   "metadata": {
    "execution": {
     "iopub.execute_input": "2021-08-30T14:52:39.554337Z",
     "iopub.status.busy": "2021-08-30T14:52:39.553407Z",
     "iopub.status.idle": "2021-08-30T14:52:39.563995Z",
     "shell.execute_reply": "2021-08-30T14:52:39.563400Z",
     "shell.execute_reply.started": "2021-08-30T14:51:04.512415Z"
    },
    "papermill": {
     "duration": 0.030818,
     "end_time": "2021-08-30T14:52:39.564162",
     "exception": false,
     "start_time": "2021-08-30T14:52:39.533344",
     "status": "completed"
    },
    "tags": []
   },
   "outputs": [
    {
     "data": {
      "text/plain": [
       "array([8.110167, 8.258059, 8.351048, ..., 8.19271 , 8.249222, 8.227069],\n",
       "      dtype=float32)"
      ]
     },
     "execution_count": 9,
     "metadata": {},
     "output_type": "execute_result"
    }
   ],
   "source": [
    "final_prediction = np.mean(stack, axis=1)\n",
    "final_prediction"
   ]
  },
  {
   "cell_type": "markdown",
   "id": "dd1e1e37",
   "metadata": {
    "papermill": {
     "duration": 0.015585,
     "end_time": "2021-08-30T14:52:39.597340",
     "exception": false,
     "start_time": "2021-08-30T14:52:39.581755",
     "status": "completed"
    },
    "tags": []
   },
   "source": [
    "## Submitting the final prediction"
   ]
  },
  {
   "cell_type": "code",
   "execution_count": 10,
   "id": "43cf4971",
   "metadata": {
    "execution": {
     "iopub.execute_input": "2021-08-30T14:52:39.635155Z",
     "iopub.status.busy": "2021-08-30T14:52:39.634542Z",
     "iopub.status.idle": "2021-08-30T14:52:40.201282Z",
     "shell.execute_reply": "2021-08-30T14:52:40.200546Z",
     "shell.execute_reply.started": "2021-08-30T14:51:13.831607Z"
    },
    "papermill": {
     "duration": 0.588144,
     "end_time": "2021-08-30T14:52:40.201435",
     "exception": false,
     "start_time": "2021-08-30T14:52:39.613291",
     "status": "completed"
    },
    "tags": []
   },
   "outputs": [],
   "source": [
    "# Submitting predicted target to `submission.csv`\n",
    "output = pd.DataFrame({'Id': test_data.id, 'target': final_prediction})\n",
    "output.to_csv('submission.csv', index=False)"
   ]
  }
 ],
 "metadata": {
  "kernelspec": {
   "display_name": "Python 3",
   "language": "python",
   "name": "python3"
  },
  "language_info": {
   "codemirror_mode": {
    "name": "ipython",
    "version": 3
   },
   "file_extension": ".py",
   "mimetype": "text/x-python",
   "name": "python",
   "nbconvert_exporter": "python",
   "pygments_lexer": "ipython3",
   "version": "3.7.10"
  },
  "papermill": {
   "default_parameters": {},
   "duration": 37.46987,
   "end_time": "2021-08-30T14:52:41.028767",
   "environment_variables": {},
   "exception": null,
   "input_path": "__notebook__.ipynb",
   "output_path": "__notebook__.ipynb",
   "parameters": {},
   "start_time": "2021-08-30T14:52:03.558897",
   "version": "2.3.3"
  }
 },
 "nbformat": 4,
 "nbformat_minor": 5
}
