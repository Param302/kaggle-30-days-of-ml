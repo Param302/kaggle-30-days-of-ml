{
 "cells": [
  {
   "cell_type": "markdown",
   "id": "eefa3b41",
   "metadata": {
    "papermill": {
     "duration": 0.011556,
     "end_time": "2021-08-31T07:08:13.887742",
     "exception": false,
     "start_time": "2021-08-31T07:08:13.876186",
     "status": "completed"
    },
    "tags": []
   },
   "source": [
    "## Importing required modules"
   ]
  },
  {
   "cell_type": "code",
   "execution_count": 1,
   "id": "9a176117",
   "metadata": {
    "execution": {
     "iopub.execute_input": "2021-08-31T07:08:13.919824Z",
     "iopub.status.busy": "2021-08-31T07:08:13.919149Z",
     "iopub.status.idle": "2021-08-31T07:08:14.910540Z",
     "shell.execute_reply": "2021-08-31T07:08:14.909982Z",
     "shell.execute_reply.started": "2021-08-31T07:01:54.558884Z"
    },
    "papermill": {
     "duration": 1.012951,
     "end_time": "2021-08-31T07:08:14.910717",
     "exception": false,
     "start_time": "2021-08-31T07:08:13.897766",
     "status": "completed"
    },
    "tags": []
   },
   "outputs": [],
   "source": [
    "# importing required modules\n",
    "import math\n",
    "import numpy as np\n",
    "import pandas as pd\n",
    "from xgboost import XGBRegressor\n",
    "from sklearn.pipeline import Pipeline\n",
    "from sklearn.impute import SimpleImputer\n",
    "from sklearn.compose import ColumnTransformer\n",
    "from sklearn.metrics import mean_squared_error\n",
    "from sklearn.preprocessing import OneHotEncoder\n",
    "from sklearn.model_selection import KFold"
   ]
  },
  {
   "cell_type": "markdown",
   "id": "a1b6c589",
   "metadata": {
    "papermill": {
     "duration": 0.009848,
     "end_time": "2021-08-31T07:08:14.930847",
     "exception": false,
     "start_time": "2021-08-31T07:08:14.920999",
     "status": "completed"
    },
    "tags": []
   },
   "source": [
    "## Loading data"
   ]
  },
  {
   "cell_type": "code",
   "execution_count": 2,
   "id": "cba44a61",
   "metadata": {
    "execution": {
     "iopub.execute_input": "2021-08-31T07:08:14.955230Z",
     "iopub.status.busy": "2021-08-31T07:08:14.954674Z",
     "iopub.status.idle": "2021-08-31T07:08:18.885757Z",
     "shell.execute_reply": "2021-08-31T07:08:18.885257Z",
     "shell.execute_reply.started": "2021-08-31T07:01:54.840759Z"
    },
    "papermill": {
     "duration": 3.94475,
     "end_time": "2021-08-31T07:08:18.885898",
     "exception": false,
     "start_time": "2021-08-31T07:08:14.941148",
     "status": "completed"
    },
    "tags": []
   },
   "outputs": [],
   "source": [
    "train_data = pd.read_csv(\"../input/30-days-of-ml/train.csv\")\n",
    "test_data = pd.read_csv(\"../input/30-days-of-ml/test.csv\")"
   ]
  },
  {
   "cell_type": "markdown",
   "id": "bef169a1",
   "metadata": {
    "papermill": {
     "duration": 0.010571,
     "end_time": "2021-08-31T07:08:18.907124",
     "exception": false,
     "start_time": "2021-08-31T07:08:18.896553",
     "status": "completed"
    },
    "tags": []
   },
   "source": [
    "#### Making K-fold column in training data"
   ]
  },
  {
   "cell_type": "code",
   "execution_count": 3,
   "id": "bef8534f",
   "metadata": {
    "execution": {
     "iopub.execute_input": "2021-08-31T07:08:18.934401Z",
     "iopub.status.busy": "2021-08-31T07:08:18.933899Z",
     "iopub.status.idle": "2021-08-31T07:08:18.941152Z",
     "shell.execute_reply": "2021-08-31T07:08:18.940595Z",
     "shell.execute_reply.started": "2021-08-31T07:01:56.660777Z"
    },
    "papermill": {
     "duration": 0.023988,
     "end_time": "2021-08-31T07:08:18.941280",
     "exception": false,
     "start_time": "2021-08-31T07:08:18.917292",
     "status": "completed"
    },
    "tags": []
   },
   "outputs": [],
   "source": [
    "train_data[\"kfold\"] = -1"
   ]
  },
  {
   "cell_type": "markdown",
   "id": "7694fc78",
   "metadata": {
    "papermill": {
     "duration": 0.009934,
     "end_time": "2021-08-31T07:08:18.961295",
     "exception": false,
     "start_time": "2021-08-31T07:08:18.951361",
     "status": "completed"
    },
    "tags": []
   },
   "source": [
    "## K-Fold model, total 10 splits"
   ]
  },
  {
   "cell_type": "code",
   "execution_count": 4,
   "id": "acbd6092",
   "metadata": {
    "execution": {
     "iopub.execute_input": "2021-08-31T07:08:18.987694Z",
     "iopub.status.busy": "2021-08-31T07:08:18.986932Z",
     "iopub.status.idle": "2021-08-31T07:08:19.039939Z",
     "shell.execute_reply": "2021-08-31T07:08:19.039445Z",
     "shell.execute_reply.started": "2021-08-31T07:01:56.668046Z"
    },
    "papermill": {
     "duration": 0.068524,
     "end_time": "2021-08-31T07:08:19.040062",
     "exception": false,
     "start_time": "2021-08-31T07:08:18.971538",
     "status": "completed"
    },
    "tags": []
   },
   "outputs": [],
   "source": [
    "Kf_model = KFold(n_splits=10, random_state=1, shuffle=True)\n",
    "for fold, (train_index, valid_index) in enumerate(Kf_model.split(X=train_data)):\n",
    "    train_data.loc[valid_index, \"kfold\"] = fold"
   ]
  },
  {
   "cell_type": "code",
   "execution_count": 5,
   "id": "1883c31b",
   "metadata": {
    "execution": {
     "iopub.execute_input": "2021-08-31T07:08:19.074196Z",
     "iopub.status.busy": "2021-08-31T07:08:19.073565Z",
     "iopub.status.idle": "2021-08-31T07:08:19.102198Z",
     "shell.execute_reply": "2021-08-31T07:08:19.102617Z",
     "shell.execute_reply.started": "2021-08-31T07:01:56.725897Z"
    },
    "papermill": {
     "duration": 0.051212,
     "end_time": "2021-08-31T07:08:19.102763",
     "exception": false,
     "start_time": "2021-08-31T07:08:19.051551",
     "status": "completed"
    },
    "tags": []
   },
   "outputs": [
    {
     "name": "stdout",
     "output_type": "stream",
     "text": [
      "(300000, 27)\n"
     ]
    },
    {
     "data": {
      "text/html": [
       "<div>\n",
       "<style scoped>\n",
       "    .dataframe tbody tr th:only-of-type {\n",
       "        vertical-align: middle;\n",
       "    }\n",
       "\n",
       "    .dataframe tbody tr th {\n",
       "        vertical-align: top;\n",
       "    }\n",
       "\n",
       "    .dataframe thead th {\n",
       "        text-align: right;\n",
       "    }\n",
       "</style>\n",
       "<table border=\"1\" class=\"dataframe\">\n",
       "  <thead>\n",
       "    <tr style=\"text-align: right;\">\n",
       "      <th></th>\n",
       "      <th>id</th>\n",
       "      <th>cat0</th>\n",
       "      <th>cat1</th>\n",
       "      <th>cat2</th>\n",
       "      <th>cat3</th>\n",
       "      <th>cat4</th>\n",
       "      <th>cat5</th>\n",
       "      <th>cat6</th>\n",
       "      <th>cat7</th>\n",
       "      <th>cat8</th>\n",
       "      <th>...</th>\n",
       "      <th>cont6</th>\n",
       "      <th>cont7</th>\n",
       "      <th>cont8</th>\n",
       "      <th>cont9</th>\n",
       "      <th>cont10</th>\n",
       "      <th>cont11</th>\n",
       "      <th>cont12</th>\n",
       "      <th>cont13</th>\n",
       "      <th>target</th>\n",
       "      <th>kfold</th>\n",
       "    </tr>\n",
       "  </thead>\n",
       "  <tbody>\n",
       "    <tr>\n",
       "      <th>0</th>\n",
       "      <td>1</td>\n",
       "      <td>B</td>\n",
       "      <td>B</td>\n",
       "      <td>B</td>\n",
       "      <td>C</td>\n",
       "      <td>B</td>\n",
       "      <td>B</td>\n",
       "      <td>A</td>\n",
       "      <td>E</td>\n",
       "      <td>C</td>\n",
       "      <td>...</td>\n",
       "      <td>0.160266</td>\n",
       "      <td>0.310921</td>\n",
       "      <td>0.389470</td>\n",
       "      <td>0.267559</td>\n",
       "      <td>0.237281</td>\n",
       "      <td>0.377873</td>\n",
       "      <td>0.322401</td>\n",
       "      <td>0.869850</td>\n",
       "      <td>8.113634</td>\n",
       "      <td>9</td>\n",
       "    </tr>\n",
       "    <tr>\n",
       "      <th>1</th>\n",
       "      <td>2</td>\n",
       "      <td>B</td>\n",
       "      <td>B</td>\n",
       "      <td>A</td>\n",
       "      <td>A</td>\n",
       "      <td>B</td>\n",
       "      <td>D</td>\n",
       "      <td>A</td>\n",
       "      <td>F</td>\n",
       "      <td>A</td>\n",
       "      <td>...</td>\n",
       "      <td>0.558922</td>\n",
       "      <td>0.516294</td>\n",
       "      <td>0.594928</td>\n",
       "      <td>0.341439</td>\n",
       "      <td>0.906013</td>\n",
       "      <td>0.921701</td>\n",
       "      <td>0.261975</td>\n",
       "      <td>0.465083</td>\n",
       "      <td>8.481233</td>\n",
       "      <td>1</td>\n",
       "    </tr>\n",
       "    <tr>\n",
       "      <th>2</th>\n",
       "      <td>3</td>\n",
       "      <td>A</td>\n",
       "      <td>A</td>\n",
       "      <td>A</td>\n",
       "      <td>C</td>\n",
       "      <td>B</td>\n",
       "      <td>D</td>\n",
       "      <td>A</td>\n",
       "      <td>D</td>\n",
       "      <td>A</td>\n",
       "      <td>...</td>\n",
       "      <td>0.375348</td>\n",
       "      <td>0.902567</td>\n",
       "      <td>0.555205</td>\n",
       "      <td>0.843531</td>\n",
       "      <td>0.748809</td>\n",
       "      <td>0.620126</td>\n",
       "      <td>0.541474</td>\n",
       "      <td>0.763846</td>\n",
       "      <td>8.364351</td>\n",
       "      <td>8</td>\n",
       "    </tr>\n",
       "    <tr>\n",
       "      <th>3</th>\n",
       "      <td>4</td>\n",
       "      <td>B</td>\n",
       "      <td>B</td>\n",
       "      <td>A</td>\n",
       "      <td>C</td>\n",
       "      <td>B</td>\n",
       "      <td>D</td>\n",
       "      <td>A</td>\n",
       "      <td>E</td>\n",
       "      <td>C</td>\n",
       "      <td>...</td>\n",
       "      <td>0.239061</td>\n",
       "      <td>0.732948</td>\n",
       "      <td>0.679618</td>\n",
       "      <td>0.574844</td>\n",
       "      <td>0.346010</td>\n",
       "      <td>0.714610</td>\n",
       "      <td>0.540150</td>\n",
       "      <td>0.280682</td>\n",
       "      <td>8.049253</td>\n",
       "      <td>2</td>\n",
       "    </tr>\n",
       "    <tr>\n",
       "      <th>4</th>\n",
       "      <td>6</td>\n",
       "      <td>A</td>\n",
       "      <td>A</td>\n",
       "      <td>A</td>\n",
       "      <td>C</td>\n",
       "      <td>B</td>\n",
       "      <td>D</td>\n",
       "      <td>A</td>\n",
       "      <td>E</td>\n",
       "      <td>A</td>\n",
       "      <td>...</td>\n",
       "      <td>0.420667</td>\n",
       "      <td>0.648182</td>\n",
       "      <td>0.684501</td>\n",
       "      <td>0.956692</td>\n",
       "      <td>1.000773</td>\n",
       "      <td>0.776742</td>\n",
       "      <td>0.625849</td>\n",
       "      <td>0.250823</td>\n",
       "      <td>7.972260</td>\n",
       "      <td>1</td>\n",
       "    </tr>\n",
       "  </tbody>\n",
       "</table>\n",
       "<p>5 rows × 27 columns</p>\n",
       "</div>"
      ],
      "text/plain": [
       "   id cat0 cat1 cat2 cat3 cat4 cat5 cat6 cat7 cat8  ...     cont6     cont7  \\\n",
       "0   1    B    B    B    C    B    B    A    E    C  ...  0.160266  0.310921   \n",
       "1   2    B    B    A    A    B    D    A    F    A  ...  0.558922  0.516294   \n",
       "2   3    A    A    A    C    B    D    A    D    A  ...  0.375348  0.902567   \n",
       "3   4    B    B    A    C    B    D    A    E    C  ...  0.239061  0.732948   \n",
       "4   6    A    A    A    C    B    D    A    E    A  ...  0.420667  0.648182   \n",
       "\n",
       "      cont8     cont9    cont10    cont11    cont12    cont13    target  kfold  \n",
       "0  0.389470  0.267559  0.237281  0.377873  0.322401  0.869850  8.113634      9  \n",
       "1  0.594928  0.341439  0.906013  0.921701  0.261975  0.465083  8.481233      1  \n",
       "2  0.555205  0.843531  0.748809  0.620126  0.541474  0.763846  8.364351      8  \n",
       "3  0.679618  0.574844  0.346010  0.714610  0.540150  0.280682  8.049253      2  \n",
       "4  0.684501  0.956692  1.000773  0.776742  0.625849  0.250823  7.972260      1  \n",
       "\n",
       "[5 rows x 27 columns]"
      ]
     },
     "execution_count": 5,
     "metadata": {},
     "output_type": "execute_result"
    }
   ],
   "source": [
    "print(train_data.shape)\n",
    "train_data.head()"
   ]
  },
  {
   "cell_type": "markdown",
   "id": "e9eac7a9",
   "metadata": {
    "papermill": {
     "duration": 0.011354,
     "end_time": "2021-08-31T07:08:19.126206",
     "exception": false,
     "start_time": "2021-08-31T07:08:19.114852",
     "status": "completed"
    },
    "tags": []
   },
   "source": [
    "### Categorical data column and Numerical data column"
   ]
  },
  {
   "cell_type": "code",
   "execution_count": 6,
   "id": "67be3ca7",
   "metadata": {
    "execution": {
     "iopub.execute_input": "2021-08-31T07:08:19.178264Z",
     "iopub.status.busy": "2021-08-31T07:08:19.176547Z",
     "iopub.status.idle": "2021-08-31T07:08:19.179009Z",
     "shell.execute_reply": "2021-08-31T07:08:19.179434Z",
     "shell.execute_reply.started": "2021-08-31T07:01:56.753347Z"
    },
    "papermill": {
     "duration": 0.042753,
     "end_time": "2021-08-31T07:08:19.179576",
     "exception": false,
     "start_time": "2021-08-31T07:08:19.136823",
     "status": "completed"
    },
    "tags": []
   },
   "outputs": [],
   "source": [
    "# Prediction target and features\n",
    "cat_cols = ['cat0', 'cat1', 'cat2', 'cat3', 'cat4', 'cat5', 'cat6', 'cat7', 'cat8', 'cat9']\n",
    "num_cols = ['cont0', 'cont1', 'cont2', 'cont3', 'cont4', 'cont5', 'cont6', 'cont7', 'cont8', 'cont9', 'cont10', 'cont11', 'cont12', 'cont13']\n",
    "test_data_2 = test_data[cat_cols + num_cols]"
   ]
  },
  {
   "cell_type": "markdown",
   "id": "a025e683",
   "metadata": {
    "papermill": {
     "duration": 0.010434,
     "end_time": "2021-08-31T07:08:19.201005",
     "exception": false,
     "start_time": "2021-08-31T07:08:19.190571",
     "status": "completed"
    },
    "tags": []
   },
   "source": [
    "## Getting final predictions & RMSE on each fold"
   ]
  },
  {
   "cell_type": "code",
   "execution_count": 7,
   "id": "54416166",
   "metadata": {
    "execution": {
     "iopub.execute_input": "2021-08-31T07:08:19.236384Z",
     "iopub.status.busy": "2021-08-31T07:08:19.235825Z",
     "iopub.status.idle": "2021-08-31T07:09:33.095558Z",
     "shell.execute_reply": "2021-08-31T07:09:33.094156Z",
     "shell.execute_reply.started": "2021-08-31T07:05:51.481993Z"
    },
    "papermill": {
     "duration": 73.883791,
     "end_time": "2021-08-31T07:09:33.095779",
     "exception": false,
     "start_time": "2021-08-31T07:08:19.211988",
     "status": "completed"
    },
    "tags": []
   },
   "outputs": [
    {
     "name": "stdout",
     "output_type": "stream",
     "text": [
      "Fold: 0, RMSE: 0.7193209740496443, Predictions: [8.079874 8.315076 8.411264 ... 8.357581 8.165665 8.014028]\n",
      "Fold: 1, RMSE: 0.7193958876999159, Predictions: [8.060634  8.351181  8.362048  ... 8.394792  8.183628  7.9629917]\n",
      "Fold: 2, RMSE: 0.7238844909277737, Predictions: [8.094143 8.358214 8.344183 ... 8.375742 8.053192 8.058901]\n",
      "Fold: 3, RMSE: 0.7305995262635391, Predictions: [8.024538 8.274868 8.370956 ... 8.391476 7.968307 7.974936]\n",
      "Fold: 4, RMSE: 0.7238212757348244, Predictions: [8.077593  8.280942  8.3715515 ... 8.375725  8.064892  8.055317 ]\n",
      "Fold: 5, RMSE: 0.7219545504726438, Predictions: [8.029388 8.31109  8.357372 ... 8.385788 8.020295 8.009853]\n",
      "Fold: 6, RMSE: 0.7204353124915598, Predictions: [7.9479933 8.317362  8.353496  ... 8.340463  8.051353  8.017334 ]\n",
      "Fold: 7, RMSE: 0.7237808508396867, Predictions: [8.074957  8.325325  8.4148655 ... 8.355898  8.06382   7.939054 ]\n",
      "Fold: 8, RMSE: 0.7193054476112654, Predictions: [8.117125 8.298847 8.364904 ... 8.315409 8.101424 8.023036]\n",
      "Fold: 9, RMSE: 0.715987182244992, Predictions: [7.974961 8.340847 8.331135 ... 8.352334 8.124224 7.995639]\n"
     ]
    }
   ],
   "source": [
    "final_predictions = []\n",
    "rmse_scores = []\n",
    "\n",
    "# As total folds are 10, getting predictions and rmse at every fold\n",
    "for fold in range(10):\n",
    "    # Splitting the training and validating data according to fold and kfold\n",
    "    X_train = train_data[train_data.kfold != fold].reset_index(drop=True)\n",
    "    X_valid = train_data[train_data.kfold == fold].reset_index(drop=True)\n",
    "    \n",
    "    X_test = test_data_2.copy()\n",
    "    \n",
    "    # setting the target\n",
    "    y_train = X_train.target\n",
    "    y_valid = X_valid.target\n",
    "    \n",
    "    # setting the training data\n",
    "    X_train = X_train[cat_cols + num_cols]\n",
    "    X_valid = X_valid[cat_cols + num_cols]\n",
    "    \n",
    "    # One Hot Encoding on categorical data\n",
    "    OH_encoder = OneHotEncoder(handle_unknown=\"ignore\", sparse=False)\n",
    "    \n",
    "    # fitting and transforming the training and test data\n",
    "    OH_encoder.fit(X_train[cat_cols])\n",
    "    OH_X_train = OH_encoder.transform(X_train[cat_cols])\n",
    "    OH_X_valid = OH_encoder.transform(X_valid[cat_cols])\n",
    "    OH_X_test = OH_encoder.transform(X_test[cat_cols])\n",
    "    \n",
    "    # Naming the one hot encoded columns\n",
    "    OH_X_train = pd.DataFrame(OH_X_train, columns=[f\"ohe_{i}\" for i in range(OH_X_train.shape[1])])\n",
    "    OH_X_valid = pd.DataFrame(OH_X_valid, columns=[f\"ohe_{i}\" for i in range(OH_X_valid.shape[1])])\n",
    "    OH_X_test = pd.DataFrame(OH_X_test, columns=[f\"ohe_{i}\" for i in range(OH_X_test.shape[1])])\n",
    "    \n",
    "    # Adding one hot encoded columns to main data (training, validating, test)\n",
    "    X_train = pd.concat([X_train, OH_X_train], axis=1)\n",
    "    X_valid = pd.concat([X_valid, OH_X_valid], axis=1)\n",
    "    X_test = pd.concat([X_test, OH_X_test], axis=1)\n",
    "    \n",
    "    # Dropping the categorical columns, as their one hot encoded columns are added to main data\n",
    "    X_train = X_train.drop(cat_cols, axis=1)\n",
    "    X_valid = X_valid.drop(cat_cols, axis=1)\n",
    "    X_test = X_test.drop(cat_cols, axis=1)\n",
    "    \n",
    "    # Making XGBoost Regressor model\n",
    "    model = XGBRegressor(n_estimators=1000, learning_rate=0.05, random_state=fold, tree_method='gpu_hist', gpu_id=0, predictor=\"gpu_predictor\")\n",
    "    model.fit(X_train, y_train, early_stopping_rounds=5, eval_set=[(X_valid, y_valid)], verbose=False)\n",
    "    \n",
    "    # pridicting the target on training and test data\n",
    "    train_preds = model.predict(X_valid)\n",
    "    test_preds = model.predict(X_test)\n",
    "    final_predictions.append(test_preds)\n",
    "    \n",
    "    # RMSE at each prediction\n",
    "    rmse = math.sqrt(mean_squared_error(y_valid, train_preds))\n",
    "    rmse_scores.append(rmse)\n",
    "    \n",
    "    print(f\"Fold: {fold}, RMSE: {rmse}, Predictions: {test_preds}\")\n"
   ]
  },
  {
   "cell_type": "markdown",
   "id": "b2b576d6",
   "metadata": {
    "papermill": {
     "duration": 0.013925,
     "end_time": "2021-08-31T07:09:33.124542",
     "exception": false,
     "start_time": "2021-08-31T07:09:33.110617",
     "status": "completed"
    },
    "tags": []
   },
   "source": [
    "### Getting the final predicitons of target from `final_predictions` arrays of arrays"
   ]
  },
  {
   "cell_type": "code",
   "execution_count": 8,
   "id": "f54c3121",
   "metadata": {
    "execution": {
     "iopub.execute_input": "2021-08-31T07:09:33.157012Z",
     "iopub.status.busy": "2021-08-31T07:09:33.155854Z",
     "iopub.status.idle": "2021-08-31T07:09:33.169700Z",
     "shell.execute_reply": "2021-08-31T07:09:33.169156Z",
     "shell.execute_reply.started": "2021-08-31T07:07:05.238259Z"
    },
    "papermill": {
     "duration": 0.032036,
     "end_time": "2021-08-31T07:09:33.169867",
     "exception": false,
     "start_time": "2021-08-31T07:09:33.137831",
     "status": "completed"
    },
    "tags": []
   },
   "outputs": [
    {
     "data": {
      "text/plain": [
       "array([8.0481205, 8.317375 , 8.368177 , ..., 8.36452  , 8.0796795,\n",
       "       8.005109 ], dtype=float32)"
      ]
     },
     "execution_count": 8,
     "metadata": {},
     "output_type": "execute_result"
    }
   ],
   "source": [
    "final_predictions =  np.mean(np.column_stack(final_predictions), axis=1)\n",
    "final_predictions"
   ]
  },
  {
   "cell_type": "markdown",
   "id": "5ff67f7d",
   "metadata": {
    "papermill": {
     "duration": 0.014757,
     "end_time": "2021-08-31T07:09:33.199603",
     "exception": false,
     "start_time": "2021-08-31T07:09:33.184846",
     "status": "completed"
    },
    "tags": []
   },
   "source": [
    "## Submitting the final predictions"
   ]
  },
  {
   "cell_type": "code",
   "execution_count": 9,
   "id": "0530ddd4",
   "metadata": {
    "execution": {
     "iopub.execute_input": "2021-08-31T07:09:33.233313Z",
     "iopub.status.busy": "2021-08-31T07:09:33.232757Z",
     "iopub.status.idle": "2021-08-31T07:09:33.724902Z",
     "shell.execute_reply": "2021-08-31T07:09:33.724401Z",
     "shell.execute_reply.started": "2021-08-31T07:07:45.878593Z"
    },
    "papermill": {
     "duration": 0.510752,
     "end_time": "2021-08-31T07:09:33.725026",
     "exception": false,
     "start_time": "2021-08-31T07:09:33.214274",
     "status": "completed"
    },
    "tags": []
   },
   "outputs": [],
   "source": [
    "# Submitting predicted target to `submission.csv`\n",
    "output = pd.DataFrame({'Id': test_data.id,'target': final_predictions})\n",
    "output.to_csv('submission.csv', index=False)"
   ]
  }
 ],
 "metadata": {
  "kernelspec": {
   "display_name": "Python 3",
   "language": "python",
   "name": "python3"
  },
  "language_info": {
   "codemirror_mode": {
    "name": "ipython",
    "version": 3
   },
   "file_extension": ".py",
   "mimetype": "text/x-python",
   "name": "python",
   "nbconvert_exporter": "python",
   "pygments_lexer": "ipython3",
   "version": "3.7.10"
  },
  "papermill": {
   "default_parameters": {},
   "duration": 87.644327,
   "end_time": "2021-08-31T07:09:35.089030",
   "environment_variables": {},
   "exception": null,
   "input_path": "__notebook__.ipynb",
   "output_path": "__notebook__.ipynb",
   "parameters": {},
   "start_time": "2021-08-31T07:08:07.444703",
   "version": "2.3.3"
  }
 },
 "nbformat": 4,
 "nbformat_minor": 5
}
