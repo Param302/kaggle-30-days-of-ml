{
 "cells": [
  {
   "cell_type": "markdown",
   "id": "3973e3b5",
   "metadata": {
    "papermill": {
     "duration": 0.027277,
     "end_time": "2021-08-31T19:26:13.976045",
     "exception": false,
     "start_time": "2021-08-31T19:26:13.948768",
     "status": "completed"
    },
    "tags": []
   },
   "source": [
    "#  Importing Required modules"
   ]
  },
  {
   "cell_type": "code",
   "execution_count": 1,
   "id": "30f8c4bd",
   "metadata": {
    "_cell_guid": "b1076dfc-b9ad-4769-8c92-a6c4dae69d19",
    "_uuid": "8f2839f25d086af736a60e9eeb907d3b93b6e0e5",
    "execution": {
     "iopub.execute_input": "2021-08-31T19:26:14.033691Z",
     "iopub.status.busy": "2021-08-31T19:26:14.031644Z",
     "iopub.status.idle": "2021-08-31T19:26:16.421915Z",
     "shell.execute_reply": "2021-08-31T19:26:16.420737Z",
     "shell.execute_reply.started": "2021-08-31T18:37:26.928083Z"
    },
    "papermill": {
     "duration": 2.420692,
     "end_time": "2021-08-31T19:26:16.422110",
     "exception": false,
     "start_time": "2021-08-31T19:26:14.001418",
     "status": "completed"
    },
    "tags": []
   },
   "outputs": [],
   "source": [
    "import pandas as pd\n",
    "import numpy as np\n",
    "from sklearn.model_selection import KFold\n",
    "from sklearn import preprocessing\n",
    "from sklearn.metrics import mean_squared_error\n",
    "from xgboost import XGBRegressor\n",
    "from sklearn.preprocessing import OneHotEncoder\n",
    "import optuna"
   ]
  },
  {
   "cell_type": "markdown",
   "id": "c151967f",
   "metadata": {
    "papermill": {
     "duration": 0.024802,
     "end_time": "2021-08-31T19:26:16.473095",
     "exception": false,
     "start_time": "2021-08-31T19:26:16.448293",
     "status": "completed"
    },
    "tags": []
   },
   "source": [
    "## Reading data"
   ]
  },
  {
   "cell_type": "code",
   "execution_count": 2,
   "id": "7e73946a",
   "metadata": {
    "execution": {
     "iopub.execute_input": "2021-08-31T19:26:16.527830Z",
     "iopub.status.busy": "2021-08-31T19:26:16.527152Z",
     "iopub.status.idle": "2021-08-31T19:26:19.947915Z",
     "shell.execute_reply": "2021-08-31T19:26:19.947238Z",
     "shell.execute_reply.started": "2021-08-31T18:56:51.345447Z"
    },
    "papermill": {
     "duration": 3.45005,
     "end_time": "2021-08-31T19:26:19.948075",
     "exception": false,
     "start_time": "2021-08-31T19:26:16.498025",
     "status": "completed"
    },
    "tags": []
   },
   "outputs": [],
   "source": [
    "train_data = pd.read_csv(\"../input/30-days-of-ml/train.csv\")\n",
    "test_data = pd.read_csv(\"../input/30-days-of-ml/test.csv\")\n",
    "sample_submission = pd.read_csv(\"../input/30-days-of-ml/sample_submission.csv\")"
   ]
  },
  {
   "cell_type": "markdown",
   "id": "102670d4",
   "metadata": {
    "papermill": {
     "duration": 0.024729,
     "end_time": "2021-08-31T19:26:19.998282",
     "exception": false,
     "start_time": "2021-08-31T19:26:19.973553",
     "status": "completed"
    },
    "tags": []
   },
   "source": [
    "## Making K-fold model"
   ]
  },
  {
   "cell_type": "code",
   "execution_count": 3,
   "id": "80c456b6",
   "metadata": {
    "execution": {
     "iopub.execute_input": "2021-08-31T19:26:20.059656Z",
     "iopub.status.busy": "2021-08-31T19:26:20.058868Z",
     "iopub.status.idle": "2021-08-31T19:26:20.107682Z",
     "shell.execute_reply": "2021-08-31T19:26:20.107154Z",
     "shell.execute_reply.started": "2021-08-31T18:56:53.690362Z"
    },
    "papermill": {
     "duration": 0.085359,
     "end_time": "2021-08-31T19:26:20.107813",
     "exception": false,
     "start_time": "2021-08-31T19:26:20.022454",
     "status": "completed"
    },
    "tags": []
   },
   "outputs": [],
   "source": [
    "train_data[\"kfold\"] = -1\n",
    "Kf_model = KFold(n_splits=5, random_state=1, shuffle=True)\n",
    "# fold (0, 1, 2, 3, 4); train_index (0, 2, 3...); valid_index(1, 4, 6)\n",
    "for fold, (train_index, valid_index) in enumerate(Kf_model.split(X=train_data)):\n",
    "    train_data.loc[valid_index, \"kfold\"] = fold"
   ]
  },
  {
   "cell_type": "code",
   "execution_count": 4,
   "id": "12ed375b",
   "metadata": {
    "execution": {
     "iopub.execute_input": "2021-08-31T19:26:20.171143Z",
     "iopub.status.busy": "2021-08-31T19:26:20.170297Z",
     "iopub.status.idle": "2021-08-31T19:26:20.204586Z",
     "shell.execute_reply": "2021-08-31T19:26:20.205126Z",
     "shell.execute_reply.started": "2021-08-31T18:56:53.755039Z"
    },
    "papermill": {
     "duration": 0.072718,
     "end_time": "2021-08-31T19:26:20.205293",
     "exception": false,
     "start_time": "2021-08-31T19:26:20.132575",
     "status": "completed"
    },
    "tags": []
   },
   "outputs": [
    {
     "name": "stdout",
     "output_type": "stream",
     "text": [
      "(300000, 27)\n"
     ]
    },
    {
     "data": {
      "text/html": [
       "<div>\n",
       "<style scoped>\n",
       "    .dataframe tbody tr th:only-of-type {\n",
       "        vertical-align: middle;\n",
       "    }\n",
       "\n",
       "    .dataframe tbody tr th {\n",
       "        vertical-align: top;\n",
       "    }\n",
       "\n",
       "    .dataframe thead th {\n",
       "        text-align: right;\n",
       "    }\n",
       "</style>\n",
       "<table border=\"1\" class=\"dataframe\">\n",
       "  <thead>\n",
       "    <tr style=\"text-align: right;\">\n",
       "      <th></th>\n",
       "      <th>id</th>\n",
       "      <th>cat0</th>\n",
       "      <th>cat1</th>\n",
       "      <th>cat2</th>\n",
       "      <th>cat3</th>\n",
       "      <th>cat4</th>\n",
       "      <th>cat5</th>\n",
       "      <th>cat6</th>\n",
       "      <th>cat7</th>\n",
       "      <th>cat8</th>\n",
       "      <th>...</th>\n",
       "      <th>cont6</th>\n",
       "      <th>cont7</th>\n",
       "      <th>cont8</th>\n",
       "      <th>cont9</th>\n",
       "      <th>cont10</th>\n",
       "      <th>cont11</th>\n",
       "      <th>cont12</th>\n",
       "      <th>cont13</th>\n",
       "      <th>target</th>\n",
       "      <th>kfold</th>\n",
       "    </tr>\n",
       "  </thead>\n",
       "  <tbody>\n",
       "    <tr>\n",
       "      <th>0</th>\n",
       "      <td>1</td>\n",
       "      <td>B</td>\n",
       "      <td>B</td>\n",
       "      <td>B</td>\n",
       "      <td>C</td>\n",
       "      <td>B</td>\n",
       "      <td>B</td>\n",
       "      <td>A</td>\n",
       "      <td>E</td>\n",
       "      <td>C</td>\n",
       "      <td>...</td>\n",
       "      <td>0.160266</td>\n",
       "      <td>0.310921</td>\n",
       "      <td>0.389470</td>\n",
       "      <td>0.267559</td>\n",
       "      <td>0.237281</td>\n",
       "      <td>0.377873</td>\n",
       "      <td>0.322401</td>\n",
       "      <td>0.869850</td>\n",
       "      <td>8.113634</td>\n",
       "      <td>4</td>\n",
       "    </tr>\n",
       "    <tr>\n",
       "      <th>1</th>\n",
       "      <td>2</td>\n",
       "      <td>B</td>\n",
       "      <td>B</td>\n",
       "      <td>A</td>\n",
       "      <td>A</td>\n",
       "      <td>B</td>\n",
       "      <td>D</td>\n",
       "      <td>A</td>\n",
       "      <td>F</td>\n",
       "      <td>A</td>\n",
       "      <td>...</td>\n",
       "      <td>0.558922</td>\n",
       "      <td>0.516294</td>\n",
       "      <td>0.594928</td>\n",
       "      <td>0.341439</td>\n",
       "      <td>0.906013</td>\n",
       "      <td>0.921701</td>\n",
       "      <td>0.261975</td>\n",
       "      <td>0.465083</td>\n",
       "      <td>8.481233</td>\n",
       "      <td>0</td>\n",
       "    </tr>\n",
       "    <tr>\n",
       "      <th>2</th>\n",
       "      <td>3</td>\n",
       "      <td>A</td>\n",
       "      <td>A</td>\n",
       "      <td>A</td>\n",
       "      <td>C</td>\n",
       "      <td>B</td>\n",
       "      <td>D</td>\n",
       "      <td>A</td>\n",
       "      <td>D</td>\n",
       "      <td>A</td>\n",
       "      <td>...</td>\n",
       "      <td>0.375348</td>\n",
       "      <td>0.902567</td>\n",
       "      <td>0.555205</td>\n",
       "      <td>0.843531</td>\n",
       "      <td>0.748809</td>\n",
       "      <td>0.620126</td>\n",
       "      <td>0.541474</td>\n",
       "      <td>0.763846</td>\n",
       "      <td>8.364351</td>\n",
       "      <td>4</td>\n",
       "    </tr>\n",
       "    <tr>\n",
       "      <th>3</th>\n",
       "      <td>4</td>\n",
       "      <td>B</td>\n",
       "      <td>B</td>\n",
       "      <td>A</td>\n",
       "      <td>C</td>\n",
       "      <td>B</td>\n",
       "      <td>D</td>\n",
       "      <td>A</td>\n",
       "      <td>E</td>\n",
       "      <td>C</td>\n",
       "      <td>...</td>\n",
       "      <td>0.239061</td>\n",
       "      <td>0.732948</td>\n",
       "      <td>0.679618</td>\n",
       "      <td>0.574844</td>\n",
       "      <td>0.346010</td>\n",
       "      <td>0.714610</td>\n",
       "      <td>0.540150</td>\n",
       "      <td>0.280682</td>\n",
       "      <td>8.049253</td>\n",
       "      <td>1</td>\n",
       "    </tr>\n",
       "    <tr>\n",
       "      <th>4</th>\n",
       "      <td>6</td>\n",
       "      <td>A</td>\n",
       "      <td>A</td>\n",
       "      <td>A</td>\n",
       "      <td>C</td>\n",
       "      <td>B</td>\n",
       "      <td>D</td>\n",
       "      <td>A</td>\n",
       "      <td>E</td>\n",
       "      <td>A</td>\n",
       "      <td>...</td>\n",
       "      <td>0.420667</td>\n",
       "      <td>0.648182</td>\n",
       "      <td>0.684501</td>\n",
       "      <td>0.956692</td>\n",
       "      <td>1.000773</td>\n",
       "      <td>0.776742</td>\n",
       "      <td>0.625849</td>\n",
       "      <td>0.250823</td>\n",
       "      <td>7.972260</td>\n",
       "      <td>0</td>\n",
       "    </tr>\n",
       "  </tbody>\n",
       "</table>\n",
       "<p>5 rows × 27 columns</p>\n",
       "</div>"
      ],
      "text/plain": [
       "   id cat0 cat1 cat2 cat3 cat4 cat5 cat6 cat7 cat8  ...     cont6     cont7  \\\n",
       "0   1    B    B    B    C    B    B    A    E    C  ...  0.160266  0.310921   \n",
       "1   2    B    B    A    A    B    D    A    F    A  ...  0.558922  0.516294   \n",
       "2   3    A    A    A    C    B    D    A    D    A  ...  0.375348  0.902567   \n",
       "3   4    B    B    A    C    B    D    A    E    C  ...  0.239061  0.732948   \n",
       "4   6    A    A    A    C    B    D    A    E    A  ...  0.420667  0.648182   \n",
       "\n",
       "      cont8     cont9    cont10    cont11    cont12    cont13    target  kfold  \n",
       "0  0.389470  0.267559  0.237281  0.377873  0.322401  0.869850  8.113634      4  \n",
       "1  0.594928  0.341439  0.906013  0.921701  0.261975  0.465083  8.481233      0  \n",
       "2  0.555205  0.843531  0.748809  0.620126  0.541474  0.763846  8.364351      4  \n",
       "3  0.679618  0.574844  0.346010  0.714610  0.540150  0.280682  8.049253      1  \n",
       "4  0.684501  0.956692  1.000773  0.776742  0.625849  0.250823  7.972260      0  \n",
       "\n",
       "[5 rows x 27 columns]"
      ]
     },
     "execution_count": 4,
     "metadata": {},
     "output_type": "execute_result"
    }
   ],
   "source": [
    "print(train_data.shape)\n",
    "train_data.head()"
   ]
  },
  {
   "cell_type": "markdown",
   "id": "4d4e13fb",
   "metadata": {
    "papermill": {
     "duration": 0.025673,
     "end_time": "2021-08-31T19:26:20.256765",
     "exception": false,
     "start_time": "2021-08-31T19:26:20.231092",
     "status": "completed"
    },
    "tags": []
   },
   "source": [
    "### Setting required columns"
   ]
  },
  {
   "cell_type": "code",
   "execution_count": 5,
   "id": "9f96f15e",
   "metadata": {
    "execution": {
     "iopub.execute_input": "2021-08-31T19:26:20.317095Z",
     "iopub.status.busy": "2021-08-31T19:26:20.315660Z",
     "iopub.status.idle": "2021-08-31T19:26:20.344630Z",
     "shell.execute_reply": "2021-08-31T19:26:20.344045Z",
     "shell.execute_reply.started": "2021-08-31T18:56:53.809660Z"
    },
    "papermill": {
     "duration": 0.061135,
     "end_time": "2021-08-31T19:26:20.344782",
     "exception": false,
     "start_time": "2021-08-31T19:26:20.283647",
     "status": "completed"
    },
    "tags": []
   },
   "outputs": [],
   "source": [
    "num_cols = [col for col in train_data.columns if \"cont\" in col]\n",
    "cat_cols = [col for col in train_data.columns if \"cat\" in col]\n",
    "useful_cols = cat_cols + num_cols\n",
    "test_data = test_data[useful_cols]"
   ]
  },
  {
   "cell_type": "markdown",
   "id": "666cac35",
   "metadata": {
    "papermill": {
     "duration": 0.026188,
     "end_time": "2021-08-31T19:26:20.398349",
     "exception": false,
     "start_time": "2021-08-31T19:26:20.372161",
     "status": "completed"
    },
    "tags": []
   },
   "source": [
    "## Target Encoding"
   ]
  },
  {
   "cell_type": "code",
   "execution_count": 6,
   "id": "69d840e0",
   "metadata": {
    "execution": {
     "iopub.execute_input": "2021-08-31T19:26:20.460403Z",
     "iopub.status.busy": "2021-08-31T19:26:20.459648Z",
     "iopub.status.idle": "2021-08-31T19:26:28.248190Z",
     "shell.execute_reply": "2021-08-31T19:26:28.247278Z",
     "shell.execute_reply.started": "2021-08-31T18:56:53.860260Z"
    },
    "papermill": {
     "duration": 7.823784,
     "end_time": "2021-08-31T19:26:28.248364",
     "exception": false,
     "start_time": "2021-08-31T19:26:20.424580",
     "status": "completed"
    },
    "tags": []
   },
   "outputs": [],
   "source": [
    "# Iterate over categorical columns\n",
    "for col in cat_cols:\n",
    "    \"\"\"\n",
    "    Based on each categorical column, one target fold is created\n",
    "    total 5 folds for one column\n",
    "    \"\"\"\n",
    "    temp_train = []\n",
    "    temp_test_target = None\n",
    "    for fold in range(5):\n",
    "        # making training data and validating data for each fold\n",
    "        X_train = train_data[train_data.kfold != fold].reset_index(drop=True)\n",
    "        X_valid = train_data[train_data.kfold == fold].reset_index(drop=True)\n",
    "        \n",
    "        # getting the mean of training data target\n",
    "        mean_target = dict(X_train.groupby(col)[\"target\"].agg(\"median\"))\n",
    "        \n",
    "        # adding the mean_target to X_valid (valid dataset of each fold)\n",
    "        X_valid.loc[:, f\"target_enc_{col}\"] = X_valid[col].map(mean_target)\n",
    "        temp_train.append(X_valid)\n",
    "        if (temp_test_target is None):\n",
    "            temp_test_target = test_data[col].map(mean_target)\n",
    "        else:\n",
    "            temp_test_target += test_data[col].map(mean_target)\n",
    "        \n",
    "    # getting the average of temporary test target on each column\n",
    "    temp_test_target /= 5\n",
    "    # adding the temporary test target to test data on each column (total=10)\n",
    "    test_data.loc[:, f\"target_enc_{col}\"] = temp_test_target\n",
    "    \n",
    "    # setting training data as temp_train\n",
    "    train_data = pd.concat(temp_train)"
   ]
  },
  {
   "cell_type": "markdown",
   "id": "ee937471",
   "metadata": {
    "papermill": {
     "duration": 0.02637,
     "end_time": "2021-08-31T19:26:28.301719",
     "exception": false,
     "start_time": "2021-08-31T19:26:28.275349",
     "status": "completed"
    },
    "tags": []
   },
   "source": [
    "### Setting required columns again"
   ]
  },
  {
   "cell_type": "code",
   "execution_count": 7,
   "id": "8342b7e3",
   "metadata": {
    "execution": {
     "iopub.execute_input": "2021-08-31T19:26:28.366133Z",
     "iopub.status.busy": "2021-08-31T19:26:28.364661Z",
     "iopub.status.idle": "2021-08-31T19:26:28.513901Z",
     "shell.execute_reply": "2021-08-31T19:26:28.513278Z",
     "shell.execute_reply.started": "2021-08-31T18:57:08.108746Z"
    },
    "papermill": {
     "duration": 0.185919,
     "end_time": "2021-08-31T19:26:28.514095",
     "exception": false,
     "start_time": "2021-08-31T19:26:28.328176",
     "status": "completed"
    },
    "tags": []
   },
   "outputs": [],
   "source": [
    "num_cols = [col for col in train_data.columns if ((train_data[col].dtypes == \"int64\") or (train_data[col].dtypes ==\"float64\")) and (col not in (\"id\"))]\n",
    "cat_cols = [col for col in train_data.columns if (train_data[col].dtypes == \"object\")]\n",
    "useful_cols = cat_cols + num_cols\n",
    "train_data = train_data[useful_cols]\n",
    "test_data = test_data[useful_cols[:24] + useful_cols[26:]]"
   ]
  },
  {
   "cell_type": "code",
   "execution_count": 8,
   "id": "08528f0e",
   "metadata": {
    "execution": {
     "iopub.execute_input": "2021-08-31T19:26:28.602123Z",
     "iopub.status.busy": "2021-08-31T19:26:28.600054Z",
     "iopub.status.idle": "2021-08-31T19:26:28.608271Z",
     "shell.execute_reply": "2021-08-31T19:26:28.607678Z",
     "shell.execute_reply.started": "2021-08-31T18:57:08.293208Z"
    },
    "papermill": {
     "duration": 0.067084,
     "end_time": "2021-08-31T19:26:28.608414",
     "exception": false,
     "start_time": "2021-08-31T19:26:28.541330",
     "status": "completed"
    },
    "tags": []
   },
   "outputs": [
    {
     "name": "stdout",
     "output_type": "stream",
     "text": [
      "Index(['cat0', 'cat1', 'cat2', 'cat3', 'cat4', 'cat5', 'cat6', 'cat7', 'cat8',\n",
      "       'cat9', 'cont0', 'cont1', 'cont2', 'cont3', 'cont4', 'cont5', 'cont6',\n",
      "       'cont7', 'cont8', 'cont9', 'cont10', 'cont11', 'cont12', 'cont13',\n",
      "       'target', 'kfold', 'target_enc_cat0', 'target_enc_cat1',\n",
      "       'target_enc_cat2', 'target_enc_cat3', 'target_enc_cat4',\n",
      "       'target_enc_cat5', 'target_enc_cat6', 'target_enc_cat7',\n",
      "       'target_enc_cat8', 'target_enc_cat9'],\n",
      "      dtype='object')\n"
     ]
    },
    {
     "data": {
      "text/html": [
       "<div>\n",
       "<style scoped>\n",
       "    .dataframe tbody tr th:only-of-type {\n",
       "        vertical-align: middle;\n",
       "    }\n",
       "\n",
       "    .dataframe tbody tr th {\n",
       "        vertical-align: top;\n",
       "    }\n",
       "\n",
       "    .dataframe thead th {\n",
       "        text-align: right;\n",
       "    }\n",
       "</style>\n",
       "<table border=\"1\" class=\"dataframe\">\n",
       "  <thead>\n",
       "    <tr style=\"text-align: right;\">\n",
       "      <th></th>\n",
       "      <th>cat0</th>\n",
       "      <th>cat1</th>\n",
       "      <th>cat2</th>\n",
       "      <th>cat3</th>\n",
       "      <th>cat4</th>\n",
       "      <th>cat5</th>\n",
       "      <th>cat6</th>\n",
       "      <th>cat7</th>\n",
       "      <th>cat8</th>\n",
       "      <th>cat9</th>\n",
       "      <th>...</th>\n",
       "      <th>target_enc_cat0</th>\n",
       "      <th>target_enc_cat1</th>\n",
       "      <th>target_enc_cat2</th>\n",
       "      <th>target_enc_cat3</th>\n",
       "      <th>target_enc_cat4</th>\n",
       "      <th>target_enc_cat5</th>\n",
       "      <th>target_enc_cat6</th>\n",
       "      <th>target_enc_cat7</th>\n",
       "      <th>target_enc_cat8</th>\n",
       "      <th>target_enc_cat9</th>\n",
       "    </tr>\n",
       "  </thead>\n",
       "  <tbody>\n",
       "    <tr>\n",
       "      <th>0</th>\n",
       "      <td>B</td>\n",
       "      <td>B</td>\n",
       "      <td>A</td>\n",
       "      <td>A</td>\n",
       "      <td>B</td>\n",
       "      <td>D</td>\n",
       "      <td>A</td>\n",
       "      <td>F</td>\n",
       "      <td>A</td>\n",
       "      <td>O</td>\n",
       "      <td>...</td>\n",
       "      <td>8.200139</td>\n",
       "      <td>8.162371</td>\n",
       "      <td>8.192867</td>\n",
       "      <td>8.234425</td>\n",
       "      <td>8.190434</td>\n",
       "      <td>8.172714</td>\n",
       "      <td>8.19078</td>\n",
       "      <td>8.234335</td>\n",
       "      <td>8.143371</td>\n",
       "      <td>8.175322</td>\n",
       "    </tr>\n",
       "    <tr>\n",
       "      <th>1</th>\n",
       "      <td>A</td>\n",
       "      <td>A</td>\n",
       "      <td>A</td>\n",
       "      <td>C</td>\n",
       "      <td>B</td>\n",
       "      <td>D</td>\n",
       "      <td>A</td>\n",
       "      <td>E</td>\n",
       "      <td>A</td>\n",
       "      <td>N</td>\n",
       "      <td>...</td>\n",
       "      <td>8.187044</td>\n",
       "      <td>8.220510</td>\n",
       "      <td>8.192867</td>\n",
       "      <td>8.185586</td>\n",
       "      <td>8.190434</td>\n",
       "      <td>8.172714</td>\n",
       "      <td>8.19078</td>\n",
       "      <td>8.192015</td>\n",
       "      <td>8.143371</td>\n",
       "      <td>8.213467</td>\n",
       "    </tr>\n",
       "    <tr>\n",
       "      <th>2</th>\n",
       "      <td>B</td>\n",
       "      <td>A</td>\n",
       "      <td>A</td>\n",
       "      <td>A</td>\n",
       "      <td>B</td>\n",
       "      <td>D</td>\n",
       "      <td>A</td>\n",
       "      <td>E</td>\n",
       "      <td>C</td>\n",
       "      <td>F</td>\n",
       "      <td>...</td>\n",
       "      <td>8.200139</td>\n",
       "      <td>8.220510</td>\n",
       "      <td>8.192867</td>\n",
       "      <td>8.234425</td>\n",
       "      <td>8.190434</td>\n",
       "      <td>8.172714</td>\n",
       "      <td>8.19078</td>\n",
       "      <td>8.192015</td>\n",
       "      <td>8.246532</td>\n",
       "      <td>8.207318</td>\n",
       "    </tr>\n",
       "    <tr>\n",
       "      <th>3</th>\n",
       "      <td>A</td>\n",
       "      <td>B</td>\n",
       "      <td>A</td>\n",
       "      <td>C</td>\n",
       "      <td>B</td>\n",
       "      <td>D</td>\n",
       "      <td>A</td>\n",
       "      <td>E</td>\n",
       "      <td>G</td>\n",
       "      <td>I</td>\n",
       "      <td>...</td>\n",
       "      <td>8.187044</td>\n",
       "      <td>8.162371</td>\n",
       "      <td>8.192867</td>\n",
       "      <td>8.185586</td>\n",
       "      <td>8.190434</td>\n",
       "      <td>8.172714</td>\n",
       "      <td>8.19078</td>\n",
       "      <td>8.192015</td>\n",
       "      <td>8.184368</td>\n",
       "      <td>8.159815</td>\n",
       "    </tr>\n",
       "    <tr>\n",
       "      <th>4</th>\n",
       "      <td>B</td>\n",
       "      <td>A</td>\n",
       "      <td>A</td>\n",
       "      <td>C</td>\n",
       "      <td>B</td>\n",
       "      <td>D</td>\n",
       "      <td>A</td>\n",
       "      <td>E</td>\n",
       "      <td>A</td>\n",
       "      <td>M</td>\n",
       "      <td>...</td>\n",
       "      <td>8.200139</td>\n",
       "      <td>8.220510</td>\n",
       "      <td>8.192867</td>\n",
       "      <td>8.185586</td>\n",
       "      <td>8.190434</td>\n",
       "      <td>8.172714</td>\n",
       "      <td>8.19078</td>\n",
       "      <td>8.192015</td>\n",
       "      <td>8.143371</td>\n",
       "      <td>8.184239</td>\n",
       "    </tr>\n",
       "  </tbody>\n",
       "</table>\n",
       "<p>5 rows × 36 columns</p>\n",
       "</div>"
      ],
      "text/plain": [
       "  cat0 cat1 cat2 cat3 cat4 cat5 cat6 cat7 cat8 cat9  ...  target_enc_cat0  \\\n",
       "0    B    B    A    A    B    D    A    F    A    O  ...         8.200139   \n",
       "1    A    A    A    C    B    D    A    E    A    N  ...         8.187044   \n",
       "2    B    A    A    A    B    D    A    E    C    F  ...         8.200139   \n",
       "3    A    B    A    C    B    D    A    E    G    I  ...         8.187044   \n",
       "4    B    A    A    C    B    D    A    E    A    M  ...         8.200139   \n",
       "\n",
       "   target_enc_cat1  target_enc_cat2  target_enc_cat3  target_enc_cat4  \\\n",
       "0         8.162371         8.192867         8.234425         8.190434   \n",
       "1         8.220510         8.192867         8.185586         8.190434   \n",
       "2         8.220510         8.192867         8.234425         8.190434   \n",
       "3         8.162371         8.192867         8.185586         8.190434   \n",
       "4         8.220510         8.192867         8.185586         8.190434   \n",
       "\n",
       "   target_enc_cat5  target_enc_cat6  target_enc_cat7  target_enc_cat8  \\\n",
       "0         8.172714          8.19078         8.234335         8.143371   \n",
       "1         8.172714          8.19078         8.192015         8.143371   \n",
       "2         8.172714          8.19078         8.192015         8.246532   \n",
       "3         8.172714          8.19078         8.192015         8.184368   \n",
       "4         8.172714          8.19078         8.192015         8.143371   \n",
       "\n",
       "   target_enc_cat9  \n",
       "0         8.175322  \n",
       "1         8.213467  \n",
       "2         8.207318  \n",
       "3         8.159815  \n",
       "4         8.184239  \n",
       "\n",
       "[5 rows x 36 columns]"
      ]
     },
     "execution_count": 8,
     "metadata": {},
     "output_type": "execute_result"
    }
   ],
   "source": [
    "print(train_data.columns)\n",
    "train_data.head()"
   ]
  },
  {
   "cell_type": "code",
   "execution_count": 9,
   "id": "9f06a9fa",
   "metadata": {
    "execution": {
     "iopub.execute_input": "2021-08-31T19:26:28.679568Z",
     "iopub.status.busy": "2021-08-31T19:26:28.678569Z",
     "iopub.status.idle": "2021-08-31T19:26:28.699697Z",
     "shell.execute_reply": "2021-08-31T19:26:28.700272Z",
     "shell.execute_reply.started": "2021-08-31T18:57:08.451625Z"
    },
    "papermill": {
     "duration": 0.064725,
     "end_time": "2021-08-31T19:26:28.700418",
     "exception": false,
     "start_time": "2021-08-31T19:26:28.635693",
     "status": "completed"
    },
    "tags": []
   },
   "outputs": [
    {
     "name": "stdout",
     "output_type": "stream",
     "text": [
      "Index(['cat0', 'cat1', 'cat2', 'cat3', 'cat4', 'cat5', 'cat6', 'cat7', 'cat8',\n",
      "       'cat9', 'cont0', 'cont1', 'cont2', 'cont3', 'cont4', 'cont5', 'cont6',\n",
      "       'cont7', 'cont8', 'cont9', 'cont10', 'cont11', 'cont12', 'cont13',\n",
      "       'target_enc_cat0', 'target_enc_cat1', 'target_enc_cat2',\n",
      "       'target_enc_cat3', 'target_enc_cat4', 'target_enc_cat5',\n",
      "       'target_enc_cat6', 'target_enc_cat7', 'target_enc_cat8',\n",
      "       'target_enc_cat9'],\n",
      "      dtype='object')\n"
     ]
    },
    {
     "data": {
      "text/html": [
       "<div>\n",
       "<style scoped>\n",
       "    .dataframe tbody tr th:only-of-type {\n",
       "        vertical-align: middle;\n",
       "    }\n",
       "\n",
       "    .dataframe tbody tr th {\n",
       "        vertical-align: top;\n",
       "    }\n",
       "\n",
       "    .dataframe thead th {\n",
       "        text-align: right;\n",
       "    }\n",
       "</style>\n",
       "<table border=\"1\" class=\"dataframe\">\n",
       "  <thead>\n",
       "    <tr style=\"text-align: right;\">\n",
       "      <th></th>\n",
       "      <th>cat0</th>\n",
       "      <th>cat1</th>\n",
       "      <th>cat2</th>\n",
       "      <th>cat3</th>\n",
       "      <th>cat4</th>\n",
       "      <th>cat5</th>\n",
       "      <th>cat6</th>\n",
       "      <th>cat7</th>\n",
       "      <th>cat8</th>\n",
       "      <th>cat9</th>\n",
       "      <th>...</th>\n",
       "      <th>target_enc_cat0</th>\n",
       "      <th>target_enc_cat1</th>\n",
       "      <th>target_enc_cat2</th>\n",
       "      <th>target_enc_cat3</th>\n",
       "      <th>target_enc_cat4</th>\n",
       "      <th>target_enc_cat5</th>\n",
       "      <th>target_enc_cat6</th>\n",
       "      <th>target_enc_cat7</th>\n",
       "      <th>target_enc_cat8</th>\n",
       "      <th>target_enc_cat9</th>\n",
       "    </tr>\n",
       "  </thead>\n",
       "  <tbody>\n",
       "    <tr>\n",
       "      <th>0</th>\n",
       "      <td>B</td>\n",
       "      <td>B</td>\n",
       "      <td>B</td>\n",
       "      <td>C</td>\n",
       "      <td>B</td>\n",
       "      <td>B</td>\n",
       "      <td>A</td>\n",
       "      <td>E</td>\n",
       "      <td>E</td>\n",
       "      <td>I</td>\n",
       "      <td>...</td>\n",
       "      <td>8.199411</td>\n",
       "      <td>8.162038</td>\n",
       "      <td>8.186756</td>\n",
       "      <td>8.185477</td>\n",
       "      <td>8.189992</td>\n",
       "      <td>8.199043</td>\n",
       "      <td>8.190005</td>\n",
       "      <td>8.191722</td>\n",
       "      <td>8.145356</td>\n",
       "      <td>8.158563</td>\n",
       "    </tr>\n",
       "    <tr>\n",
       "      <th>1</th>\n",
       "      <td>A</td>\n",
       "      <td>B</td>\n",
       "      <td>A</td>\n",
       "      <td>C</td>\n",
       "      <td>B</td>\n",
       "      <td>C</td>\n",
       "      <td>A</td>\n",
       "      <td>E</td>\n",
       "      <td>C</td>\n",
       "      <td>H</td>\n",
       "      <td>...</td>\n",
       "      <td>8.186798</td>\n",
       "      <td>8.162038</td>\n",
       "      <td>8.192303</td>\n",
       "      <td>8.185477</td>\n",
       "      <td>8.189992</td>\n",
       "      <td>8.221418</td>\n",
       "      <td>8.190005</td>\n",
       "      <td>8.191722</td>\n",
       "      <td>8.248797</td>\n",
       "      <td>8.195199</td>\n",
       "    </tr>\n",
       "    <tr>\n",
       "      <th>2</th>\n",
       "      <td>B</td>\n",
       "      <td>A</td>\n",
       "      <td>A</td>\n",
       "      <td>A</td>\n",
       "      <td>B</td>\n",
       "      <td>B</td>\n",
       "      <td>A</td>\n",
       "      <td>E</td>\n",
       "      <td>D</td>\n",
       "      <td>K</td>\n",
       "      <td>...</td>\n",
       "      <td>8.199411</td>\n",
       "      <td>8.219706</td>\n",
       "      <td>8.192303</td>\n",
       "      <td>8.232115</td>\n",
       "      <td>8.189992</td>\n",
       "      <td>8.199043</td>\n",
       "      <td>8.190005</td>\n",
       "      <td>8.191722</td>\n",
       "      <td>8.205808</td>\n",
       "      <td>8.232337</td>\n",
       "    </tr>\n",
       "    <tr>\n",
       "      <th>3</th>\n",
       "      <td>B</td>\n",
       "      <td>B</td>\n",
       "      <td>A</td>\n",
       "      <td>C</td>\n",
       "      <td>B</td>\n",
       "      <td>D</td>\n",
       "      <td>A</td>\n",
       "      <td>E</td>\n",
       "      <td>A</td>\n",
       "      <td>N</td>\n",
       "      <td>...</td>\n",
       "      <td>8.199411</td>\n",
       "      <td>8.162038</td>\n",
       "      <td>8.192303</td>\n",
       "      <td>8.185477</td>\n",
       "      <td>8.189992</td>\n",
       "      <td>8.171351</td>\n",
       "      <td>8.190005</td>\n",
       "      <td>8.191722</td>\n",
       "      <td>8.134364</td>\n",
       "      <td>8.210000</td>\n",
       "    </tr>\n",
       "    <tr>\n",
       "      <th>4</th>\n",
       "      <td>B</td>\n",
       "      <td>B</td>\n",
       "      <td>A</td>\n",
       "      <td>C</td>\n",
       "      <td>B</td>\n",
       "      <td>C</td>\n",
       "      <td>A</td>\n",
       "      <td>E</td>\n",
       "      <td>C</td>\n",
       "      <td>F</td>\n",
       "      <td>...</td>\n",
       "      <td>8.199411</td>\n",
       "      <td>8.162038</td>\n",
       "      <td>8.192303</td>\n",
       "      <td>8.185477</td>\n",
       "      <td>8.189992</td>\n",
       "      <td>8.221418</td>\n",
       "      <td>8.190005</td>\n",
       "      <td>8.191722</td>\n",
       "      <td>8.248797</td>\n",
       "      <td>8.206115</td>\n",
       "    </tr>\n",
       "  </tbody>\n",
       "</table>\n",
       "<p>5 rows × 34 columns</p>\n",
       "</div>"
      ],
      "text/plain": [
       "  cat0 cat1 cat2 cat3 cat4 cat5 cat6 cat7 cat8 cat9  ...  target_enc_cat0  \\\n",
       "0    B    B    B    C    B    B    A    E    E    I  ...         8.199411   \n",
       "1    A    B    A    C    B    C    A    E    C    H  ...         8.186798   \n",
       "2    B    A    A    A    B    B    A    E    D    K  ...         8.199411   \n",
       "3    B    B    A    C    B    D    A    E    A    N  ...         8.199411   \n",
       "4    B    B    A    C    B    C    A    E    C    F  ...         8.199411   \n",
       "\n",
       "   target_enc_cat1  target_enc_cat2  target_enc_cat3  target_enc_cat4  \\\n",
       "0         8.162038         8.186756         8.185477         8.189992   \n",
       "1         8.162038         8.192303         8.185477         8.189992   \n",
       "2         8.219706         8.192303         8.232115         8.189992   \n",
       "3         8.162038         8.192303         8.185477         8.189992   \n",
       "4         8.162038         8.192303         8.185477         8.189992   \n",
       "\n",
       "   target_enc_cat5  target_enc_cat6  target_enc_cat7  target_enc_cat8  \\\n",
       "0         8.199043         8.190005         8.191722         8.145356   \n",
       "1         8.221418         8.190005         8.191722         8.248797   \n",
       "2         8.199043         8.190005         8.191722         8.205808   \n",
       "3         8.171351         8.190005         8.191722         8.134364   \n",
       "4         8.221418         8.190005         8.191722         8.248797   \n",
       "\n",
       "   target_enc_cat9  \n",
       "0         8.158563  \n",
       "1         8.195199  \n",
       "2         8.232337  \n",
       "3         8.210000  \n",
       "4         8.206115  \n",
       "\n",
       "[5 rows x 34 columns]"
      ]
     },
     "execution_count": 9,
     "metadata": {},
     "output_type": "execute_result"
    }
   ],
   "source": [
    "print(test_data.columns)\n",
    "test_data.head()"
   ]
  },
  {
   "cell_type": "markdown",
   "id": "060e94ce",
   "metadata": {
    "papermill": {
     "duration": 0.026916,
     "end_time": "2021-08-31T19:26:28.755033",
     "exception": false,
     "start_time": "2021-08-31T19:26:28.728117",
     "status": "completed"
    },
    "tags": []
   },
   "source": [
    "## Function on which optuna happen"
   ]
  },
  {
   "cell_type": "code",
   "execution_count": 10,
   "id": "539bdf35",
   "metadata": {
    "execution": {
     "iopub.execute_input": "2021-08-31T19:26:28.825794Z",
     "iopub.status.busy": "2021-08-31T19:26:28.824732Z",
     "iopub.status.idle": "2021-08-31T19:26:28.828050Z",
     "shell.execute_reply": "2021-08-31T19:26:28.827507Z",
     "shell.execute_reply.started": "2021-08-31T18:57:08.781064Z"
    },
    "papermill": {
     "duration": 0.044613,
     "end_time": "2021-08-31T19:26:28.828189",
     "exception": false,
     "start_time": "2021-08-31T19:26:28.783576",
     "status": "completed"
    },
    "tags": []
   },
   "outputs": [],
   "source": [
    "def optuna_rmse(trial):\n",
    "   \n",
    "    fold = 0\n",
    "    \n",
    "    # making parameteres\n",
    "    learning_rate = trial.suggest_float(\"learning_rate\", 1e-2, 0.5, log=True)\n",
    "    reg_lambda = trial.suggest_loguniform(\"reg_lambda\", 1e-8, 100.0)\n",
    "    reg_alpha = trial.suggest_loguniform(\"reg_alpha\", 1e-8, 100.0)\n",
    "    subsample = trial.suggest_float(\"subsample\", 0.1, 1.0)\n",
    "    colsample_bytree = trial.suggest_float(\"colsample_bytree\", 0.1, 1.0)\n",
    "    max_depth = trial.suggest_int(\"max_depth\", 1, 10)\n",
    "    \n",
    "    # making training data and validating data for each fold\n",
    "    X_train = train_data[train_data.kfold != fold].reset_index(drop=True)\n",
    "    X_valid = train_data[train_data.kfold == fold].reset_index(drop=True)\n",
    "    \n",
    "    y_train = X_train.target\n",
    "    y_valid = X_valid.target\n",
    "    \n",
    "    X_train = X_train[test_data.columns]\n",
    "    X_valid = X_valid[test_data.columns]\n",
    "    \n",
    "    ## One Hot Encoding for categorical data\n",
    "    OH_encoder = OneHotEncoder(handle_unknown=\"ignore\", sparse=False)\n",
    "    \n",
    "    # fitting and transforming the training and test data\n",
    "    OH_encoder.fit(X_train[cat_cols])\n",
    "    OH_X_train = OH_encoder.transform(X_train[cat_cols])\n",
    "    OH_X_valid = OH_encoder.transform(X_valid[cat_cols])\n",
    "    \n",
    "    # Naming the one hot encoded columns\n",
    "    OH_X_train = pd.DataFrame(OH_X_train, columns=[f\"ohe_{i}\" for i in range(OH_X_train.shape[1])])\n",
    "    OH_X_valid = pd.DataFrame(OH_X_valid, columns=[f\"ohe_{i}\" for i in range(OH_X_valid.shape[1])])\n",
    "    \n",
    "    # Adding one hot encoded columns to main data (training, validating, test)\n",
    "    X_train = pd.concat([X_train, OH_X_train], axis=1)\n",
    "    X_valid = pd.concat([X_valid, OH_X_valid], axis=1)\n",
    "    \n",
    "    # Dropping the categorical columns, as their one hot encoded columns are added to main data\n",
    "    X_train = X_train.drop(cat_cols, axis=1)\n",
    "    X_valid = X_valid.drop(cat_cols, axis=1)\n",
    "    \n",
    "    # making model\n",
    "    model = XGBRegressor(\n",
    "        n_estimators=5000,\n",
    "        learning_rate=learning_rate,\n",
    "        reg_lambda=reg_lambda,\n",
    "        reg_alpha=reg_alpha,\n",
    "        subsample=subsample,\n",
    "        colsample_bytree=colsample_bytree,\n",
    "        max_depth=max_depth,\n",
    "        tree_method=\"gpu_hist\",\n",
    "        gpu_id=0,\n",
    "        predictor=\"gpu_predictor\",\n",
    "        random_state=50,\n",
    "    )\n",
    "    model.fit(X_train, y_train, early_stopping_rounds=300,\n",
    "              eval_set=[(X_valid, y_valid)], verbose=1000)\n",
    "    valid_preds = model.predict(X_valid)\n",
    "    rmse = mean_squared_error(y_valid, valid_preds, squared=False)\n",
    "    return rmse"
   ]
  },
  {
   "cell_type": "markdown",
   "id": "13d175c4",
   "metadata": {
    "papermill": {
     "duration": 0.0276,
     "end_time": "2021-08-31T19:26:28.883531",
     "exception": false,
     "start_time": "2021-08-31T19:26:28.855931",
     "status": "completed"
    },
    "tags": []
   },
   "source": [
    "## Optuna making and optimizing with `optuna_mse()` function"
   ]
  },
  {
   "cell_type": "code",
   "execution_count": 11,
   "id": "9ef9a367",
   "metadata": {
    "execution": {
     "iopub.execute_input": "2021-08-31T19:26:28.945350Z",
     "iopub.status.busy": "2021-08-31T19:26:28.944383Z",
     "iopub.status.idle": "2021-08-31T19:29:52.781514Z",
     "shell.execute_reply": "2021-08-31T19:29:52.784120Z",
     "shell.execute_reply.started": "2021-08-31T18:43:56.813230Z"
    },
    "papermill": {
     "duration": 203.872878,
     "end_time": "2021-08-31T19:29:52.784410",
     "exception": false,
     "start_time": "2021-08-31T19:26:28.911532",
     "status": "completed"
    },
    "tags": []
   },
   "outputs": [
    {
     "name": "stderr",
     "output_type": "stream",
     "text": [
      "\u001b[32m[I 2021-08-31 19:26:28,942]\u001b[0m A new study created in memory with name: no-name-109679a8-0b1b-44b4-9207-b771abc02ec3\u001b[0m\n"
     ]
    },
    {
     "name": "stdout",
     "output_type": "stream",
     "text": [
      "[0]\tvalidation_0-rmse:7.38964\n",
      "[872]\tvalidation_0-rmse:0.72175\n"
     ]
    },
    {
     "name": "stderr",
     "output_type": "stream",
     "text": [
      "\u001b[32m[I 2021-08-31 19:26:42,500]\u001b[0m Trial 0 finished with value: 0.7207241905976591 and parameters: {'learning_rate': 0.05006097040264347, 'reg_lambda': 2.1469286226544855e-08, 'reg_alpha': 6.290091952555375e-06, 'subsample': 0.22415362332891858, 'colsample_bytree': 0.16220738623925435, 'max_depth': 7}. Best is trial 0 with value: 0.7207241905976591.\u001b[0m\n"
     ]
    },
    {
     "name": "stdout",
     "output_type": "stream",
     "text": [
      "[0]\tvalidation_0-rmse:6.50927\n",
      "[463]\tvalidation_0-rmse:0.72243\n"
     ]
    },
    {
     "name": "stderr",
     "output_type": "stream",
     "text": [
      "\u001b[32m[I 2021-08-31 19:26:50,403]\u001b[0m Trial 1 finished with value: 0.7192688725248794 and parameters: {'learning_rate': 0.16444552764643636, 'reg_lambda': 44.039623257969474, 'reg_alpha': 1.2931977085976182e-05, 'subsample': 0.7211528911530546, 'colsample_bytree': 0.26320669117639517, 'max_depth': 7}. Best is trial 1 with value: 0.7192688725248794.\u001b[0m\n"
     ]
    },
    {
     "name": "stdout",
     "output_type": "stream",
     "text": [
      "[0]\tvalidation_0-rmse:7.17369\n",
      "[1000]\tvalidation_0-rmse:0.71863\n",
      "[1091]\tvalidation_0-rmse:0.71870\n"
     ]
    },
    {
     "name": "stderr",
     "output_type": "stream",
     "text": [
      "\u001b[32m[I 2021-08-31 19:27:02,090]\u001b[0m Trial 2 finished with value: 0.7184798928447407 and parameters: {'learning_rate': 0.07807563719934427, 'reg_lambda': 1.0431227575448714e-06, 'reg_alpha': 75.70080096695035, 'subsample': 0.7398599963111441, 'colsample_bytree': 0.7684451066380132, 'max_depth': 6}. Best is trial 2 with value: 0.7184798928447407.\u001b[0m\n"
     ]
    },
    {
     "name": "stdout",
     "output_type": "stream",
     "text": [
      "[0]\tvalidation_0-rmse:7.06562\n",
      "[411]\tvalidation_0-rmse:0.73030\n"
     ]
    },
    {
     "name": "stderr",
     "output_type": "stream",
     "text": [
      "\u001b[32m[I 2021-08-31 19:27:17,279]\u001b[0m Trial 3 finished with value: 0.7240030039402192 and parameters: {'learning_rate': 0.09212657559504207, 'reg_lambda': 2.536346118997926e-08, 'reg_alpha': 0.00045985456218321246, 'subsample': 0.5270251980285031, 'colsample_bytree': 0.3013321380046453, 'max_depth': 9}. Best is trial 2 with value: 0.7184798928447407.\u001b[0m\n"
     ]
    },
    {
     "name": "stdout",
     "output_type": "stream",
     "text": [
      "[0]\tvalidation_0-rmse:7.63044\n",
      "[1000]\tvalidation_0-rmse:0.71976\n",
      "[2000]\tvalidation_0-rmse:0.71861\n",
      "[2457]\tvalidation_0-rmse:0.71854\n"
     ]
    },
    {
     "name": "stderr",
     "output_type": "stream",
     "text": [
      "\u001b[32m[I 2021-08-31 19:27:40,717]\u001b[0m Trial 4 finished with value: 0.7185333118032438 and parameters: {'learning_rate': 0.0187831014805865, 'reg_lambda': 0.02571627887885782, 'reg_alpha': 0.0009764345351958131, 'subsample': 0.43678352729945624, 'colsample_bytree': 0.6730859021605635, 'max_depth': 6}. Best is trial 2 with value: 0.7184798928447407.\u001b[0m\n"
     ]
    },
    {
     "name": "stdout",
     "output_type": "stream",
     "text": [
      "[0]\tvalidation_0-rmse:5.78083\n",
      "[1000]\tvalidation_0-rmse:0.71643\n",
      "[1252]\tvalidation_0-rmse:0.71648\n"
     ]
    },
    {
     "name": "stderr",
     "output_type": "stream",
     "text": [
      "\u001b[32m[I 2021-08-31 19:27:48,666]\u001b[0m Trial 5 finished with value: 0.7164083984560765 and parameters: {'learning_rate': 0.2591713070909918, 'reg_lambda': 0.6970000951007623, 'reg_alpha': 42.03239833403357, 'subsample': 0.8917988131357745, 'colsample_bytree': 0.17296908420418067, 'max_depth': 3}. Best is trial 5 with value: 0.7164083984560765.\u001b[0m\n"
     ]
    },
    {
     "name": "stdout",
     "output_type": "stream",
     "text": [
      "[0]\tvalidation_0-rmse:5.92672\n",
      "[442]\tvalidation_0-rmse:0.72461\n"
     ]
    },
    {
     "name": "stderr",
     "output_type": "stream",
     "text": [
      "\u001b[32m[I 2021-08-31 19:27:53,955]\u001b[0m Trial 6 finished with value: 0.7207881704645959 and parameters: {'learning_rate': 0.24028153991105425, 'reg_lambda': 0.0005965934260562582, 'reg_alpha': 3.0125380017873655e-08, 'subsample': 0.8944709141334033, 'colsample_bytree': 0.7780417119127195, 'max_depth': 5}. Best is trial 5 with value: 0.7164083984560765.\u001b[0m\n"
     ]
    },
    {
     "name": "stdout",
     "output_type": "stream",
     "text": [
      "[0]\tvalidation_0-rmse:7.62477\n",
      "[1000]\tvalidation_0-rmse:0.72086\n",
      "[1179]\tvalidation_0-rmse:0.72101\n"
     ]
    },
    {
     "name": "stderr",
     "output_type": "stream",
     "text": [
      "\u001b[32m[I 2021-08-31 19:29:16,371]\u001b[0m Trial 7 finished with value: 0.7207344919016684 and parameters: {'learning_rate': 0.019525740726158508, 'reg_lambda': 0.00014273137496083406, 'reg_alpha': 6.072467748725174e-06, 'subsample': 0.7117229439611081, 'colsample_bytree': 0.7309109215968904, 'max_depth': 10}. Best is trial 5 with value: 0.7164083984560765.\u001b[0m\n"
     ]
    },
    {
     "name": "stdout",
     "output_type": "stream",
     "text": [
      "[0]\tvalidation_0-rmse:6.68183\n",
      "[395]\tvalidation_0-rmse:0.73402\n"
     ]
    },
    {
     "name": "stderr",
     "output_type": "stream",
     "text": [
      "\u001b[32m[I 2021-08-31 19:29:32,774]\u001b[0m Trial 8 finished with value: 0.7235011614085046 and parameters: {'learning_rate': 0.14197762365544714, 'reg_lambda': 0.018089179501302163, 'reg_alpha': 3.667030728747912, 'subsample': 0.6707190861567056, 'colsample_bytree': 0.7251005997193748, 'max_depth': 9}. Best is trial 5 with value: 0.7164083984560765.\u001b[0m\n"
     ]
    },
    {
     "name": "stdout",
     "output_type": "stream",
     "text": [
      "[0]\tvalidation_0-rmse:7.54902\n",
      "[1000]\tvalidation_0-rmse:0.72527\n",
      "[2000]\tvalidation_0-rmse:0.72145\n",
      "[3000]\tvalidation_0-rmse:0.71968\n",
      "[4000]\tvalidation_0-rmse:0.71862\n",
      "[4999]\tvalidation_0-rmse:0.71792\n"
     ]
    },
    {
     "name": "stderr",
     "output_type": "stream",
     "text": [
      "\u001b[32m[I 2021-08-31 19:29:52,763]\u001b[0m Trial 9 finished with value: 0.7178961099687168 and parameters: {'learning_rate': 0.02935359063484761, 'reg_lambda': 0.01699697073818512, 'reg_alpha': 0.015605774804323479, 'subsample': 0.41540185161344434, 'colsample_bytree': 0.7904000141284389, 'max_depth': 2}. Best is trial 5 with value: 0.7164083984560765.\u001b[0m\n"
     ]
    }
   ],
   "source": [
    "study_optuna = optuna.create_study(direction=\"minimize\")\n",
    "study_optuna.optimize(optuna_rmse, n_trials=10)"
   ]
  },
  {
   "cell_type": "markdown",
   "id": "375279a3",
   "metadata": {
    "papermill": {
     "duration": 0.041236,
     "end_time": "2021-08-31T19:29:52.870817",
     "exception": false,
     "start_time": "2021-08-31T19:29:52.829581",
     "status": "completed"
    },
    "tags": []
   },
   "source": [
    "## Best Parameters for XGBoost Regressor after optimizing optuna with `optuna_run()` function\n",
    "#### These parameters with `n_estimators=5000`, `random_state=50` on XGBoostRegressor\n",
    "##### Some more parameters while fitting the data:\n",
    "* `early_stopping_rounds=300`\n",
    "* `verbose=1000`"
   ]
  },
  {
   "cell_type": "code",
   "execution_count": 12,
   "id": "f243f58b",
   "metadata": {
    "execution": {
     "iopub.execute_input": "2021-08-31T19:29:52.958875Z",
     "iopub.status.busy": "2021-08-31T19:29:52.957734Z",
     "iopub.status.idle": "2021-08-31T19:29:52.962852Z",
     "shell.execute_reply": "2021-08-31T19:29:52.962241Z",
     "shell.execute_reply.started": "2021-08-31T18:48:41.868489Z"
    },
    "papermill": {
     "duration": 0.051321,
     "end_time": "2021-08-31T19:29:52.963026",
     "exception": false,
     "start_time": "2021-08-31T19:29:52.911705",
     "status": "completed"
    },
    "tags": []
   },
   "outputs": [
    {
     "data": {
      "text/plain": [
       "{'learning_rate': 0.2591713070909918,\n",
       " 'reg_lambda': 0.6970000951007623,\n",
       " 'reg_alpha': 42.03239833403357,\n",
       " 'subsample': 0.8917988131357745,\n",
       " 'colsample_bytree': 0.17296908420418067,\n",
       " 'max_depth': 3}"
      ]
     },
     "execution_count": 12,
     "metadata": {},
     "output_type": "execute_result"
    }
   ],
   "source": [
    "best_parameters = study_optuna.best_params\n",
    "best_parameters"
   ]
  },
  {
   "cell_type": "markdown",
   "id": "9798fc66",
   "metadata": {
    "papermill": {
     "duration": 0.040982,
     "end_time": "2021-08-31T19:29:53.045148",
     "exception": false,
     "start_time": "2021-08-31T19:29:53.004166",
     "status": "completed"
    },
    "tags": []
   },
   "source": [
    "### Some more parameters with their respective n estimators and rest parameters are:\n",
    "#### XGBoost Regressor parameters:\n",
    "* `n_estimators=5000`\n",
    "* `random_state=50`\n",
    "##### Some more parameters while fitting the data:\n",
    "* `early_stopping_rounds=300`\n",
    "* `verbose=1000`"
   ]
  },
  {
   "cell_type": "code",
   "execution_count": 13,
   "id": "71640e68",
   "metadata": {
    "execution": {
     "iopub.execute_input": "2021-08-31T19:29:53.132364Z",
     "iopub.status.busy": "2021-08-31T19:29:53.131280Z",
     "iopub.status.idle": "2021-08-31T19:29:53.134948Z",
     "shell.execute_reply": "2021-08-31T19:29:53.134434Z",
     "shell.execute_reply.started": "2021-08-31T18:49:45.006933Z"
    },
    "papermill": {
     "duration": 0.049406,
     "end_time": "2021-08-31T19:29:53.135081",
     "exception": false,
     "start_time": "2021-08-31T19:29:53.085675",
     "status": "completed"
    },
    "tags": []
   },
   "outputs": [],
   "source": [
    "# n_estimators = 1000\n",
    "params_1000 = {'learning_rate': 0.0538129866548988,\n",
    " 'reg_lambda': 78.83024499918844,\n",
    " 'reg_alpha': 1.1789981443997697,\n",
    " 'subsample': 0.5850723307909039,\n",
    " 'colsample_bytree': 0.24017852529032113,\n",
    " 'max_depth': 5}"
   ]
  },
  {
   "cell_type": "code",
   "execution_count": 14,
   "id": "ed1d49f3",
   "metadata": {
    "execution": {
     "iopub.execute_input": "2021-08-31T19:29:53.222814Z",
     "iopub.status.busy": "2021-08-31T19:29:53.221670Z",
     "iopub.status.idle": "2021-08-31T19:29:53.225144Z",
     "shell.execute_reply": "2021-08-31T19:29:53.224637Z",
     "shell.execute_reply.started": "2021-08-31T18:49:45.674428Z"
    },
    "papermill": {
     "duration": 0.049568,
     "end_time": "2021-08-31T19:29:53.225294",
     "exception": false,
     "start_time": "2021-08-31T19:29:53.175726",
     "status": "completed"
    },
    "tags": []
   },
   "outputs": [],
   "source": [
    "# n_estimators = 2000\n",
    "params_2000 = {'learning_rate': 0.04353489504974672,\n",
    " 'reg_lambda': 4.545379085259231e-05,\n",
    " 'reg_alpha': 3.943406343157982e-06,\n",
    " 'subsample': 0.7747461085845304,\n",
    " 'colsample_bytree': 0.1223723907272958,\n",
    " 'max_depth': 3}"
   ]
  },
  {
   "cell_type": "code",
   "execution_count": 15,
   "id": "9b8b1754",
   "metadata": {
    "execution": {
     "iopub.execute_input": "2021-08-31T19:29:53.315237Z",
     "iopub.status.busy": "2021-08-31T19:29:53.314078Z",
     "iopub.status.idle": "2021-08-31T19:29:53.317239Z",
     "shell.execute_reply": "2021-08-31T19:29:53.317768Z",
     "shell.execute_reply.started": "2021-08-31T18:50:00.729338Z"
    },
    "papermill": {
     "duration": 0.050054,
     "end_time": "2021-08-31T19:29:53.317913",
     "exception": false,
     "start_time": "2021-08-31T19:29:53.267859",
     "status": "completed"
    },
    "tags": []
   },
   "outputs": [],
   "source": [
    "# n_estimators = 5000\n",
    "params_5000 = {'learning_rate': 0.023172693725536604,\n",
    " 'reg_lambda': 0.0010005788328675566,\n",
    " 'reg_alpha': 3.871785864631445e-06,\n",
    " 'subsample': 0.998601648186681,\n",
    " 'colsample_bytree': 0.23009931707478923,\n",
    " 'max_depth': 5}"
   ]
  },
  {
   "cell_type": "code",
   "execution_count": 16,
   "id": "6d9c1761",
   "metadata": {
    "execution": {
     "iopub.execute_input": "2021-08-31T19:29:53.432361Z",
     "iopub.status.busy": "2021-08-31T19:29:53.431249Z",
     "iopub.status.idle": "2021-08-31T19:29:53.436197Z",
     "shell.execute_reply": "2021-08-31T19:29:53.435596Z",
     "shell.execute_reply.started": "2021-08-31T18:59:55.228429Z"
    },
    "papermill": {
     "duration": 0.076281,
     "end_time": "2021-08-31T19:29:53.436357",
     "exception": false,
     "start_time": "2021-08-31T19:29:53.360076",
     "status": "completed"
    },
    "tags": []
   },
   "outputs": [
    {
     "data": {
      "text/html": [
       "<div>\n",
       "<style scoped>\n",
       "    .dataframe tbody tr th:only-of-type {\n",
       "        vertical-align: middle;\n",
       "    }\n",
       "\n",
       "    .dataframe tbody tr th {\n",
       "        vertical-align: top;\n",
       "    }\n",
       "\n",
       "    .dataframe thead th {\n",
       "        text-align: right;\n",
       "    }\n",
       "</style>\n",
       "<table border=\"1\" class=\"dataframe\">\n",
       "  <thead>\n",
       "    <tr style=\"text-align: right;\">\n",
       "      <th></th>\n",
       "      <th>cat0</th>\n",
       "      <th>cat1</th>\n",
       "      <th>cat2</th>\n",
       "      <th>cat3</th>\n",
       "      <th>cat4</th>\n",
       "      <th>cat5</th>\n",
       "      <th>cat6</th>\n",
       "      <th>cat7</th>\n",
       "      <th>cat8</th>\n",
       "      <th>cat9</th>\n",
       "      <th>...</th>\n",
       "      <th>target_enc_cat0</th>\n",
       "      <th>target_enc_cat1</th>\n",
       "      <th>target_enc_cat2</th>\n",
       "      <th>target_enc_cat3</th>\n",
       "      <th>target_enc_cat4</th>\n",
       "      <th>target_enc_cat5</th>\n",
       "      <th>target_enc_cat6</th>\n",
       "      <th>target_enc_cat7</th>\n",
       "      <th>target_enc_cat8</th>\n",
       "      <th>target_enc_cat9</th>\n",
       "    </tr>\n",
       "  </thead>\n",
       "  <tbody>\n",
       "    <tr>\n",
       "      <th>0</th>\n",
       "      <td>B</td>\n",
       "      <td>B</td>\n",
       "      <td>B</td>\n",
       "      <td>C</td>\n",
       "      <td>B</td>\n",
       "      <td>B</td>\n",
       "      <td>A</td>\n",
       "      <td>E</td>\n",
       "      <td>E</td>\n",
       "      <td>I</td>\n",
       "      <td>...</td>\n",
       "      <td>8.199411</td>\n",
       "      <td>8.162038</td>\n",
       "      <td>8.186756</td>\n",
       "      <td>8.185477</td>\n",
       "      <td>8.189992</td>\n",
       "      <td>8.199043</td>\n",
       "      <td>8.190005</td>\n",
       "      <td>8.191722</td>\n",
       "      <td>8.145356</td>\n",
       "      <td>8.158563</td>\n",
       "    </tr>\n",
       "    <tr>\n",
       "      <th>1</th>\n",
       "      <td>A</td>\n",
       "      <td>B</td>\n",
       "      <td>A</td>\n",
       "      <td>C</td>\n",
       "      <td>B</td>\n",
       "      <td>C</td>\n",
       "      <td>A</td>\n",
       "      <td>E</td>\n",
       "      <td>C</td>\n",
       "      <td>H</td>\n",
       "      <td>...</td>\n",
       "      <td>8.186798</td>\n",
       "      <td>8.162038</td>\n",
       "      <td>8.192303</td>\n",
       "      <td>8.185477</td>\n",
       "      <td>8.189992</td>\n",
       "      <td>8.221418</td>\n",
       "      <td>8.190005</td>\n",
       "      <td>8.191722</td>\n",
       "      <td>8.248797</td>\n",
       "      <td>8.195199</td>\n",
       "    </tr>\n",
       "    <tr>\n",
       "      <th>2</th>\n",
       "      <td>B</td>\n",
       "      <td>A</td>\n",
       "      <td>A</td>\n",
       "      <td>A</td>\n",
       "      <td>B</td>\n",
       "      <td>B</td>\n",
       "      <td>A</td>\n",
       "      <td>E</td>\n",
       "      <td>D</td>\n",
       "      <td>K</td>\n",
       "      <td>...</td>\n",
       "      <td>8.199411</td>\n",
       "      <td>8.219706</td>\n",
       "      <td>8.192303</td>\n",
       "      <td>8.232115</td>\n",
       "      <td>8.189992</td>\n",
       "      <td>8.199043</td>\n",
       "      <td>8.190005</td>\n",
       "      <td>8.191722</td>\n",
       "      <td>8.205808</td>\n",
       "      <td>8.232337</td>\n",
       "    </tr>\n",
       "    <tr>\n",
       "      <th>3</th>\n",
       "      <td>B</td>\n",
       "      <td>B</td>\n",
       "      <td>A</td>\n",
       "      <td>C</td>\n",
       "      <td>B</td>\n",
       "      <td>D</td>\n",
       "      <td>A</td>\n",
       "      <td>E</td>\n",
       "      <td>A</td>\n",
       "      <td>N</td>\n",
       "      <td>...</td>\n",
       "      <td>8.199411</td>\n",
       "      <td>8.162038</td>\n",
       "      <td>8.192303</td>\n",
       "      <td>8.185477</td>\n",
       "      <td>8.189992</td>\n",
       "      <td>8.171351</td>\n",
       "      <td>8.190005</td>\n",
       "      <td>8.191722</td>\n",
       "      <td>8.134364</td>\n",
       "      <td>8.210000</td>\n",
       "    </tr>\n",
       "    <tr>\n",
       "      <th>4</th>\n",
       "      <td>B</td>\n",
       "      <td>B</td>\n",
       "      <td>A</td>\n",
       "      <td>C</td>\n",
       "      <td>B</td>\n",
       "      <td>C</td>\n",
       "      <td>A</td>\n",
       "      <td>E</td>\n",
       "      <td>C</td>\n",
       "      <td>F</td>\n",
       "      <td>...</td>\n",
       "      <td>8.199411</td>\n",
       "      <td>8.162038</td>\n",
       "      <td>8.192303</td>\n",
       "      <td>8.185477</td>\n",
       "      <td>8.189992</td>\n",
       "      <td>8.221418</td>\n",
       "      <td>8.190005</td>\n",
       "      <td>8.191722</td>\n",
       "      <td>8.248797</td>\n",
       "      <td>8.206115</td>\n",
       "    </tr>\n",
       "  </tbody>\n",
       "</table>\n",
       "<p>5 rows × 34 columns</p>\n",
       "</div>"
      ],
      "text/plain": [
       "  cat0 cat1 cat2 cat3 cat4 cat5 cat6 cat7 cat8 cat9  ...  target_enc_cat0  \\\n",
       "0    B    B    B    C    B    B    A    E    E    I  ...         8.199411   \n",
       "1    A    B    A    C    B    C    A    E    C    H  ...         8.186798   \n",
       "2    B    A    A    A    B    B    A    E    D    K  ...         8.199411   \n",
       "3    B    B    A    C    B    D    A    E    A    N  ...         8.199411   \n",
       "4    B    B    A    C    B    C    A    E    C    F  ...         8.199411   \n",
       "\n",
       "   target_enc_cat1  target_enc_cat2  target_enc_cat3  target_enc_cat4  \\\n",
       "0         8.162038         8.186756         8.185477         8.189992   \n",
       "1         8.162038         8.192303         8.185477         8.189992   \n",
       "2         8.219706         8.192303         8.232115         8.189992   \n",
       "3         8.162038         8.192303         8.185477         8.189992   \n",
       "4         8.162038         8.192303         8.185477         8.189992   \n",
       "\n",
       "   target_enc_cat5  target_enc_cat6  target_enc_cat7  target_enc_cat8  \\\n",
       "0         8.199043         8.190005         8.191722         8.145356   \n",
       "1         8.221418         8.190005         8.191722         8.248797   \n",
       "2         8.199043         8.190005         8.191722         8.205808   \n",
       "3         8.171351         8.190005         8.191722         8.134364   \n",
       "4         8.221418         8.190005         8.191722         8.248797   \n",
       "\n",
       "   target_enc_cat9  \n",
       "0         8.158563  \n",
       "1         8.195199  \n",
       "2         8.232337  \n",
       "3         8.210000  \n",
       "4         8.206115  \n",
       "\n",
       "[5 rows x 34 columns]"
      ]
     },
     "execution_count": 16,
     "metadata": {},
     "output_type": "execute_result"
    }
   ],
   "source": [
    "test_data.head()"
   ]
  },
  {
   "cell_type": "code",
   "execution_count": 17,
   "id": "0909913d",
   "metadata": {
    "execution": {
     "iopub.execute_input": "2021-08-31T19:29:53.526082Z",
     "iopub.status.busy": "2021-08-31T19:29:53.525021Z",
     "iopub.status.idle": "2021-08-31T19:29:53.529134Z",
     "shell.execute_reply": "2021-08-31T19:29:53.529621Z",
     "shell.execute_reply.started": "2021-08-31T19:02:46.988988Z"
    },
    "papermill": {
     "duration": 0.05154,
     "end_time": "2021-08-31T19:29:53.529786",
     "exception": false,
     "start_time": "2021-08-31T19:29:53.478246",
     "status": "completed"
    },
    "tags": []
   },
   "outputs": [
    {
     "data": {
      "text/plain": [
       "pandas.core.frame.DataFrame"
      ]
     },
     "execution_count": 17,
     "metadata": {},
     "output_type": "execute_result"
    }
   ],
   "source": [
    "type(test_data)"
   ]
  },
  {
   "cell_type": "code",
   "execution_count": 18,
   "id": "a2257855",
   "metadata": {
    "execution": {
     "iopub.execute_input": "2021-08-31T19:29:53.630731Z",
     "iopub.status.busy": "2021-08-31T19:29:53.629534Z",
     "iopub.status.idle": "2021-08-31T19:30:52.634821Z",
     "shell.execute_reply": "2021-08-31T19:30:52.636101Z",
     "shell.execute_reply.started": "2021-08-31T19:10:07.163069Z"
    },
    "papermill": {
     "duration": 59.063832,
     "end_time": "2021-08-31T19:30:52.636384",
     "exception": false,
     "start_time": "2021-08-31T19:29:53.572552",
     "status": "completed"
    },
    "tags": []
   },
   "outputs": [
    {
     "name": "stdout",
     "output_type": "stream",
     "text": [
      "[0]\tvalidation_0-rmse:7.43966\n",
      "[1000]\tvalidation_0-rmse:0.72029\n",
      "[1999]\tvalidation_0-rmse:0.71735\n",
      "Fold: 0, RMSE: 0.7173544472729189, \n",
      "Predictions on test data: [8.072433  8.332329  8.451173  ... 8.4778805 8.187541  8.010138 ]\n",
      "[0]\tvalidation_0-rmse:7.44294\n",
      "[1000]\tvalidation_0-rmse:0.72819\n",
      "[1999]\tvalidation_0-rmse:0.72495\n",
      "Fold: 1, RMSE: 0.7249523369628741, \n",
      "Predictions on test data: [8.052662  8.352034  8.462922  ... 8.468063  8.124349  7.9782763]\n",
      "[0]\tvalidation_0-rmse:7.43899\n",
      "[1000]\tvalidation_0-rmse:0.72368\n",
      "[1999]\tvalidation_0-rmse:0.72070\n",
      "Fold: 2, RMSE: 0.7207026138886449, \n",
      "Predictions on test data: [8.080405  8.382168  8.450365  ... 8.44541   8.084091  7.9776425]\n",
      "[0]\tvalidation_0-rmse:7.44545\n",
      "[1000]\tvalidation_0-rmse:0.72277\n",
      "[1999]\tvalidation_0-rmse:0.71995\n",
      "Fold: 3, RMSE: 0.7199525335027647, \n",
      "Predictions on test data: [8.02317   8.364025  8.41886   ... 8.382373  8.093361  7.9953537]\n",
      "[0]\tvalidation_0-rmse:7.44524\n",
      "[1000]\tvalidation_0-rmse:0.71930\n",
      "[1999]\tvalidation_0-rmse:0.71787\n",
      "Fold: 4, RMSE: 0.7171313010040038, \n",
      "Predictions on test data: [8.053768  8.355371  8.44058   ... 8.4383745 8.169567  8.045488 ]\n"
     ]
    }
   ],
   "source": [
    "final_predictions = []\n",
    "scores = []\n",
    "\n",
    "for fold in range(5):\n",
    "    \n",
    "    # making training data and validating data for each fold\n",
    "    X_train = train_data[train_data.kfold != fold].reset_index(drop=True)\n",
    "    X_valid = train_data[train_data.kfold == fold].reset_index(drop=True)\n",
    "    \n",
    "    X_test = test_data.copy()\n",
    "    \n",
    "    y_train = X_train.target\n",
    "    y_valid = X_valid.target\n",
    "    \n",
    "    X_train = X_train[test_data.columns]\n",
    "    X_valid = X_valid[test_data.columns]\n",
    "    \n",
    "    ## One Hot Encoding for categorical data\n",
    "    OH_encoder = OneHotEncoder(handle_unknown=\"ignore\", sparse=False)\n",
    "    \n",
    "    # fitting and transforming the training and test data\n",
    "    OH_encoder.fit(X_train[cat_cols])\n",
    "    OH_X_train = OH_encoder.transform(X_train[cat_cols])\n",
    "    OH_X_valid = OH_encoder.transform(X_valid[cat_cols])\n",
    "    OH_X_test = OH_encoder.transform(X_test[cat_cols])\n",
    "    \n",
    "    # Naming the one hot encoded columns\n",
    "    OH_X_train = pd.DataFrame(OH_X_train, columns=[f\"ohe_{i}\" for i in range(OH_X_train.shape[1])])\n",
    "    OH_X_valid = pd.DataFrame(OH_X_valid, columns=[f\"ohe_{i}\" for i in range(OH_X_valid.shape[1])])\n",
    "    OH_X_test = pd.DataFrame(OH_X_test, columns=[f\"ohe_{i}\" for i in range(OH_X_test.shape[1])])\n",
    "     \n",
    "    # Adding one hot encoded columns to main data (training, validating, test)\n",
    "    X_train = pd.concat([X_train, OH_X_train], axis=1)\n",
    "    X_valid = pd.concat([X_valid, OH_X_valid], axis=1)\n",
    "    X_test = pd.concat([X_test, OH_X_test], axis=1)\n",
    "    \n",
    "    # Dropping the categorical columns, as their one hot encoded columns are added to main data\n",
    "    X_train = X_train.drop(cat_cols, axis=1)\n",
    "    X_valid = X_valid.drop(cat_cols, axis=1)\n",
    "    X_test = X_test.drop(cat_cols, axis=1)\n",
    "    \n",
    "    # making the model\n",
    "    model = XGBRegressor(\n",
    "        n_estimators=2000,\n",
    "        **params_2000,\n",
    "        tree_method=\"gpu_hist\",\n",
    "        gpu_id=0,\n",
    "        predictor=\"gpu_predictor\",\n",
    "        random_state=50,\n",
    "    )\n",
    "    # fitting the data in the model\n",
    "    model.fit(X_train, y_train, early_stopping_rounds=300,\n",
    "              eval_set=[(X_valid, y_valid)], verbose=1000)\n",
    "    \n",
    "    # getting valid predictions and test predictions\n",
    "    preds_valid = model.predict(X_valid)\n",
    "    test_preds = model.predict(X_test)\n",
    "    final_predictions.append(test_preds)\n",
    "    \n",
    "    # rmse on valid predictions\n",
    "    rmse = mean_squared_error(y_valid, preds_valid, squared=False)\n",
    "    scores.append(rmse)\n",
    "    \n",
    "    print(f\"Fold: {fold}, RMSE: {rmse}, \\nPredictions on test data: {test_preds}\")"
   ]
  },
  {
   "cell_type": "markdown",
   "id": "ba2cc4cb",
   "metadata": {
    "papermill": {
     "duration": 0.048652,
     "end_time": "2021-08-31T19:30:52.735487",
     "exception": false,
     "start_time": "2021-08-31T19:30:52.686835",
     "status": "completed"
    },
    "tags": []
   },
   "source": [
    "## Final predictions (`final_preds`) based on best parameters"
   ]
  },
  {
   "cell_type": "code",
   "execution_count": 19,
   "id": "aaf8396c",
   "metadata": {
    "execution": {
     "iopub.execute_input": "2021-08-31T19:30:52.852858Z",
     "iopub.status.busy": "2021-08-31T19:30:52.851977Z",
     "iopub.status.idle": "2021-08-31T19:30:52.858079Z",
     "shell.execute_reply": "2021-08-31T19:30:52.857538Z",
     "shell.execute_reply.started": "2021-08-31T19:11:05.689474Z"
    },
    "papermill": {
     "duration": 0.061647,
     "end_time": "2021-08-31T19:30:52.858276",
     "exception": false,
     "start_time": "2021-08-31T19:30:52.796629",
     "status": "completed"
    },
    "tags": []
   },
   "outputs": [
    {
     "data": {
      "text/plain": [
       "[array([8.072433 , 8.332329 , 8.451173 , ..., 8.4778805, 8.187541 ,\n",
       "        8.010138 ], dtype=float32),\n",
       " array([8.052662 , 8.352034 , 8.462922 , ..., 8.468063 , 8.124349 ,\n",
       "        7.9782763], dtype=float32),\n",
       " array([8.080405 , 8.382168 , 8.450365 , ..., 8.44541  , 8.084091 ,\n",
       "        7.9776425], dtype=float32),\n",
       " array([8.02317  , 8.364025 , 8.41886  , ..., 8.382373 , 8.093361 ,\n",
       "        7.9953537], dtype=float32),\n",
       " array([8.053768 , 8.355371 , 8.44058  , ..., 8.4383745, 8.169567 ,\n",
       "        8.045488 ], dtype=float32)]"
      ]
     },
     "execution_count": 19,
     "metadata": {},
     "output_type": "execute_result"
    }
   ],
   "source": [
    "final_predictions"
   ]
  },
  {
   "cell_type": "code",
   "execution_count": 20,
   "id": "08dae8df",
   "metadata": {
    "execution": {
     "iopub.execute_input": "2021-08-31T19:30:52.967295Z",
     "iopub.status.busy": "2021-08-31T19:30:52.966203Z",
     "iopub.status.idle": "2021-08-31T19:30:52.978068Z",
     "shell.execute_reply": "2021-08-31T19:30:52.977388Z",
     "shell.execute_reply.started": "2021-08-31T19:13:52.509653Z"
    },
    "papermill": {
     "duration": 0.067876,
     "end_time": "2021-08-31T19:30:52.978198",
     "exception": false,
     "start_time": "2021-08-31T19:30:52.910322",
     "status": "completed"
    },
    "tags": []
   },
   "outputs": [
    {
     "data": {
      "text/plain": [
       "array([8.056488, 8.357185, 8.44478 , ..., 8.44242 , 8.131782, 8.001379],\n",
       "      dtype=float32)"
      ]
     },
     "execution_count": 20,
     "metadata": {},
     "output_type": "execute_result"
    }
   ],
   "source": [
    "final_preds = np.mean(np.column_stack(final_predictions), axis=1)\n",
    "final_preds"
   ]
  },
  {
   "cell_type": "markdown",
   "id": "85185dea",
   "metadata": {
    "papermill": {
     "duration": 0.04997,
     "end_time": "2021-08-31T19:30:53.078799",
     "exception": false,
     "start_time": "2021-08-31T19:30:53.028829",
     "status": "completed"
    },
    "tags": []
   },
   "source": [
    "## Storing the Final predictions (`final_preds`) in `hyperparameter optuna.csv`"
   ]
  },
  {
   "cell_type": "code",
   "execution_count": 21,
   "id": "c7cec782",
   "metadata": {
    "execution": {
     "iopub.execute_input": "2021-08-31T19:30:53.185591Z",
     "iopub.status.busy": "2021-08-31T19:30:53.184765Z",
     "iopub.status.idle": "2021-08-31T19:30:53.741660Z",
     "shell.execute_reply": "2021-08-31T19:30:53.741065Z",
     "shell.execute_reply.started": "2021-08-31T19:25:45.357973Z"
    },
    "papermill": {
     "duration": 0.612451,
     "end_time": "2021-08-31T19:30:53.741809",
     "exception": false,
     "start_time": "2021-08-31T19:30:53.129358",
     "status": "completed"
    },
    "tags": []
   },
   "outputs": [],
   "source": [
    "output = pd.DataFrame({\"Id\" : sample_submission.id,\"target\" : final_preds})\n",
    "output.to_csv('submission.csv', index=False)"
   ]
  }
 ],
 "metadata": {
  "kernelspec": {
   "display_name": "Python 3",
   "language": "python",
   "name": "python3"
  },
  "language_info": {
   "codemirror_mode": {
    "name": "ipython",
    "version": 3
   },
   "file_extension": ".py",
   "mimetype": "text/x-python",
   "name": "python",
   "nbconvert_exporter": "python",
   "pygments_lexer": "ipython3",
   "version": "3.7.10"
  },
  "papermill": {
   "default_parameters": {},
   "duration": 289.994918,
   "end_time": "2021-08-31T19:30:55.235315",
   "environment_variables": {},
   "exception": null,
   "input_path": "__notebook__.ipynb",
   "output_path": "__notebook__.ipynb",
   "parameters": {},
   "start_time": "2021-08-31T19:26:05.240397",
   "version": "2.3.3"
  }
 },
 "nbformat": 4,
 "nbformat_minor": 5
}
